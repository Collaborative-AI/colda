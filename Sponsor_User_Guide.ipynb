{
 "cells": [
  {
   "cell_type": "code",
   "execution_count": null,
   "metadata": {
    "id": "3zqIWJP7iWIQ"
   },
   "outputs": [],
   "source": [
    "%matplotlib inline"
   ]
  },
  {
   "cell_type": "markdown",
   "metadata": {
    "id": "x9tK4Q4SiWIR"
   },
   "source": [
    "\n",
    "\n",
    "colda Quickstart\n",
    "===================\n",
    "\n",
    "\n"
   ]
  },
  {
   "cell_type": "markdown",
   "metadata": {
    "id": "z1ckYv_6iWIS"
   },
   "source": [
    "The purpose of this document is to familiarize the user with the easy-to-use Python API for the colda Project, as proposed by **Enmao Diao, Jie Ding, and Vahid Tarokh** \n",
    "\n",
    "colda provides ``6`` main modules. ``colda.network`` for Network issue, ``colda.algorithm`` to handle algorithms used in colda, ``colda.database`` to store the temporary information, ``colda.PI`` to store the personal information of current user, ``colda.authorization`` to check the authorization/authentication of user, and the serveral main files in colda to handle the collaboration process.\n",
    "\n",
    "There are two important roles in this package, ``sponsor`` and ``assistor``.\n",
    "\n",
    "* ``Sponsor`` initates the task and get help from others.\n",
    "* ``Assistor`` helps sponsor through the task."
   ]
  },
  {
   "cell_type": "markdown",
   "metadata": {},
   "source": [
    "Installing a Package(Currently not implemented)\n",
    "-------------------\n",
    "\n"
   ]
  },
  {
   "cell_type": "code",
   "execution_count": null,
   "metadata": {},
   "outputs": [],
   "source": [
    "# python3 -m pip install colda"
   ]
  },
  {
   "cell_type": "markdown",
   "metadata": {},
   "source": [
    "Package colda\n",
    "-------------------\n"
   ]
  },
  {
   "cell_type": "code",
   "execution_count": 1,
   "metadata": {},
   "outputs": [
    {
     "ename": "SyntaxError",
     "evalue": "invalid syntax (<ipython-input-1-e4018e216a49>, line 1)",
     "output_type": "error",
     "traceback": [
      "\u001b[0;36m  File \u001b[0;32m\"<ipython-input-1-e4018e216a49>\"\u001b[0;36m, line \u001b[0;32m1\u001b[0m\n\u001b[0;31m    cd colda\u001b[0m\n\u001b[0m       ^\u001b[0m\n\u001b[0;31mSyntaxError\u001b[0m\u001b[0;31m:\u001b[0m invalid syntax\n"
     ]
    }
   ],
   "source": [
    "cd colda\n",
    "pipenv install\n",
    "pipenv shell\n",
    "python setup.py bdist_wheel"
   ]
  },
  {
   "cell_type": "markdown",
   "metadata": {},
   "source": [
    "\n",
    "> The .whl file would be generated under /dist folder"
   ]
  },
  {
   "cell_type": "markdown",
   "metadata": {},
   "source": [
    "Import .whl file\n",
    "-------------------"
   ]
  },
  {
   "cell_type": "code",
   "execution_count": 1,
   "metadata": {},
   "outputs": [
    {
     "name": "stdout",
     "output_type": "stream",
     "text": [
      "Processing ./colda-0.0.0-py3-none-any.whl\n",
      "Requirement already satisfied: typeguard in /opt/anaconda3/lib/python3.8/site-packages (from colda==0.0.0) (2.13.3)\n",
      "Requirement already satisfied: scikit-learn in /opt/anaconda3/lib/python3.8/site-packages (from colda==0.0.0) (1.0.2)\n",
      "Requirement already satisfied: numpy in /opt/anaconda3/lib/python3.8/site-packages (from colda==0.0.0) (1.20.1)\n",
      "Requirement already satisfied: scipy in /opt/anaconda3/lib/python3.8/site-packages (from colda==0.0.0) (1.6.2)\n",
      "Requirement already satisfied: matplotlib in /opt/anaconda3/lib/python3.8/site-packages (from colda==0.0.0) (3.3.4)\n",
      "Requirement already satisfied: torch in /opt/anaconda3/lib/python3.8/site-packages (from colda==0.0.0) (1.10.1)\n",
      "Requirement already satisfied: requests in /opt/anaconda3/lib/python3.8/site-packages (from colda==0.0.0) (2.25.1)\n",
      "Requirement already satisfied: pandas in /opt/anaconda3/lib/python3.8/site-packages (from colda==0.0.0) (1.2.4)\n",
      "Requirement already satisfied: pillow>=6.2.0 in /opt/anaconda3/lib/python3.8/site-packages (from matplotlib->colda==0.0.0) (8.2.0)\n",
      "Requirement already satisfied: kiwisolver>=1.0.1 in /opt/anaconda3/lib/python3.8/site-packages (from matplotlib->colda==0.0.0) (1.3.1)\n",
      "Requirement already satisfied: cycler>=0.10 in /opt/anaconda3/lib/python3.8/site-packages (from matplotlib->colda==0.0.0) (0.10.0)\n",
      "Requirement already satisfied: pyparsing!=2.0.4,!=2.1.2,!=2.1.6,>=2.0.3 in /opt/anaconda3/lib/python3.8/site-packages (from matplotlib->colda==0.0.0) (2.4.7)\n",
      "Requirement already satisfied: python-dateutil>=2.1 in /opt/anaconda3/lib/python3.8/site-packages (from matplotlib->colda==0.0.0) (2.8.1)\n",
      "Requirement already satisfied: six in /opt/anaconda3/lib/python3.8/site-packages (from cycler>=0.10->matplotlib->colda==0.0.0) (1.15.0)\n",
      "Requirement already satisfied: pytz>=2017.3 in /opt/anaconda3/lib/python3.8/site-packages (from pandas->colda==0.0.0) (2021.1)\n",
      "Requirement already satisfied: certifi>=2017.4.17 in /opt/anaconda3/lib/python3.8/site-packages (from requests->colda==0.0.0) (2020.12.5)\n",
      "Requirement already satisfied: urllib3<1.27,>=1.21.1 in /opt/anaconda3/lib/python3.8/site-packages (from requests->colda==0.0.0) (1.26.4)\n",
      "Requirement already satisfied: chardet<5,>=3.0.2 in /opt/anaconda3/lib/python3.8/site-packages (from requests->colda==0.0.0) (4.0.0)\n",
      "Requirement already satisfied: idna<3,>=2.5 in /opt/anaconda3/lib/python3.8/site-packages (from requests->colda==0.0.0) (2.10)\n",
      "Requirement already satisfied: threadpoolctl>=2.0.0 in /opt/anaconda3/lib/python3.8/site-packages (from scikit-learn->colda==0.0.0) (2.1.0)\n",
      "Requirement already satisfied: joblib>=0.11 in /opt/anaconda3/lib/python3.8/site-packages (from scikit-learn->colda==0.0.0) (1.0.1)\n",
      "Requirement already satisfied: typing-extensions in /opt/anaconda3/lib/python3.8/site-packages (from torch->colda==0.0.0) (3.7.4.3)\n",
      "colda is already installed with the same version as the provided wheel. Use --force-reinstall to force an installation of the wheel.\n"
     ]
    }
   ],
   "source": [
    "import os\n",
    "path=\"/Users/qile/Documents/synspot_all/colda/colda/dist\"\n",
    "os.chdir(path)\n",
    "os.listdir(path)\n",
    "!pip install colda-0.0.0-py3-none-any.whl"
   ]
  },
  {
   "cell_type": "markdown",
   "metadata": {},
   "source": [
    "Importing classes\n",
    "-------------------\n",
    "\n",
    "Run the following command to import colda. \n",
    "\n",
    "If you import successfully, ``test_fucntion_res`` should be 'test successfully'.\n"
   ]
  },
  {
   "cell_type": "code",
   "execution_count": 2,
   "metadata": {},
   "outputs": [
    {
     "name": "stdout",
     "output_type": "stream",
     "text": [
      "test successfully\n"
     ]
    }
   ],
   "source": [
    "import colda\n",
    "\n",
    "test_function_res = colda.test_function()\n",
    "print(test_function_res)"
   ]
  },
  {
   "cell_type": "markdown",
   "metadata": {},
   "source": [
    "You can use ``test_network`` to test network.\n",
    "If network connection is good, ``test successfully`` should be printed out, otherwise ``test failed`` should be printed out."
   ]
  },
  {
   "cell_type": "code",
   "execution_count": 4,
   "metadata": {},
   "outputs": [
    {
     "name": "stdout",
     "output_type": "stream",
     "text": [
      "test successfully\n"
     ]
    }
   ],
   "source": [
    "import colda\n",
    "\n",
    "print(colda.test_network())"
   ]
  },
  {
   "cell_type": "markdown",
   "metadata": {
    "id": "r6nqLPiyiWIS"
   },
   "source": [
    "Loading a Dataset\n",
    "-------------------\n",
    "\n",
    "BostonHousing contains information collected by the U.S Census Service concerning housing in the area of Boston Mass. It was obtained from the StatLib archive (http://lib.stat.cmu.edu/datasets/boston), and has been used extensively throughout the literature to benchmark algorithms. \n",
    "\n",
    "BostonHousing will be used in this tutorial. The dataset is small in size with only 506 cases. There are 14 attributes in each case of the dataset. "
   ]
  },
  {
   "cell_type": "code",
   "execution_count": null,
   "metadata": {
    "id": "bgdaWZjpiWIT"
   },
   "outputs": [],
   "source": [
    "#Not needed now\n"
   ]
  },
  {
   "cell_type": "markdown",
   "metadata": {
    "id": "ITUrW8P-iWIT"
   },
   "source": [
    "User Registeration\n",
    "-----------------\n",
    "\n",
    "First step is registering your own account. \n",
    "``register successfully`` will be printed if you login successfully.\n",
    "we offer a pre-registered account for the simple demo in the ``User Login`` section.\n",
    "\n",
    "1. If username, email and the password meet the requirements, ``True`` will be returned.\n",
    "2. If the any one of the username, email and the password does not meet the requirement, ``False`` will be returned and the instruction information will be printed in the terminal.\n",
    "\n",
    "> Password Requirements:\n",
    ">   1. At least 8 characters. At most 25 characters\n",
    ">   2. A mixture of both uppercase and lowercase letters\n",
    ">   3. A mixture of letters and numbers\n",
    ">   4. Inclusion of at least one special character, e.g., ! @ # ? ]"
   ]
  },
  {
   "cell_type": "code",
   "execution_count": null,
   "metadata": {
    "id": "fWbZcEuoiWIT"
   },
   "outputs": [],
   "source": [
    "import colda\n",
    "colda.register(username: str, email: str, password: str)"
   ]
  },
  {
   "cell_type": "markdown",
   "metadata": {},
   "source": [
    "User Login\n",
    "-----------------\n",
    "\n",
    "Login your account with userLogin function. ``login successfully`` will be printed if you login successfully.\n",
    "\n",
    "Here we offer a pre-registered account for the simple demo."
   ]
  },
  {
   "cell_type": "code",
   "execution_count": 6,
   "metadata": {},
   "outputs": [
    {
     "name": "stdout",
     "output_type": "stream",
     "text": [
      "login successfully, current username is: xie1\n"
     ]
    }
   ],
   "source": [
    "import colda\n",
    "colda.login(username='xie1', password='Xie1@123')"
   ]
  },
  {
   "cell_type": "markdown",
   "metadata": {},
   "source": [
    "Start Cooperation\n",
    "-----------------\n",
    "\n",
    "You can call this function to cooperate with others.\n",
    "If it starts successfully, ``cooperation starts`` will be printed."
   ]
  },
  {
   "cell_type": "code",
   "execution_count": 7,
   "metadata": {},
   "outputs": [
    {
     "name": "stdout",
     "output_type": "stream",
     "text": [
      "notification_category: {}\n",
      "cooperation starts\n",
      "notification_category: {}\n",
      "notification_category: {}\n"
     ]
    }
   ],
   "source": [
    "colda.start_cooperation()"
   ]
  },
  {
   "cell_type": "markdown",
   "metadata": {},
   "source": [
    "Call for Train\n",
    "-----------------\n",
    "\n",
    "If you treat yourself as a sponsor, after finishing login, you can start the training with one or more assistors. \n",
    "\n",
    "* Please fill in the ``train_file_path`` with the your own local data path.\n",
    "* Training ``train id`` will be printed out in the terminal in the following form: 'Training task_id: {task_id}'\n",
    "\n",
    "If you do not have assistors to collaborate with you and you want to be sponsor and assistor at the same time, please open and finish until Start Cooperation step in Assistor_User_Guide before doing this step."
   ]
  },
  {
   "cell_type": "code",
   "execution_count": 8,
   "metadata": {},
   "outputs": [
    {
     "name": "stdout",
     "output_type": "stream",
     "text": [
      "Training train_id:  85717cf0-0255-11ed-b0ea-860c90800ff7\n",
      "Sponsor: Training train_id:  85717cf0-0255-11ed-b0ea-860c90800ff7  is running\n",
      "Sponsor stage 1: find assistor done\n",
      "notification_category: {'unread_match_identifier': {'train_id_dicts': {'85717cf0-0255-11ed-b0ea-860c90800ff7': {'cur_rounds_num': 1, 'role': 'sponsor', 'sender_random_id': '8591a6f6-0255-11ed-b0ea-860c90800ff7'}}}}\n",
      "Sponsor: Training train_id:  85717cf0-0255-11ed-b0ea-860c90800ff7  is running\n",
      "Sponsor stage 2: match id done\n",
      "notification_category: {'unread_output': {'train_id_dicts': {'85717cf0-0255-11ed-b0ea-860c90800ff7': {'cur_rounds_num': 1, 'role': 'sponsor', 'sender_random_id': '88d79492-0255-11ed-b0ea-860c90800ff7'}}}, 'unread_situation': {'train_id_dicts': {'85717cf0-0255-11ed-b0ea-860c90800ff7': {'cur_rounds_num': 1, 'role': 'sponsor', 'sender_random_id': '8591a6f6-0255-11ed-b0ea-860c90800ff7'}}}}\n",
      "Sponsor: Training train_id:  85717cf0-0255-11ed-b0ea-860c90800ff7  is running\n",
      "Sponsor stage 3: situation done\n",
      "async: ['trained_cooperative_model', 'rounds_1']\n",
      "Sponsor: Training train_id:  85717cf0-0255-11ed-b0ea-860c90800ff7  is running\n",
      "Sponsor stage 4: output done\n",
      "notification_category: {'unread_output': {'train_id_dicts': {'85717cf0-0255-11ed-b0ea-860c90800ff7': {'cur_rounds_num': 2, 'role': 'sponsor', 'sender_random_id': '88d79492-0255-11ed-b0ea-860c90800ff7'}}}, 'unread_situation': {'train_id_dicts': {'85717cf0-0255-11ed-b0ea-860c90800ff7': {'cur_rounds_num': 2, 'role': 'sponsor', 'sender_random_id': '8591a6f6-0255-11ed-b0ea-860c90800ff7'}}}}\n",
      "Sponsor: Training train_id:  85717cf0-0255-11ed-b0ea-860c90800ff7  is running\n",
      "Sponsor stage 3: situation done\n",
      "async: ['trained_cooperative_model', 'rounds_2']\n",
      "Sponsor stage 4: output done\n",
      "Sponsor: Training train_id:  85717cf0-0255-11ed-b0ea-860c90800ff7  ends\n",
      "notification_category: {}\n",
      "notification_category: {}\n",
      "notification_category: {}\n",
      "notification_category: {}\n",
      "notification_category: {}\n",
      "notification_category: {}\n",
      "notification_category: {}\n"
     ]
    }
   ],
   "source": [
    "train_file_path = \"/Users/qile/Documents/synspot_all/synspot_Data/data/BostonHousing/BostonHousing_2_123_1.0/0/train/dataset.csv\"\n",
    "colda.call_for_train(\n",
    "    max_round=2, \n",
    "    assistors=['xie2'], \n",
    "    train_file_path=train_file_path,\n",
    "    train_id_column='1', \n",
    "    train_data_column='2-8', \n",
    "    train_target_column='9', \n",
    "    task_mode='regression', \n",
    "    model_name='linear', \n",
    "    metric_name='MAD_RMSE_R2', \n",
    "    task_name='demo_training', \n",
    "    task_description='colda Demo Training'\n",
    ")"
   ]
  },
  {
   "cell_type": "markdown",
   "metadata": {},
   "source": [
    "Call for Test\n",
    "-----------------\n",
    "\n",
    "After finishing training task, you can start the testing with the assistors in the above task.\n",
    "\n",
    "* Please fill in the ``train_id`` with the ``train_id`` that printed out in the terminal.\n",
    "* Please fill in the ``test_file_path`` with the your own local data path.\n",
    "Here we offer another pre-registered account as the assistor for the simple demo."
   ]
  },
  {
   "cell_type": "code",
   "execution_count": 9,
   "metadata": {},
   "outputs": [
    {
     "name": "stdout",
     "output_type": "stream",
     "text": [
      "Testing test_id:  c48a466a-0255-11ed-b0ea-860c90800ff7\n",
      "Sponsor: Testing test_id:  c48a466a-0255-11ed-b0ea-860c90800ff7  is running\n",
      "Sponsor test stage 1: find assistor done\n",
      "notification_category: {'unread_test_match_identifier': {'test_id_dicts': {'c48a466a-0255-11ed-b0ea-860c90800ff7': {'cur_rounds_num': 1, 'role': 'sponsor', 'sender_random_id': 'c4aece68-0255-11ed-b0ea-860c90800ff7', 'train_id': '85717cf0-0255-11ed-b0ea-860c90800ff7'}}}}\n",
      "Sponsor: Testing test_id: c48a466a-0255-11ed-b0ea-860c90800ff7 is running\n",
      "Sponsor test stage 2: match_id done\n",
      "notification_category: {'unread_test_output': {'test_id_dicts': {'c48a466a-0255-11ed-b0ea-860c90800ff7': {'cur_rounds_num': 1, 'role': 'sponsor', 'sender_random_id': 'c6d4eac4-0255-11ed-b0ea-860c90800ff7', 'train_id': '85717cf0-0255-11ed-b0ea-860c90800ff7'}}}}\n",
      "async: test_cooperative_model_outputs\n",
      "Sponsor test stage 3: output done\n",
      "notification_category: {}\n"
     ]
    }
   ],
   "source": [
    "import colda\n",
    "\n",
    "train_id = '85717cf0-0255-11ed-b0ea-860c90800ff7'\n",
    "test_file_path = \"/Users/qile/Documents/synspot_all/synspot_Data/data/BostonHousing/BostonHousing_2_123_1.0/0/test/dataset.csv\"\n",
    "colda.call_for_test(\n",
    "    train_id=train_id, \n",
    "    test_file_path=test_file_path, \n",
    "    test_id_column='1', \n",
    "    test_data_column='2-8', \n",
    "    test_target_column='9',  \n",
    "    test_name='demo_testing', \n",
    "    test_description='colda Demo Testing'\n",
    ")\n"
   ]
  },
  {
   "cell_type": "markdown",
   "metadata": {},
   "source": [
    "Stop Cooperation\n",
    "-----------------\n",
    "\n",
    "You can call this function to not receiving any request from others.\n",
    "\n",
    "If it ends successfully, ``cooperation ends`` will be printed."
   ]
  },
  {
   "cell_type": "code",
   "execution_count": 7,
   "metadata": {},
   "outputs": [
    {
     "name": "stdout",
     "output_type": "stream",
     "text": [
      "cooperation ends\n"
     ]
    }
   ],
   "source": [
    "colda.end_cooperation()"
   ]
  },
  {
   "cell_type": "markdown",
   "metadata": {},
   "source": [
    "Check algorithm results\n",
    "-----------------\n",
    "\n",
    "You can call this function to print out all results\n",
    "produced by algorithm part."
   ]
  },
  {
   "cell_type": "code",
   "execution_count": 8,
   "metadata": {},
   "outputs": [
    {
     "name": "stdout",
     "output_type": "stream",
     "text": [
      "algooo1 140439262344960\n",
      "defaultdict(<class 'list'>, {('62c0970d27a9b929fa92c37a', 'ad4afb26-fa93-11ec-84d4-06122533e29a'): {'sponsor_trained_cooperative_model_output': {'rounds_1': array([[-8.290072653073505],\n",
      "       [-1.670738561211667],\n",
      "       [-13.951309641905038],\n",
      "       [12.42508810469897]], dtype=object), 'rounds_2': array([[0.050664192731225854],\n",
      "       [-3.0808679937874888],\n",
      "       [0.5027218703586945],\n",
      "       [-0.9420360604161009]], dtype=object)}, 'assistor_trained_cooperative_model_output': {'rounds_1': array([[13.470918717764574],\n",
      "       [-7.717711517444426],\n",
      "       [2.183919470355033],\n",
      "       [11.851574262256309]], dtype=object), 'rounds_2': array([[-1.7475210836806674],\n",
      "       [-1.1949753261037463],\n",
      "       [-0.8704192671418104],\n",
      "       [-0.23935090408652338]], dtype=object)}, 'make_result_alpha': {'rounds_1': array([0.57166347]), 'rounds_2': array([0.80241887])}, 'make_result_cooperative_model_output': {'rounds_1': array([[-2.0334182181622054],\n",
      "       [0.3542900349326359],\n",
      "       [-16.01616891565756],\n",
      "       [11.081501982878581]], dtype=object), 'rounds_2': array([[0.9361172696114346],\n",
      "       [-2.0495432076220177],\n",
      "       [-0.28258676933085053],\n",
      "       [-0.971010260919737]], dtype=object)}, 'make_result': {'rounds_1': array([[21.285093841622718],\n",
      "       [22.65005942258602],\n",
      "       [13.29166608321323],\n",
      "       [28.782414608637676]], dtype=object), 'rounds_2': array([[22.03625200272052],\n",
      "       [21.005467279160573],\n",
      "       [13.064913127262274],\n",
      "       [28.003257652904644]], dtype=object)}}, ('62c0970d27a9b929fa92c37a', 'c8217394-fa93-11ec-84d4-06122533e29a'): {'make_test': defaultdict(<class 'list'>, {'rounds_1': [-15.621456914132295, -7.639779830838925, -3.1797518200402197, -3.7762602445518145], 'rounds_2': [-2.1377905293640773, 1.6041707014400772, -1.7659491731467254, -0.9122425712275062]}), 'make_eval': defaultdict(<class 'dict'>, {'rounds_1': {'MAD': 3.547626930739649, 'RMSE': 5.212703933212452, 'R2': 0.46996771154915495}, 'rounds_2': {'MAD': 3.5422086378260462, 'RMSE': 5.197439492554521, 'R2': 0.4514148193624189}})}})\n",
      "short polling has already stoped\n"
     ]
    }
   ],
   "source": [
    "import colda\n",
    "print(colda.get_all_algo_logs())"
   ]
  },
  {
   "cell_type": "markdown",
   "metadata": {},
   "source": [
    "User Logout\n",
    "-----------------\n",
    "\n",
    "You can call userLogout() to logout.\n",
    "\n",
    "* All the personal information and the database will be cleaned.\n",
    "* If you want to save the database to designated position, we offer the api in the following part.\n",
    "* If logout successfully, ``logout done`` will be printed."
   ]
  },
  {
   "cell_type": "code",
   "execution_count": null,
   "metadata": {
    "id": "EuWHRx7biWIU"
   },
   "outputs": [],
   "source": [
    "colda.logout()"
   ]
  },
  {
   "cell_type": "markdown",
   "metadata": {
    "id": "h9GctVnQiWIU"
   },
   "source": [
    "--------------\n",
    "\n",
    "\n"
   ]
  },
  {
   "cell_type": "markdown",
   "metadata": {
    "id": "9k6f65DoiWIV"
   },
   "source": [
    "Some api to retrieve information stored in database\n",
    "---------------------------------------------------\n",
    "\n",
    "Get all task id of training as sponsor.\n",
    "``List`` will be returned."
   ]
  },
  {
   "cell_type": "code",
   "execution_count": null,
   "metadata": {},
   "outputs": [],
   "source": [
    "task_id_list = colda.get_all_task_id_as_sponsor()\n",
    "print(task_id_list)"
   ]
  },
  {
   "cell_type": "markdown",
   "metadata": {},
   "source": [
    "Get all test id of testing as sponsor.\n",
    "``List`` will be returned."
   ]
  },
  {
   "cell_type": "code",
   "execution_count": null,
   "metadata": {},
   "outputs": [],
   "source": [
    "test_id_list = colda.get_all_test_id_as_sponsor()\n",
    "print(test_id_list)"
   ]
  },
  {
   "cell_type": "markdown",
   "metadata": {},
   "source": [
    "Get all task id of training as assistor.\n",
    "``List`` will be returned."
   ]
  },
  {
   "cell_type": "code",
   "execution_count": null,
   "metadata": {},
   "outputs": [],
   "source": [
    "task_id_list = colda.get_all_task_id_as_assistor()\n",
    "print(task_id_list)"
   ]
  },
  {
   "cell_type": "markdown",
   "metadata": {},
   "source": [
    "Get all task id of testing as assistor.\n",
    "``List`` will be returned."
   ]
  },
  {
   "cell_type": "code",
   "execution_count": null,
   "metadata": {},
   "outputs": [],
   "source": [
    "test_id_list = colda.get_all_test_id_as_assistor()\n",
    "print(test_id_list)"
   ]
  },
  {
   "cell_type": "markdown",
   "metadata": {},
   "source": [
    "Get all task id of training.\n",
    "``List`` will be returned."
   ]
  },
  {
   "cell_type": "code",
   "execution_count": null,
   "metadata": {},
   "outputs": [],
   "source": [
    "task_id_list = colda.get_all_task_id()\n",
    "print(task_id_list)"
   ]
  },
  {
   "cell_type": "markdown",
   "metadata": {},
   "source": [
    "Get all test id of testing.\n",
    "``List`` will be returned."
   ]
  },
  {
   "cell_type": "code",
   "execution_count": null,
   "metadata": {
    "id": "BpqB2WmMiWIV"
   },
   "outputs": [],
   "source": [
    "test_id_list = colda.get_all_test_id()\n",
    "print(test_id_list)"
   ]
  },
  {
   "cell_type": "markdown",
   "metadata": {
    "id": "DqU9dn-kiWIV"
   },
   "source": [
    "To store the temporary database in the memory.\n",
    "\n",
    "If the temporary database has been stored successfully, ``True`` will be returned."
   ]
  },
  {
   "cell_type": "code",
   "execution_count": null,
   "metadata": {
    "id": "GL7nVUYQiWIV"
   },
   "outputs": [],
   "source": [
    "store_database_res = colda.store_database(path=None, mode='pickle')\n",
    "print(store_database_res)"
   ]
  },
  {
   "cell_type": "markdown",
   "metadata": {
    "id": "hGhDiexNiWIW"
   },
   "source": [
    "--------------\n",
    "\n",
    "\n"
   ]
  }
 ],
 "metadata": {
  "colab": {
   "name": "data_tutorial.ipynb",
   "provenance": []
  },
  "kernelspec": {
   "display_name": "Python 3",
   "language": "python",
   "name": "python3"
  },
  "language_info": {
   "codemirror_mode": {
    "name": "ipython",
    "version": 3
   },
   "file_extension": ".py",
   "mimetype": "text/x-python",
   "name": "python",
   "nbconvert_exporter": "python",
   "pygments_lexer": "ipython3",
   "version": "3.8.8"
  },
  "vscode": {
   "interpreter": {
    "hash": "e028db1ec47f37f5a1777ef1e2838aa35511aa85586650bf73e7e1d92c4e3ed0"
   }
  }
 },
 "nbformat": 4,
 "nbformat_minor": 1
}
