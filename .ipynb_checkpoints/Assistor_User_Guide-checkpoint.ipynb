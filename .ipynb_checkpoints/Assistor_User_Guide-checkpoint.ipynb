{
 "cells": [
  {
   "cell_type": "code",
   "execution_count": null,
   "metadata": {
    "id": "3zqIWJP7iWIQ"
   },
   "outputs": [],
   "source": [
    "%matplotlib inline"
   ]
  },
  {
   "cell_type": "markdown",
   "metadata": {
    "id": "x9tK4Q4SiWIR"
   },
   "source": [
    "\n",
    "\n",
    "Synspot Quickstart\n",
    "===================\n",
    "\n",
    "\n"
   ]
  },
  {
   "cell_type": "markdown",
   "metadata": {
    "id": "z1ckYv_6iWIS"
   },
   "source": [
    "The purpose of this document is to familiarize the user with the easy-to-use Python API for the synspot Project, as proposed by **Enmao Diao, Jie Ding, and Vahid Tarokh** \n",
    "\n",
    "Synspot provides ``6`` main modules. ``synspot.network`` for Network issue, ``synspot.algorithm`` to handle algorithms used in synspot, ``synspot.database`` to store the temporary information, ``synspot.personalinformation`` to store the personal information of current user, ``synspot.authorization`` to check the authorization/authentication of user, and the serveral main files in synspot to handle the collaboration process.\n",
    "\n",
    "There are two important roles in this package, ``sponsor`` and ``assistor``.\n",
    "\n",
    "* ``Sponsor`` initates the task and get help from others.\n",
    "* ``Assistor`` helps sponsor through the task."
   ]
  },
  {
   "cell_type": "markdown",
   "metadata": {},
   "source": [
    "Installing a Package\n",
    "-------------------\n",
    "\n"
   ]
  },
  {
   "cell_type": "code",
   "execution_count": null,
   "metadata": {},
   "outputs": [],
   "source": [
    "# python3 -m pip install synspot"
   ]
  },
  {
   "cell_type": "code",
   "execution_count": 1,
   "metadata": {},
   "outputs": [
    {
     "name": "stdout",
     "output_type": "stream",
     "text": [
      "Processing ./synspot-0.0.0-py3-none-any.whl\n",
      "Requirement already satisfied: pandas in /Users/qile/.local/share/virtualenvs/synspot-OGlsVrR-/lib/python3.7/site-packages (from synspot==0.0.0) (1.3.5)\n",
      "Requirement already satisfied: requests in /Users/qile/.local/share/virtualenvs/synspot-OGlsVrR-/lib/python3.7/site-packages (from synspot==0.0.0) (2.27.1)\n",
      "Requirement already satisfied: matplotlib in /Users/qile/.local/share/virtualenvs/synspot-OGlsVrR-/lib/python3.7/site-packages (from synspot==0.0.0) (3.5.1)\n",
      "Requirement already satisfied: numpy in /Users/qile/.local/share/virtualenvs/synspot-OGlsVrR-/lib/python3.7/site-packages (from synspot==0.0.0) (1.21.5)\n",
      "Requirement already satisfied: scipy in /Users/qile/.local/share/virtualenvs/synspot-OGlsVrR-/lib/python3.7/site-packages (from synspot==0.0.0) (1.7.3)\n",
      "Requirement already satisfied: torch in /Users/qile/.local/share/virtualenvs/synspot-OGlsVrR-/lib/python3.7/site-packages (from synspot==0.0.0) (1.10.2)\n",
      "Requirement already satisfied: scikit-learn in /Users/qile/.local/share/virtualenvs/synspot-OGlsVrR-/lib/python3.7/site-packages (from synspot==0.0.0) (1.0.2)\n",
      "Requirement already satisfied: fonttools>=4.22.0 in /Users/qile/.local/share/virtualenvs/synspot-OGlsVrR-/lib/python3.7/site-packages (from matplotlib->synspot==0.0.0) (4.29.1)\n",
      "Requirement already satisfied: pillow>=6.2.0 in /Users/qile/.local/share/virtualenvs/synspot-OGlsVrR-/lib/python3.7/site-packages (from matplotlib->synspot==0.0.0) (9.0.1)\n",
      "Requirement already satisfied: python-dateutil>=2.7 in /Users/qile/.local/share/virtualenvs/synspot-OGlsVrR-/lib/python3.7/site-packages (from matplotlib->synspot==0.0.0) (2.8.2)\n",
      "Requirement already satisfied: packaging>=20.0 in /Users/qile/.local/share/virtualenvs/synspot-OGlsVrR-/lib/python3.7/site-packages (from matplotlib->synspot==0.0.0) (21.3)\n",
      "Requirement already satisfied: kiwisolver>=1.0.1 in /Users/qile/.local/share/virtualenvs/synspot-OGlsVrR-/lib/python3.7/site-packages (from matplotlib->synspot==0.0.0) (1.3.2)\n",
      "Requirement already satisfied: cycler>=0.10 in /Users/qile/.local/share/virtualenvs/synspot-OGlsVrR-/lib/python3.7/site-packages (from matplotlib->synspot==0.0.0) (0.11.0)\n",
      "Requirement already satisfied: pyparsing>=2.2.1 in /Users/qile/.local/share/virtualenvs/synspot-OGlsVrR-/lib/python3.7/site-packages (from matplotlib->synspot==0.0.0) (3.0.7)\n",
      "Requirement already satisfied: pytz>=2017.3 in /Users/qile/.local/share/virtualenvs/synspot-OGlsVrR-/lib/python3.7/site-packages (from pandas->synspot==0.0.0) (2021.3)\n",
      "Requirement already satisfied: urllib3<1.27,>=1.21.1 in /Users/qile/.local/share/virtualenvs/synspot-OGlsVrR-/lib/python3.7/site-packages (from requests->synspot==0.0.0) (1.26.8)\n",
      "Requirement already satisfied: charset-normalizer~=2.0.0 in /Users/qile/.local/share/virtualenvs/synspot-OGlsVrR-/lib/python3.7/site-packages (from requests->synspot==0.0.0) (2.0.12)\n",
      "Requirement already satisfied: certifi>=2017.4.17 in /Users/qile/.local/share/virtualenvs/synspot-OGlsVrR-/lib/python3.7/site-packages (from requests->synspot==0.0.0) (2021.10.8)\n",
      "Requirement already satisfied: idna<4,>=2.5 in /Users/qile/.local/share/virtualenvs/synspot-OGlsVrR-/lib/python3.7/site-packages (from requests->synspot==0.0.0) (3.3)\n",
      "Requirement already satisfied: joblib>=0.11 in /Users/qile/.local/share/virtualenvs/synspot-OGlsVrR-/lib/python3.7/site-packages (from scikit-learn->synspot==0.0.0) (1.1.0)\n",
      "Requirement already satisfied: threadpoolctl>=2.0.0 in /Users/qile/.local/share/virtualenvs/synspot-OGlsVrR-/lib/python3.7/site-packages (from scikit-learn->synspot==0.0.0) (3.1.0)\n",
      "Requirement already satisfied: typing-extensions in /Users/qile/.local/share/virtualenvs/synspot-OGlsVrR-/lib/python3.7/site-packages (from torch->synspot==0.0.0) (4.1.1)\n",
      "Requirement already satisfied: six>=1.5 in /Users/qile/.local/share/virtualenvs/synspot-OGlsVrR-/lib/python3.7/site-packages (from python-dateutil>=2.7->matplotlib->synspot==0.0.0) (1.16.0)\n",
      "synspot is already installed with the same version as the provided wheel. Use --force-reinstall to force an installation of the wheel.\n"
     ]
    }
   ],
   "source": [
    "import os\n",
    "path=\"/Users/qile/Documents/Apollo_Package/synspot/dist\"\n",
    "os.chdir(path)\n",
    "os.listdir(path)\n",
    "!pip install synspot-0.0.0-py3-none-any.whl"
   ]
  },
  {
   "cell_type": "markdown",
   "metadata": {},
   "source": [
    "Importing classes\n",
    "-------------------\n",
    "\n",
    "Run the following command to import synspot. \n",
    "\n",
    "If you import successfully, ``test_fucntion_res`` should be 'test successfully'.\n"
   ]
  },
  {
   "cell_type": "code",
   "execution_count": 2,
   "metadata": {},
   "outputs": [
    {
     "name": "stdout",
     "output_type": "stream",
     "text": [
      "test successfully\n"
     ]
    }
   ],
   "source": [
    "import synspot\n",
    "\n",
    "test_function_res = synspot.test_function()\n",
    "print(test_function_res)"
   ]
  },
  {
   "cell_type": "markdown",
   "metadata": {
    "id": "r6nqLPiyiWIS"
   },
   "source": [
    "Loading a Dataset\n",
    "-------------------\n",
    "\n",
    "BostonHousing contains information collected by the U.S Census Service concerning housing in the area of Boston Mass. It was obtained from the StatLib archive (http://lib.stat.cmu.edu/datasets/boston), and has been used extensively throughout the literature to benchmark algorithms. \n",
    "\n",
    "BostonHousing will be used in this tutorial. The dataset is small in size with only 506 cases. There are 14 attributes in each case of the dataset. "
   ]
  },
  {
   "cell_type": "code",
   "execution_count": null,
   "metadata": {
    "id": "bgdaWZjpiWIT"
   },
   "outputs": [],
   "source": [
    "import torch\n",
    "from torch.utils.data import Dataset\n",
    "from torchvision import datasets\n",
    "from torchvision.transforms import ToTensor\n",
    "import matplotlib.pyplot as plt\n"
   ]
  },
  {
   "cell_type": "markdown",
   "metadata": {
    "id": "ITUrW8P-iWIT"
   },
   "source": [
    "User Registeration\n",
    "-----------------\n",
    "\n",
    "First step is registering your own account. \n",
    "\n",
    "1. If username, email and the password meet the requirements, ``True`` will be returned.\n",
    "2. If the any one of the username, email and the password does not meet the requirement, ``False`` will be returned and the instruction information will be printed in the terminal."
   ]
  },
  {
   "cell_type": "code",
   "execution_count": null,
   "metadata": {
    "id": "fWbZcEuoiWIT"
   },
   "outputs": [],
   "source": [
    "import synspot\n",
    "synspot.userRegister(username: str, email: str, password: str)"
   ]
  },
  {
   "cell_type": "markdown",
   "metadata": {},
   "source": [
    "User Login\n",
    "-----------------\n",
    "\n",
    "Login your account with userLogin function. ``True`` will be returned if you login successfully, otherwise ``False``. \n",
    "\n",
    "Here we offer a pre-registered account for the simple demo."
   ]
  },
  {
   "cell_type": "code",
   "execution_count": 3,
   "metadata": {},
   "outputs": [
    {
     "name": "stdout",
     "output_type": "stream",
     "text": [
      "url http://127.0.0.1:5000/tokens xie2 Xie2@123\n",
      "token_response <Response [200]>\n",
      "length 114\n",
      "length_after 116\n",
      "login user_id 2\n",
      "ressss True\n",
      "True\n"
     ]
    }
   ],
   "source": [
    "import synspot\n",
    "res = synspot.userLogin(username='xie2', password='Xie2@123')\n",
    "print(res)"
   ]
  },
  {
   "cell_type": "markdown",
   "metadata": {},
   "source": [
    "Set default information\n",
    "-----------------\n",
    "\n",
    "Set the default information for later usage as assistor.\n",
    "\n",
    "* This function must be set if you want to be assistor.\n",
    "* Please fill in the ``default_file_path`` with the your own local data path.\n",
    "* ``True`` will be returned if you set default information successfully, otherwise ``False``. "
   ]
  },
  {
   "cell_type": "code",
   "execution_count": 4,
   "metadata": {},
   "outputs": [
    {
     "name": "stdout",
     "output_type": "stream",
     "text": [
      "True\n"
     ]
    }
   ],
   "source": [
    "default_file_path = '/Users/qile/Documents/synspot_Data/data/BostonHousing/BostonHousing_2_123_1.0/1/all/dataset.csv'\n",
    "set_default_data_path_res = synspot.set_default_data_path(default_mode='auto', default_task_mode='regression', \n",
    "                                    default_model_name='linear', default_file_path=default_file_path,\n",
    "                                    default_id_column='1', default_data_column='2-7')\n",
    "print(set_default_data_path_res)"
   ]
  },
  {
   "cell_type": "markdown",
   "metadata": {},
   "source": [
    "Start Collaboration\n",
    "-----------------\n",
    "\n",
    "You can call this function to collaborate with others."
   ]
  },
  {
   "cell_type": "code",
   "execution_count": 5,
   "metadata": {},
   "outputs": [
    {
     "name": "stdout",
     "output_type": "stream",
     "text": [
      "ggg http://127.0.0.1:5000 2\n",
      "get notification url http://127.0.0.1:5000/users/2/notifications/\n",
      "short_polling_res <Response [200]>\n",
      "lihjai a \n",
      "ggg http://127.0.0.1:5000 2\n",
      "get notification url http://127.0.0.1:5000/users/2/notifications/\n",
      "short_polling_res <Response [200]>\n",
      "lihjai a \n",
      "ggg http://127.0.0.1:5000 2\n",
      "get notification url http://127.0.0.1:5000/users/2/notifications/\n",
      "short_polling_res <Response [200]>\n",
      "lihjai a \n",
      "ggg http://127.0.0.1:5000 2\n",
      "get notification url http://127.0.0.1:5000/users/2/notifications/\n",
      "short_polling_res <Response [200]>\n",
      "lihjai a \n",
      "ggg http://127.0.0.1:5000 2\n",
      "get notification url http://127.0.0.1:5000/users/2/notifications/\n",
      "short_polling_res <Response [200]>\n",
      "lihjai a \n",
      "ggg http://127.0.0.1:5000 2\n",
      "get notification url http://127.0.0.1:5000/users/2/notifications/\n",
      "short_polling_res <Response [200]>\n",
      "lihjai a \n",
      "ggg http://127.0.0.1:5000 2\n",
      "get notification url http://127.0.0.1:5000/users/2/notifications/\n",
      "short_polling_res <Response [200]>\n",
      "lihjai a \n",
      "ggg http://127.0.0.1:5000 2\n",
      "get notification url http://127.0.0.1:5000/users/2/notifications/\n",
      "short_polling_res <Response [200]>\n",
      "lihjai a \n",
      "ggg http://127.0.0.1:5000 2\n",
      "get notification url http://127.0.0.1:5000/users/2/notifications/\n",
      "short_polling_res <Response [200]>\n",
      "lihjai a \n",
      "ggg http://127.0.0.1:5000 2\n",
      "get notification url http://127.0.0.1:5000/users/2/notifications/\n",
      "short_polling_res <Response [200]>\n",
      "lihjai a \n"
     ]
    }
   ],
   "source": [
    "synspot.start_Collaboration()"
   ]
  },
  {
   "cell_type": "markdown",
   "metadata": {},
   "source": [
    "Stop Collaboration\n",
    "-----------------\n",
    "\n",
    "You can call this function to not receiving any request from others.\n",
    "\n",
    "If it ends successfully, ``True`` will be returned."
   ]
  },
  {
   "cell_type": "code",
   "execution_count": null,
   "metadata": {},
   "outputs": [],
   "source": [
    "end_Collaboration_res = synspot.end_Collaboration()\n",
    "print(end_Collaboration_res)"
   ]
  },
  {
   "cell_type": "markdown",
   "metadata": {},
   "source": [
    "User Logout\n",
    "-----------------\n",
    "\n",
    "You can call userLogout() to logout.\n",
    "\n",
    "* All the personal information and the database will be cleaned.\n",
    "* If you want to save the database to designated position, we offer the api in the following part."
   ]
  },
  {
   "cell_type": "code",
   "execution_count": null,
   "metadata": {
    "id": "EuWHRx7biWIU"
   },
   "outputs": [],
   "source": [
    "synspot.userLogout()"
   ]
  },
  {
   "cell_type": "markdown",
   "metadata": {
    "id": "h9GctVnQiWIU"
   },
   "source": [
    "--------------\n",
    "\n",
    "\n"
   ]
  },
  {
   "cell_type": "markdown",
   "metadata": {
    "id": "9k6f65DoiWIV"
   },
   "source": [
    "Some api to retrieve information stored in database\n",
    "---------------------------------------------------\n",
    "\n",
    "Get all task id of training as sponsor.\n",
    "``List`` will be returned."
   ]
  },
  {
   "cell_type": "code",
   "execution_count": null,
   "metadata": {},
   "outputs": [],
   "source": [
    "task_id_list = synspot.get_all_task_id_as_sponsor()\n",
    "print(task_id_list)"
   ]
  },
  {
   "cell_type": "markdown",
   "metadata": {},
   "source": [
    "Get all test id of testing as sponsor.\n",
    "``List`` will be returned."
   ]
  },
  {
   "cell_type": "code",
   "execution_count": null,
   "metadata": {},
   "outputs": [],
   "source": [
    "test_id_list = synspot.get_all_test_id_as_sponsor()\n",
    "print(test_id_list)"
   ]
  },
  {
   "cell_type": "markdown",
   "metadata": {},
   "source": [
    "Get all task id of training as assistor.\n",
    "``List`` will be returned."
   ]
  },
  {
   "cell_type": "code",
   "execution_count": null,
   "metadata": {},
   "outputs": [],
   "source": [
    "task_id_list = synspot.get_all_task_id_as_assistor()\n",
    "print(task_id_list)"
   ]
  },
  {
   "cell_type": "markdown",
   "metadata": {},
   "source": [
    "Get all task id of testing as assistor.\n",
    "``List`` will be returned."
   ]
  },
  {
   "cell_type": "code",
   "execution_count": null,
   "metadata": {},
   "outputs": [],
   "source": [
    "test_id_list = synspot.get_all_test_id_as_assistor()\n",
    "print(test_id_list)"
   ]
  },
  {
   "cell_type": "markdown",
   "metadata": {},
   "source": [
    "Get all task id of training.\n",
    "``List`` will be returned."
   ]
  },
  {
   "cell_type": "code",
   "execution_count": null,
   "metadata": {},
   "outputs": [],
   "source": [
    "task_id_list = synspot.get_all_task_id()\n",
    "print(task_id_list)"
   ]
  },
  {
   "cell_type": "markdown",
   "metadata": {},
   "source": [
    "Get all test id of testing.\n",
    "``List`` will be returned."
   ]
  },
  {
   "cell_type": "code",
   "execution_count": null,
   "metadata": {
    "id": "BpqB2WmMiWIV"
   },
   "outputs": [],
   "source": [
    "test_id_list = synspot.get_all_test_id()\n",
    "print(test_id_list)"
   ]
  },
  {
   "cell_type": "markdown",
   "metadata": {
    "id": "DqU9dn-kiWIV"
   },
   "source": [
    "To store the temporary database in the memory.\n",
    "\n",
    "If the temporary database has been stored successfully, ``True`` will be returned."
   ]
  },
  {
   "cell_type": "code",
   "execution_count": null,
   "metadata": {
    "id": "GL7nVUYQiWIV"
   },
   "outputs": [],
   "source": [
    "store_database_res = synspot.store_database(path=None, mode='pickle')\n",
    "print(store_database_res)"
   ]
  },
  {
   "cell_type": "markdown",
   "metadata": {
    "id": "hGhDiexNiWIW"
   },
   "source": [
    "--------------\n",
    "\n",
    "\n"
   ]
  }
 ],
 "metadata": {
  "colab": {
   "name": "data_tutorial.ipynb",
   "provenance": []
  },
  "kernelspec": {
   "display_name": "Python 3",
   "language": "python",
   "name": "python3"
  },
  "language_info": {
   "codemirror_mode": {
    "name": "ipython",
    "version": 3
   },
   "file_extension": ".py",
   "mimetype": "text/x-python",
   "name": "python",
   "nbconvert_exporter": "python",
   "pygments_lexer": "ipython3",
   "version": "3.8.8"
  }
 },
 "nbformat": 4,
 "nbformat_minor": 1
}
