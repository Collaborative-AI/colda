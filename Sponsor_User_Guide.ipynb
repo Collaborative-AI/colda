{
 "cells": [
  {
   "cell_type": "code",
   "execution_count": null,
   "metadata": {
    "id": "3zqIWJP7iWIQ"
   },
   "outputs": [],
   "source": [
    "%matplotlib inline"
   ]
  },
  {
   "cell_type": "markdown",
   "metadata": {
    "id": "x9tK4Q4SiWIR"
   },
   "source": [
    "\n",
    "\n",
    "Synspot Quickstart\n",
    "===================\n",
    "\n",
    "\n"
   ]
  },
  {
   "cell_type": "markdown",
   "metadata": {
    "id": "z1ckYv_6iWIS"
   },
   "source": [
    "The purpose of this document is to familiarize the user with the easy-to-use Python API for the synspot Project, as proposed by **Enmao Diao, Jie Ding, and Vahid Tarokh** \n",
    "\n",
    "Synspot provides ``6`` main modules. ``synspot.network`` for Network issue, ``synspot.algorithm`` to handle algorithms used in synspot, ``synspot.database`` to store the temporary information, ``synspot.PI`` to store the personal information of current user, ``synspot.authorization`` to check the authorization/authentication of user, and the serveral main files in synspot to handle the collaboration process.\n",
    "\n",
    "There are two important roles in this package, ``sponsor`` and ``assistor``.\n",
    "\n",
    "* ``Sponsor`` initates the task and get help from others.\n",
    "* ``Assistor`` helps sponsor through the task."
   ]
  },
  {
   "cell_type": "markdown",
   "metadata": {},
   "source": [
    "Installing a Package\n",
    "-------------------\n",
    "\n"
   ]
  },
  {
   "cell_type": "code",
   "execution_count": null,
   "metadata": {},
   "outputs": [],
   "source": [
    "# python3 -m pip install synspot"
   ]
  },
  {
   "cell_type": "code",
   "execution_count": 1,
   "metadata": {},
   "outputs": [
    {
     "name": "stdout",
     "output_type": "stream",
     "text": [
      "Processing ./synspot-0.0.0-py3-none-any.whl\n",
      "Requirement already satisfied: pandas in /Users/qile/.local/share/virtualenvs/synspot-OGlsVrR-/lib/python3.7/site-packages (from synspot==0.0.0) (1.3.5)\n",
      "Requirement already satisfied: scipy in /Users/qile/.local/share/virtualenvs/synspot-OGlsVrR-/lib/python3.7/site-packages (from synspot==0.0.0) (1.7.3)\n",
      "Requirement already satisfied: scikit-learn in /Users/qile/.local/share/virtualenvs/synspot-OGlsVrR-/lib/python3.7/site-packages (from synspot==0.0.0) (1.0.2)\n",
      "Requirement already satisfied: matplotlib in /Users/qile/.local/share/virtualenvs/synspot-OGlsVrR-/lib/python3.7/site-packages (from synspot==0.0.0) (3.5.1)\n",
      "Requirement already satisfied: requests in /Users/qile/.local/share/virtualenvs/synspot-OGlsVrR-/lib/python3.7/site-packages (from synspot==0.0.0) (2.27.1)\n",
      "Requirement already satisfied: numpy in /Users/qile/.local/share/virtualenvs/synspot-OGlsVrR-/lib/python3.7/site-packages (from synspot==0.0.0) (1.21.5)\n",
      "Requirement already satisfied: torch in /Users/qile/.local/share/virtualenvs/synspot-OGlsVrR-/lib/python3.7/site-packages (from synspot==0.0.0) (1.10.2)\n",
      "Requirement already satisfied: cycler>=0.10 in /Users/qile/.local/share/virtualenvs/synspot-OGlsVrR-/lib/python3.7/site-packages (from matplotlib->synspot==0.0.0) (0.11.0)\n",
      "Requirement already satisfied: fonttools>=4.22.0 in /Users/qile/.local/share/virtualenvs/synspot-OGlsVrR-/lib/python3.7/site-packages (from matplotlib->synspot==0.0.0) (4.29.1)\n",
      "Requirement already satisfied: python-dateutil>=2.7 in /Users/qile/.local/share/virtualenvs/synspot-OGlsVrR-/lib/python3.7/site-packages (from matplotlib->synspot==0.0.0) (2.8.2)\n",
      "Requirement already satisfied: kiwisolver>=1.0.1 in /Users/qile/.local/share/virtualenvs/synspot-OGlsVrR-/lib/python3.7/site-packages (from matplotlib->synspot==0.0.0) (1.3.2)\n",
      "Requirement already satisfied: pyparsing>=2.2.1 in /Users/qile/.local/share/virtualenvs/synspot-OGlsVrR-/lib/python3.7/site-packages (from matplotlib->synspot==0.0.0) (3.0.7)\n",
      "Requirement already satisfied: packaging>=20.0 in /Users/qile/.local/share/virtualenvs/synspot-OGlsVrR-/lib/python3.7/site-packages (from matplotlib->synspot==0.0.0) (21.3)\n",
      "Requirement already satisfied: pillow>=6.2.0 in /Users/qile/.local/share/virtualenvs/synspot-OGlsVrR-/lib/python3.7/site-packages (from matplotlib->synspot==0.0.0) (9.0.1)\n",
      "Requirement already satisfied: pytz>=2017.3 in /Users/qile/.local/share/virtualenvs/synspot-OGlsVrR-/lib/python3.7/site-packages (from pandas->synspot==0.0.0) (2021.3)\n",
      "Requirement already satisfied: idna<4,>=2.5 in /Users/qile/.local/share/virtualenvs/synspot-OGlsVrR-/lib/python3.7/site-packages (from requests->synspot==0.0.0) (3.3)\n",
      "Requirement already satisfied: urllib3<1.27,>=1.21.1 in /Users/qile/.local/share/virtualenvs/synspot-OGlsVrR-/lib/python3.7/site-packages (from requests->synspot==0.0.0) (1.26.8)\n",
      "Requirement already satisfied: charset-normalizer~=2.0.0 in /Users/qile/.local/share/virtualenvs/synspot-OGlsVrR-/lib/python3.7/site-packages (from requests->synspot==0.0.0) (2.0.12)\n",
      "Requirement already satisfied: certifi>=2017.4.17 in /Users/qile/.local/share/virtualenvs/synspot-OGlsVrR-/lib/python3.7/site-packages (from requests->synspot==0.0.0) (2021.10.8)\n",
      "Requirement already satisfied: threadpoolctl>=2.0.0 in /Users/qile/.local/share/virtualenvs/synspot-OGlsVrR-/lib/python3.7/site-packages (from scikit-learn->synspot==0.0.0) (3.1.0)\n",
      "Requirement already satisfied: joblib>=0.11 in /Users/qile/.local/share/virtualenvs/synspot-OGlsVrR-/lib/python3.7/site-packages (from scikit-learn->synspot==0.0.0) (1.1.0)\n",
      "Requirement already satisfied: typing-extensions in /Users/qile/.local/share/virtualenvs/synspot-OGlsVrR-/lib/python3.7/site-packages (from torch->synspot==0.0.0) (4.1.1)\n",
      "Requirement already satisfied: six>=1.5 in /Users/qile/.local/share/virtualenvs/synspot-OGlsVrR-/lib/python3.7/site-packages (from python-dateutil>=2.7->matplotlib->synspot==0.0.0) (1.16.0)\n",
      "synspot is already installed with the same version as the provided wheel. Use --force-reinstall to force an installation of the wheel.\n"
     ]
    }
   ],
   "source": [
    "import os\n",
    "path=\"/Users/qile/Documents/Apollo_Package/synspot/dist\"\n",
    "os.chdir(path)\n",
    "os.listdir(path)\n",
    "!pip install synspot-0.0.0-py3-none-any.whl"
   ]
  },
  {
   "cell_type": "markdown",
   "metadata": {},
   "source": [
    "Importing classes\n",
    "-------------------\n",
    "\n",
    "Run the following command to import synspot. \n",
    "\n",
    "If you import successfully, ``test_fucntion_res`` should be 'test successfully'.\n"
   ]
  },
  {
   "cell_type": "code",
   "execution_count": 2,
   "metadata": {},
   "outputs": [
    {
     "name": "stdout",
     "output_type": "stream",
     "text": [
      "test successfully\n"
     ]
    }
   ],
   "source": [
    "import synspot\n",
    "\n",
    "test_function_res = synspot.test_function()\n",
    "print(test_function_res)"
   ]
  },
  {
   "cell_type": "markdown",
   "metadata": {
    "id": "r6nqLPiyiWIS"
   },
   "source": [
    "Loading a Dataset\n",
    "-------------------\n",
    "\n",
    "BostonHousing contains information collected by the U.S Census Service concerning housing in the area of Boston Mass. It was obtained from the StatLib archive (http://lib.stat.cmu.edu/datasets/boston), and has been used extensively throughout the literature to benchmark algorithms. \n",
    "\n",
    "BostonHousing will be used in this tutorial. The dataset is small in size with only 506 cases. There are 14 attributes in each case of the dataset. "
   ]
  },
  {
   "cell_type": "code",
   "execution_count": null,
   "metadata": {
    "id": "bgdaWZjpiWIT"
   },
   "outputs": [],
   "source": [
    "\n"
   ]
  },
  {
   "cell_type": "markdown",
   "metadata": {
    "id": "ITUrW8P-iWIT"
   },
   "source": [
    "User Registeration\n",
    "-----------------\n",
    "\n",
    "First step is registering your own account. \n",
    "\n",
    "1. If username, email and the password meet the requirements, ``True`` will be returned.\n",
    "2. If the any one of the username, email and the password does not meet the requirement, ``False`` will be returned and the instruction information will be printed in the terminal.\n",
    "\n",
    "> Password Requirements:\n",
    ">   1. At least 8 characters. At most 25 characters\n",
    ">   2. A mixture of both uppercase and lowercase letters\n",
    ">   3. A mixture of letters and numbers\n",
    ">   4. Inclusion of at least one special character, e.g., ! @ # ? ]"
   ]
  },
  {
   "cell_type": "code",
   "execution_count": null,
   "metadata": {
    "id": "fWbZcEuoiWIT"
   },
   "outputs": [],
   "source": [
    "import synspot\n",
    "synspot.userRegister(username: str, email: str, password: str)"
   ]
  },
  {
   "cell_type": "markdown",
   "metadata": {},
   "source": [
    "User Login\n",
    "-----------------\n",
    "\n",
    "Login your account with userLogin function. ``True`` will be returned if you login successfully, otherwise ``False``. \n",
    "\n",
    "Here we offer a pre-registered account for the simple demo."
   ]
  },
  {
   "cell_type": "code",
   "execution_count": 3,
   "metadata": {},
   "outputs": [
    {
     "name": "stdout",
     "output_type": "stream",
     "text": [
      "url http://3.145.140.55/tokens xie1 Xie1@123\n",
      "token_response <Response [200]>\n",
      "length 114\n",
      "length_after 116\n",
      "login user_id 1\n",
      "ressss True\n",
      "True\n"
     ]
    }
   ],
   "source": [
    "import synspot\n",
    "res = synspot.userLogin(username='xie1', password='Xie1@123')\n",
    "print(res)"
   ]
  },
  {
   "cell_type": "markdown",
   "metadata": {},
   "source": [
    "Start Collaboration\n",
    "-----------------\n",
    "\n",
    "You can call this function to collaborate with others."
   ]
  },
  {
   "cell_type": "code",
   "execution_count": 6,
   "metadata": {},
   "outputs": [
    {
     "name": "stdout",
     "output_type": "stream",
     "text": [
      "ggg http://3.145.140.55 1\n",
      "get notification url http://3.145.140.55/users/1/notifications/\n",
      "short_polling_res <Response [200]>\n",
      "lihjai a \n"
     ]
    }
   ],
   "source": [
    "synspot.clean_db()\n",
    "synspot.start_Collaboration()"
   ]
  },
  {
   "cell_type": "markdown",
   "metadata": {},
   "source": [
    "Call for Train\n",
    "-----------------\n",
    "\n",
    "If you treat yourself as a sponsor, after finishing login, you can start the training with one or more assistors. \n",
    "\n",
    "* Please fill in the ``train_file_path`` with the your own local data path.\n",
    "* Training ``task id`` will be printed out in the terminal in the following form: 'Training task_id: {task_id}'\n",
    "\n",
    "If you do not have assistors to collaborate with you and you want to be sponsor and assistor at the same time, please open and finish until Start Collaboration step in Assistor_User_Guide before doing this step."
   ]
  },
  {
   "cell_type": "code",
   "execution_count": 7,
   "metadata": {},
   "outputs": [
    {
     "name": "stdout",
     "output_type": "stream",
     "text": [
      "load_json_data get_train_id_response\n",
      "sss\n",
      "sss1\n",
      "json_data dict_keys(['task_id'])\n",
      "key_value task_id None\n",
      "sdfasdfsdfsf\n",
      "hash_id_file_address ['200', 'make_hash', '/Users/qile/Documents/Apollo_Package/synspot/synspot/PI/1/task/aa1dcc80-eda2-4433-a358-5703e941deff/train/id/1.csv']\n",
      "load_json_data find_assistor_res\n",
      "sss\n",
      "sss1\n",
      "json_data dict_keys(['assistor_num', 'task_id'])\n",
      "key_value task_id aa1dcc80-eda2-4433-a358-5703e941deff\n",
      "Training task_id:  aa1dcc80-eda2-4433-a358-5703e941deff\n",
      "Sponsor: Training task_id:  aa1dcc80-eda2-4433-a358-5703e941deff  is running\n",
      "ggg http://3.145.140.55 1\n",
      "get notification url http://3.145.140.55/users/1/notifications/\n",
      "short_polling_res <Response [200]>\n",
      "lihjai a \n",
      "ggg http://3.145.140.55 1\n",
      "get notification url http://3.145.140.55/users/1/notifications/\n",
      "short_polling_res <Response [200]>\n",
      "unread_request_notification {}\n",
      "unread_match_identifier_notification {'check_dict': {'aa1dcc80-eda2-4433-a358-5703e941deff': 1}}\n",
      "unread_situation_notification {}\n",
      "unread_output_notification {}\n",
      "unread_test_request_notification {}\n",
      "unread_test_match_identifier_notification {}\n",
      "unread_test_output_notification {}\n",
      "load_json_data sponsor_get_match_id_file_res\n",
      "sss\n",
      "sss1\n",
      "json_data dict_keys(['assistor_random_id_pair', 'match_id_file'])\n",
      "key_value match_id_file None\n",
      "key_value assistor_random_id_pair None\n",
      "load_json_data sponsor_get_match_id_file_res[\"match_id_file\"]\n",
      "match_id_file_list ['[\"2f4596825a72c0c3af82b36c9b66b31ca8e4a5e4d3718c0ac4728d86468d7a6e\", \"8b78395356a5c8b9de1254c9ea5b32c040298c2fb94cbd6609d03187d130b20d\", \"9b484e41ab595353e68c82b50d561146908f707ec294a2678f2fae7d6f56abcc\", \"4da1551a11f774bbd6da37cbbbfa09d07a13f6e4a46e0528ad16a1b60d8295a7\", \"27e1a158c0f4ccc5fed15ba3acf812e8c5e4655b91e530060c93a4ca97b50f2e\", \"70ce47a97f47b13ff702a9e9c0c0137057490bd5bb06d3890444997d7fbe9189\", \"42a6aa1d9b208efea988bd46f79068b0ec5d0036144b471b6a96e24817b770f4\", \"f34e8b975c94556ea2c65f56d05034305b73524bf3f47dbf8bb89c514904be50\", \"da76ed4a0a0acfd64d8cc5aa066cef579ca96ea3f0c7c46694f9d1d7379ab4fb\", \"fe61cc6f104a22b092879ce3c9fd2fd3cbf4f0c88c1f1ada9c4e538b6205805b\", \"5f0444c3819af7891255365633e8af64e5fb09b42db958bca259c815f7bdabfe\", \"9503346d501aeaec3f521be685eb235cda81c7929ba2f1acdae1be91400b787a\", \"e23b28638dae044463447124a6b3a0e72a1e51a9c52166266610327e48bcd3ec\", \"caf16f1c0d0dd9c703d9184aa066324001e725632e3ae8d64b04e3c1b2700692\", \"82604d4cbe5ef1eb00ba06181103804d7ce16830aa4a289f835a3553ce49b3c9\", \"0b47b306320ff7b75dc8da1d263529e763222a0a32a25ee491c909f614f972bb\", \"b5b29fd42eafcda6b1173ba04a7ee6e19b09063668df563afe1265cf897eeac5\", \"e67a7adc9cccb17a367ce42472cd1676676868ee7942d64faedfca22c521edb7\", \"78b9881e5374c1f3169a55a09f597c26ea29a9d81067a67d57aeabc5e0148f75\", \"0cf0b7902cbe896e00e66cbc17c46e9c89d42791317b1598461daf711001d473\", \"0f79dc7e3c5754f75e3703e9a2d834cb11c9f0e8b2f2f7aabc94ce6a41f03dd3\", \"56ba81cc041bde3f6d65c69ab6419729e729a09f7dd9db4e75cce0c9990da373\", \"8b32cab013b7292bab0d6a47cf434399227ad6d8a985c33ee68eeae85bbc5325\", \"5febae4f706af2c0fc175a097bb9de38d295ccc5bb579a42f623d753bb78f9cf\", \"8b16cb5f283191fbbdcead84969eb8bc7a3f0a0ac0f12a882ec0b48293613a19\", \"08991c260647cdca4523672e9933f7097cc993f8d52556a31bafcff47dcf608a\", \"424a22f5ba0f390d3484c7c87755c38fcebdb32337c3133a2723e6793b02f56d\", \"1f4c5bc07406f9714b27605f0fe24ab2602194a0b35aca6a301d501a38bca838\", \"a4b674b7a5f2b058c2c888ea29740b2a6d342b3866f28e85846db3dfa917f2b5\", \"9e38b0f5135c8dbe8b50f79ffa255f285c3099699c6e8b62b07959ce485d227f\", \"d06c8e08b0e59ac227362565f3c89c68c8c5f8f4b5f207528d24db071ed56263\", \"ed3f1d00884bcc9d8545d3ef0d4549cc84c2efe0cd7fe06949247ba14c21d7c4\", \"2557609832b0ea2b794cad02d28cfc910d390ae0352435975b4c4818c9afe473\", \"66a0f22ba2744b3ef3c6718bc1ae77f75368b49777c7b78430a565293f585650\", \"abde7d04914ecbae396448b76f7701d53ddccf49ac7d301239bd939502dacd67\", \"0a594919185f4ee900c9dff8d05788c7cc578978161342e580ff4107a8b5293e\", \"24993d7da74d9fef294ae6a6594d94f4c5d7aa4aaef8bc0adb66f180ee0b4235\", \"7630f997678579bbbbafbc4869ed6fab56b29d96ae2f0e37bb6d5d2b136f9bf4\", \"a01a9bec837608f38926ff7e7905350805535d7fec3ba88221331863c1f58359\", \"fa9a2e14aacda228f7229dd2e55d744e4260165915591d31522abdd4f636d0e3\", \"ac7184739521764c054c113bb3ed2f25a62f27844f905d2a3afbba58f587e81b\", \"271f30c923399ffc97fd642c0e91eca2be78243cc09676ca013da9823756476d\", \"4f962e7b238e987319588aec054570629cfcede9f5828f669fed9a1b6ac3cbfc\", \"2b49ad58a70c39d6643005d549cb2854b13ccdf8867bce27b926e90957d7df9f\", \"bd4d2ed0311e77555ba3089560d6c47e7a26910c412a636b54cfbd1ba254d7aa\", \"44198dd04abcab58ecb195f19ce1e04cfd2aa0401f9119cb6527917aec22d35b\", \"e57ab76a909eb1382fda3a6392bd7217871c0bba4ea1a429735682861ceafbc0\", \"e82c3d7b245794c9e9f6c7f969a75aeab54cb4db4e60e225e18eb57ff5ac2f45\", \"0f7ff93b0074ce8800cf97ab6dbca6164be50c1e17bc120383421a30c2a9ac2e\", \"91fcdf20c5645e86123b683b987a9f508bb41d806239540ad482f9cc5d4b2c5a\", \"e0354c5285cd15e23289035c8128f69b6fdcd6f3214cd78a3d4521a710d115e4\", \"fdb0358aebcec8a7c6e5d5aee67a5575a0f089ac920f6c353f712c54439d743e\", \"4ff5f6ab47dc6f49246202f55f3343b8f35d254777098cbb94ad40c0240c7094\", \"1db114e5a836714699db35361bb12e272fea9f1b1f903e84f9f3d5de19323f6e\", \"494a843c2b5d43b794ff50c14c5647bf4ff556a365c58f564af6c235a53602e3\", \"0a55c010ad1951cf0ef781dec21b00caa32be90acb7e31281d056bef9796634f\", \"38f8decfb6f07229bbae5473492603829ee85cdb06190d07eba50362fba3f55b\", \"0871ac3875543ce273e42dad051cc804fb93aa4db3fefaa24ccc8d0ff74c1510\", \"492a116c91733db3f37b9b2ca21f03e4cf14df92fa909bf50069c56caca0d535\", \"3461e22b17adea922a2ba1db7fc3d6b6194844dff1d16ffe8b6cfa5105ffd5de\", \"cbc69add5945e1a515fa45969757f4a526a4c15c42b3290367e3fb0195e33a12\", \"b016da994e343d98340d84b07329ef9f4a4878ecc05d44e53dca59a94033027b\", \"4e94277e4202069c7cde2b95e667dfdf8c55f6e2c63ff16ba188bbebb243bf03\", \"3a7defdbbb79b3926013e56da0f3d467a24f7ddebf6f778992423d99efbca7e1\", \"da1885e0228e918673c07078ba8c79450b0c84ed7c7064f7f4406472283ecd3b\", \"7c52a43068dfbe887ee48e5f9b28a97526b4c96311469679fb64ec5e2247fef1\", \"d640eb0f71c674f077e54de69231f726079e24bbbc2bc2e15b64eb7b9e9b9d86\", \"0a19c00385b5bc2fe1eda0962a71178f31dbd7f7dae99ac4a526621e00e3f89e\", \"b75f8ee51314378697104879222b1840c451e44765e7067ba7093454f296c743\", \"83b686633a044b2fe1d43705dd86d4c3449da2f43838f476b5f3e678049d2026\", \"30a858e615c4d801d49378d0ac76f8c0c8001e516246f893dde3cd7442cd741e\", \"2d4db2ce05cf95a5aebd177e46e7dee643e7dd9f5f40c1977aeb202dd12b7507\", \"d19e2daa8d5017a01478c62619ab79730f6489656a1f396295434483c6f45d3b\", \"994cf478b60a22500f61af47edcb519715ea3c7250c4deacc3eaa6386353d072\", \"5269b1bac47a649eda00550928991db97abf7555d5e447da315860a46b9e868c\", \"09bf23110cc5b4ee49f785094ebd40742b8bcce9a7a50e465449beddda6a568b\", \"9aee0329aef5c7a544157b8ef3c59c4a5fa7ffaa8594ed5fc4b77c9ccb39fcd7\", \"98b92b869fd074e20d33443a5fff823fc5e572260703b8165adea616f3f8b728\", \"4dfb4693bbc403c18e98b0dfeb1b2bd8a762d5636e7db9d0ac3c9ff00a44534c\", \"c57c2b49a0691fa2bb3173d63909d4ca11f2b91e3f095304ead8fbb67fea557d\", \"2acdecd243460581a7f9a075ef0501521972a590fa602be066293970c4c09cd4\", \"51552e0b1a539408e613e0971cdc672c63b7bcdb118579917ad241a77b8cc2df\", \"553334b2b2caa3bf0a8ba31f268e23175fc46d3413abf574b8c2f9fcea97fb0e\", \"05e0e0dc2f8231abf8e5c19f60fa8651372432a4f6f7eb1a65428e75d09a953b\", \"e17d3829c8631832b6638cfb895d21b5f62cf2029d0c80e74174a4bcb436a0c0\", \"9fc2e2d33ad9af7c2f705ca5b8ca63fffe1a0d356d55a36a936ed4863632f2eb\", \"eb2516d57ce560fcbe1229ff42b1d2ade7e9b4c738cba50d3b77b0b9093fa76a\", \"b1c72650fe24770b3248746f0449091b02133c9abece6a583790aacfa1fc5095\", \"c567ad67f27b189c72649f704542fb5b907a80d49e9c00d3e2c03f2f50f21762\", \"bc8f0b3d25623a1eea54f2ce3331a4f42bbf2479d4590d2716c808ff9428d832\", \"d131175028cad293189b2f275716bcf81d712ca30419972cad7e981fb82c65b6\", \"06069b4e947af5eb3d71f0c90b9b9eb7ea8f79e1e52ee7f96a6c34d43bc3091b\", \"fe29453a161fbb6965ccdbdca03593905c1e66cc520a49919b2d999ddf5c0c18\", \"5ae6752c0796e789278868b3d79edebdaeffe607aeac5438ea4b0c0d7849f787\", \"b10f5a5fae6fad31432a6123329ea0259aa23717649e55a6e7330e67bf41dad6\", \"40dc333ada79257333682d4155d8df1499229f1f23b3eaf390b63155e0e27995\", \"abd6f8f3210c185ca2e0f36751b4675d4511aacd482c0834da05e5e688c7f0c3\", \"77fb6288a4c4762fc3528e7bcbf1ae4292cf10d8095daabb3e407a6409f9ba18\", \"4dd49a57e235a6add5b19d94e99cf9622a2fc277b45c312afc19407354c419fe\", \"d6ce741f343e4bc662a4b719bcaa42c3883a6915e4764a42b8b24566aa3509f2\", \"ed3b28383e1b29b4d05c681a9de89b7cf358002053e4daa17c1db30a1d801c7d\", \"2384cb4d1e9c39229ec814bd3715563564b34f1b558208857b7bd7e28815b43e\", \"3ea1016282afc5db3afda35b53d6f6227b3d55fc3b6b956f4ca9d95c725773d5\", \"e7697b0d37b0e8c7b2b74ea60a6b130a058d6f12758620a623d74aa48a5dd0e1\", \"f687c6d9f4898e4285b6e3d1f78e7c85dd3f0efc20167a63108d86548647b5db\", \"ec56c7910b08ff75905d22241f890dd113a65b297f2419bedb5127ef492115ce\", \"202430ff8adf6bc0624b4e31cbed54fbd48cf6f9be9a06a87248714263148a3f\", \"98fa0449cb8200ba180f2fd3c0eb1ceef6a0379e4fd1e67d854b0cad7dfa79c3\", \"d9846b2b5e2ca30aa05ce4785bd5a657952606aa96502ec39d533b56926e93d3\", \"1ba1aafeaa3c1188624a8d270e53277a6306860453a0191a1cba3b0e49a94ab9\", \"e951da70f8c4d23cdd1a3fc60bae6286d899e2cfadfa5cdec57afe5b44cbbd60\", \"0f6fa17b6afdf73f3f0db1de3ed83434cd535bf3ad7231c6f48de874768f4f4a\", \"2c96c4c1d2f57f62b3743e4d2aaa1883dabfa25104ad7467568d5ecfe525158e\", \"07ed423a9860185540a2bd3b2c4c96a78016fba8a5eb2e3a324f880a725ad921\", \"6e6aa24d4e905ba7e8d35b7735da116c72ec017b5af5b68c39999ee328cf2d4c\", \"401f4d4e6ec5a856b5fd7be3519713c92ffe6030208d206ad113353ee4e1066e\", \"dc16bc9a1928569e26969fab30979422bc23ebe1662674eaa87f4df39595a3fb\", \"989cc7fb4f144be1868002396be4dd437655d1a5e096bece4ace2291e0482471\", \"2a18774cabc924c5bb0d23e224602c4d42e836c47d262774d3e1f02520929df3\", \"52bbe510489ec8529cf3cc90e7f4d3e53cc52c7e92c674d3b40d9bc89ac63620\", \"98f8c9c29e59155018f574a70e53851451a12d9aba3ad0ffd4427a578d04d1e5\", \"771a337684776acbee5c8435e1a0bef7f7957d28faa2ca3e889d6084f4361d0c\", \"176a41a2fe0d029133427b476ea7b12a7a0ebec493366a97f35ab4c4ffa01c70\", \"8f87438ec9086b815acea2e3884a6067fae06292a15b71cc0efd347795a8efad\", \"daff33e28833795b64776dd75b8386dc4dcd9a9350e88ddd1821e0afe99030d1\", \"3e9c1afa379bdd99c159d74ba5cdfe49315f3c6d8a38e7f8e5b08e7b64808eca\", \"25221e86b6fd84ba615cbdd180b0be1638bc3c6f70f7994b5100d13b1caa2875\", \"c8a73c24062d6bcd074f9d9a91b5e13e3d9c266f41a581405f0b3a8bf3442fc8\", \"737a43a75e48601cf4ce756c0df5ecd34af1913bfb3ff4ef23059bbfeb273625\", \"1df7d7d4cce261ff72a264d56bf751d0669002f5396290353a49f8279f8d001e\", \"daaadef398cfd18ecc086697bc3b2c12ec6c2386996037c659028ab3e97cd18d\", \"00ff877f95ac05fa2528ef3cbfe150464c6cfa38166faa06efcc739cea74657e\", \"c49c2fd46b87ba5b7be2452eb99286ed7fe2f4d96cefe20f471b2c3f057f1919\", \"71da06880b77f44a3c3a95dccf2a3c021fe4f08622ec6103b21ccdc0fe72991d\", \"60a223b830958431c803353d64cf36d0029b0973cbd8b3f1c785abc4c8fdef8e\", \"ce480f23774b2efa779e065960e2701c44d9d403d0a86f23441c58c4136569d1\", \"623d73174c3b2093155af86109cb24b94eb073871b58514544ac8ab626ee73b9\", \"d1536e68a59ddb52518a5905f43308e8f096f0751962cff1d715ffde146ac73a\", \"c330f951cd657bfc6f47c6a268d2cc59741051101e32da5e3e5f2b8a36219d55\", \"0fa69ef69fb125b1b5e1b321a6e83d4e0512953c6904e60245130ef1b6b4dd3c\", \"037f8326bcd4d2a57920ff1bb0c5f281afce7599411fd74d6a62ab77c7755f16\", \"9bb32abe832537132e33ade382d3810fab161c97ac2618bc100b6c5dde26f47d\", \"10b4c665f7d5724289d1ceab8f5f1912f7fd2090d80f7632ed2f964679b0770f\", \"25b13afbd9fb9a68856b79e78be995290b3afe0730fd42f3f6bbde69981c1bbb\", \"8b8855877a8f60440ecf3021660725b5e107f951e6da74c298eb5edbcdb9108c\", \"58e99ed5260c7937bcaf3df6255c6748e73a0d4704b184324a5d112e36006233\", \"1aeed61b98bea43aac5d48058d7f9d0bb1d6fa73ad782cf8ae1ad7808305bcc3\", \"5d3d07ce2ecb9bbefadd8b15e02f0fd05c173b6b571ea2043cb3e7b37dd6f2c7\", \"eb2726509663143754ba19bc0aca2f8deb7e395ec0690449c61451cf6bfc518c\", \"90effd43608b142f681c5e81a5dcff4900e5f454c15d133cbab28331a05e93fb\", \"9f141da74be3b374bd2a281e68eba31f8616991d27f233fd8e12f3efb0683a11\", \"fe076d4406db3e5d0b79466f50906cc255171495fd57c365f3314be6e0a6a8a5\", \"4c7e927ab07d32f15da4bba89166165dadd49013dbae3688ed78150938d299a0\", \"5b0e7d9cb5f79df9e11fbddc6b0976849db233157864885db1fe801f3d105b6c\", \"f28668dff94ee5b9cbe53376eb9cfd25369306165e9b228cb62bf321f64e9ac4\", \"0659f33a8501f429c33b5ec3c0f0ea517dec38bf3619e68110e9a6513e98507e\", \"da082163b8d35e11174834b073d28180152edf641efe18df9e738a7b23b8625d\", \"f174651a9e051821eaa6733b560e4b044e02226af51ca00fae7b6d61201e498e\", \"f6207c9c7d6fb55e66f0fcfd6052b26c5f5326a4bb09e0fe8de713db46e56f5b\", \"b40b9e8e67f3dba71bdf8a0accf7f8367cd1a9cda085acb77a750497523eafe4\", \"d59f9c9eae2a7e51b1789a2b68c7c40aeabf5a7019ccf605585128b4544e5681\", \"3b7f86927ce0686e3d2c720fe668d4c6750eda272e43315ba403d42f073a63ab\", \"670afb85faa90d7a35ccf59ecf16ef497f9fabb29ae738a638845dd597c74665\", \"e8835bf5a28f8a8d67799479ffe2e5734f316d2e6788de288bd8f185618d39a2\", \"8105ed5bd6d41284a79b950e52cf384c24e7f1bfe97c2894a3b201addc8b2911\", \"0328d41bc1d0256bfa20527f67b93a892363038c44804e8a1db5d1e93b1f08b5\", \"df0ac829ed179f7b619b621bbaab23a283fb32fe13a068a7932085ce5f1d5922\", \"9cb3452f645a871729cf2fce567834d34512f9671a319faffa95c2e433f9a07f\", \"df530e3c75cbb0b692ef4b2e484161de468b14a66663e6d4e448278c576dbe46\", \"a0a63b2ec2be878df24bbaa77cd05a84745cf2bc9cdbd04bf1f4f5aff4b5accb\", \"1c1b9eaf853197c647a131a00d81176b762f1392de280fd6d29fa46018fb7fc1\", \"9e287387862d786994eb1ae84a6a700c689f7ad483c25d56a0899dad15ef4f1c\", \"e2c74822c1cc5dce364c34c308ab4af572f4452d7535f1db214df3d53ec362e3\", \"317aa0f076747219a9f3d9c39729dede015ff480ea203e57c152c161e0d27c5c\", \"69ef5e42b495aa65c7715cfa67fbc5d70f24928e586c1b0e1171f97613f5dd9a\", \"ec856a673475d170a3033cacb5098a9ec4e95ed45b867c3b07fade3bf76a7c84\", \"33af6a2003b3948490c40515ddd3d01adb56be018b1b21fec26b41841b805670\", \"36f103bfa180cab4646a275ad7c212b50941b1693063fde5912f0447227479f1\", \"f3675563a5677c1e82e438f376e4a292425ebbf9d9aa551403e965c92bf37814\", \"a547297dceb2c02a4fbcf42a2b38e6b0bf52897432f4db6ada3fece9faca9d44\", \"8e5e9b0ccc93e95f319eba22772d9df4d37b8651799527f3aeb5bef6ebe10b96\", \"41b7aee5a41d2baf797679c875b7166d67780212c6aaac7f2c904d8c5ca0a7b4\", \"f661b6ac6d17471f9cbc2ccfea6e4db3753cbc18e1b4452980fb804c2f5e9535\", \"9656da641cbb1468ddab2b3ef7f86b2116d01bcdd8f4dac749a0a9cb17a9d81a\", \"4845bbe8765a04a6b5126be2a9b78a5362f76336b3323a7bb9c0565f38a1294d\", \"fbeea1d2cf764840c9aaf1004e94b00a99d923f318887af2cc89a5866b010f66\", \"432accafc0d4c848356efcb054ac26f10228b4a7f8ee782478a924b70f4c2591\", \"0354ea842442d4a2a2982255a0d0044faddccf1d1a37aa13630a496bf086b4c6\", \"b42fd8321e1cd0affad7c40a59e2a012ad2f24af539617ff93c9b0b29a7f728a\", \"aa5c94a72df23631ce9c558ed4ab878b71fa3f915646de5b2c213879482e3f9c\", \"1db6f586bd8d71228405189fcf016b345a058bf28e232633d116500c21624081\", \"9b675bcd071943491323638553eaa9a86d50c910ab4ec2e71b4e84f96111214e\", \"03a8f336ca6c81a48ce2e0eabd4bf097c43907ecf9b433519116bb08e695dd6d\", \"45a0fe9249337ccc991137c196833cbd80793b58ed6e7be2dcd4f07e3ce37176\", \"af53880633c86640adf024464411c9624c88ce9de58f5e94fa01cd587d650f57\", \"670a5ca3621f3bd051912e521074030851a4a11429b89519a65a5112bbb47e46\", \"794c627a0d0e0d6fc4642b148d0fffe9f53d173ade7f309dfbbc73398fd3a0ad\", \"82256068445062a670f3a79a25cc95cc11f93d395d0f74d503e83eac370f19a4\", \"4206772a9495672b28adb93e27816dc8fd1295d7989d8c0d64b2b2cd5a0e2f8c\", \"ae11d18c29a73626d45ff4ec65fd32d896f684afefe6c3726cce8eb4f3343655\", \"5c096ff1b895033934d506fc5c48cdb93401abdb8abfa3163f331f8a1e77f74a\", \"0485d4130dc78d35a36ed5f5c5bfea741e1e1e0ea37b856d0197e254d85d7d8e\", \"5bfd299fcab99e49d1242ed493375d93b012253e918d3886910610b8a6fc3827\", \"5aa96516df2d0bc1cac40c3ef14c34143df438925e3346addb2e62c6296cbf44\", \"b47a9bcdcade2c81682f46395b2bd4cc8a38a425664a10aa1cb1720b1f7c2ac2\", \"b9185b66d6c2e75c3a2249c7d29acc34734262cb1aa67361c389c6f2a21de69a\", \"7a7424ac9d3e6c77d8a3f9a6d0247d6e7165970a76b78885775cab2d0d021ce1\", \"ba65ce46f4e4b6509627ed4b25a620101d6a0c707f9d24dafe979ed8f246334e\", \"e8230ace9f0554c09f639f7a596544b0277f9345d9c2a486d6607bf01c25927e\", \"bf43b7d53bf1b7a39f9ae48eaec838f8a9b7f04be46d7ba3458e90dfedbe658e\", \"06db39d5d0253d1884dac2720c0f1d2b6a79fcab3d2386247b5f874de29c4afc\", \"e7a6ceb3716dc97bfc30383aced0b72fd708ae0f658add5a167ca8c586105ea7\", \"0772d45004a38b49443e44f79e40df728fa318f0c287ca70e5e35feb1cad8b73\", \"64935cec24d069c59958606cf1c074fe41b17906a4cfa63be4840590f2e88c37\", \"64328e4bf8426c9e380b32f3a0cad98d4a85b413e586d37feb2fe8d2ea50e31f\", \"f93211a35dbc283a6b4b9a02d466d1119e087140e3d3a425b61d2e81b3f0c5c5\", \"2835df3416c55503db8de2b707e02b9edba4e5560dfdf942e107a9bdfd045792\", \"b7044dcc49ddc7eaba14164b9e360582ba150098440024cddc28b66cfb889f1e\", \"cc34745af68b7c2f023523ed1e1d17cf368bda0baf51cc172b4813524b79352b\", \"2484cbb2ca5619ee20ab9980956bc417b1c70267fc630b2667aff943a74287b1\", \"4f5e408555916ee9e2730240df41da97beee871c59e5946fa2882eb4e12ddfca\", \"8daf02f91d8a92e0ad7e1cc642c68d1da594b591da05db6a6c701b85d3095def\", \"be125be1da931f231bdfedcb4e29f770723a61bd33861ba8b2cda73fe5c71c85\", \"b4e338cd638cd2cd9313a5f0f0839166f362c3d71534898ac11f747cc4d25c9d\", \"ee7bf9434a7225c0c52a20b8029930d00605cb0650b7b23cea4c2b9336f4ca95\", \"67e13d8cd97c352dbe1b42ff6d338a7e8e553c0faa01447fd1fea4bcf26b7381\", \"0e2fcc25dfbd99e69801df678d6780bb20f2ab0d72b8a01374b8c617cffcab9f\", \"a7fcea0996ada3ca0c82e36b77e57727ff7f77425f20f07f9a730a3d48a9d403\", \"d6400f20b20b074bbeb94d4d7a7fa59dae6733e3302b507cd1d9757b53ecfb00\", \"0364c16140e76f7c518975c9f1a9018089d85611e6a7812229a5f5e4da2a8b6f\", \"c53b30b426cf4f595ad618b67449aeb8490a3a657017a724b24acfcb8690171d\", \"d6ed6a1e061caad3557e6c81647d007e6256175880f179ffb2cf699a08d037ec\", \"7d0acfdb25e39f8a9fbe1b433e496d86e3bcd85a98ef2f7b2a119a7ba10a1791\", \"8910fd08439b087dfe2dedd0a06bc2c8e156435165381657d2187335ca485f97\", \"4744c8a606f3e99b6f828fa157919008845ae91e90f454beaffdc8bbc64ab1b8\", \"66edb4c5fa57e992e1c5d31c7670999e77f44e653827564c577f49ec4046afce\", \"2f432b15428899d3609d7dcd506786c4e34e773aced932f04ef3a62c778b7d20\", \"dbfd7873a376a93103433e75ee5985f03acc4da29b7e84566430ff97a2d456a6\", \"03c7d9981ddaa0aa0b4799461b80fdb4b9f9be8d68b5c06caea95eef929cae77\", \"77c2c852c3bd757601f930febbc95029775c68e4c0b283125ec4c4899eff7806\", \"e22c5e0cf56223073c2e8692818c4f19d049e9aa508599d946c5c46999a83313\", \"0fc001d62bcd5c4f22208d3a30f8d88e377f9b631e17892b8732ab8724f0274f\", \"f6c13fefc20896fab003b4c4b6d8e154c451937f08a1aff28532d32f83499252\", \"a884fa75540dd3a7a21a4ea103a1fd31f0474da4934ee4983c64ca164c529704\", \"ca7bb939026782163ddb0d3c02c64b415b387e2d2d11ea6255d06f47b8d474d3\", \"8d028abbc93d234507800a9e0d4650856696a125357dd644e7e9672fd0b0a799\", \"b23429ba3086aed9ee0ababe588948d1205a1758702063f530e949c0302e9d3c\", \"b36d04a43c188fa9042ccfe2c13d40316eef06f92e6790f9e9b2395eb813a6eb\", \"15c0ecb6501f49e4532cea133d38ba8340f2998bbd3a387956856f1fc6cdf651\", \"34821e54347cf98f4eaa6e68a543958be3356588216fa5b1697ce35c1c401205\", \"1fc000c02c0dcabfbc51fb2ffaac0fa01c77724d6bc18c74f0d3d143aa0c7bab\", \"d1cf3d27615f911f35f19c63522e0574f22096d23d8135d996fa76f153518118\", \"687907b8d598322e6f71aef6c4da4de7e4c278926339de00bf48d0d84f19c6fd\", \"b8322e99b10e7c49aa71033b50c822800c92b2f30229774db01a27479d984c9a\", \"c9646c0bd662b86765b3a9a2a9554007497451bc908d889f79e9463a1766cebb\", \"304ddc226097bffb2a056040f41c8b0f176e1665e8c9bcc35d80d22bd607815f\", \"14bbc144576bd05869ab3a18979a1ff7742bc59c8271085354392ee98b309bee\", \"357f38622dd2e6f3a8ac7aeeeba3eef222bd1a05f18563c2b8d6105e410d90b5\", \"2d5d8e6d2287c13990e1c729e28c3f6dff0782f752e3f3ca05d8843d1010314f\", \"84e9bd1c3de433297562657ba88be5504aaf1ef1c812bef6f2008c675d3141dc\", \"4bbfee60b8d8cc4dd9e2c4d104c8ca6a9fb8fef3de9a47f418234e96e65bf0b8\", \"9939cffc4f40fe5ca1072b8dfe8288b0bead9ffde5ca578d50b3a8cef959f754\", \"ba620a738c41e1edbcf463d81a78b3a8aed3818b1e10067e3e0c1f640bcc0caf\", \"6ca53888c94a80b796ab4aac37d58967ba20dabe9d73502eb0448df339605884\", \"81a2a28fea808b8830711efb01d3a5321583d4572be10fb6000c43ad4483ffe8\", \"41f67fd920bbeacd5cbac5b3008657fc35ded556c711cac486a92498f7855d9d\", \"a214a2fbcee6325ac5ae9d1941d5d6b69d51cbf3a263366f6a947d5df8c7f889\", \"03b0f8552e385d403c4c44a88b6f6c66bd88f2257c89fd8ec897ab3c7d0520b9\", \"c5bc95ba9379683d873798779c72d2be31aef493314e068b8f9f46dc030cdcec\", \"1568356844b632a8f0ef234e1c25a8a2245dab2012d91a3b45fbd4749f8554d3\", \"1997c86a4058936e5483b7c89d317bb5e3d3c7a68910b80e83a2c7e2cff4d896\", \"a9c6b319b7ccef81287edea793f821353b65cd64ff2784551b387e4fd5ccfe2f\", \"de3fa1c63e7075302dd0acabd7db750dc18a0f1e9e9c60c3b01056ab7c276098\", \"db5bf97d8ece09999c248d5fe133b92c8fe2be03717d2eb0f8b2fcdc709e1231\", \"4f41765607a279a4c83971b912daa3d055ae1cdd5e14e3290e504fb171eb64d7\", \"44a862db60d307d28f875557031e06deb046df44d6a88458be220ca47f53468e\", \"13fb067dc2aa74c2ebec8f3a08715d862bf0d970f01afca0685f23ea136b84cb\", \"aea570b1acd6bbe59ebee0206ba139d139df004e45b5b3473f7282f58e910ff9\", \"6581ece67faa88d52a111dd4e5c242e85fce8a622ff2450bd5914edb4bb21174\", \"011a41d7afc3678dc1513c091d203448808e8106e05785aeedb36a7e5758f8b2\", \"65a49cde6ed51b1d7752d194153a1c91f7896f8c025f0d180954e597352e9e54\", \"2b53bd3dfed2d5ee8c7be81357867978e9a167b3e81430010c744dd95df601b6\", \"ecbef03527ba1f39735bf5657e4f63ddabe3236b81f52de769cbb46f5bf1aab6\", \"6d52363517b5c3fa92bad8c78387c6e1c5056e1162a14b8cbfb1ca5482035319\", \"0244356f8cbf843d2401d1aead958d59ac2a39d4c2f53880e9e79036ff96357d\", \"d2680f6a562f97fbce402e1a9cb9f7942b7deafb9c438b7c00e7153b083c2e63\", \"a4fb9aaed21903adb97555e40158e733d2625208df1a9a70373e718ccfee3cfb\", \"cf3d8e7ab5a8a81b45d8f24d2aadc9461a5191327283c6d72bca85cb95b2d913\", \"d879bca02bbc6caf0878866b3515d61cca885c94e0e943252f156b029363fee7\", \"220433fca0499864e3d3bbc25b87fa0afe4b06a6cda8f880f5c38a3ab5156ef0\", \"a1b09e2d08af6bd539e755f2ef69fa47657360ed4a2c24f636e6b426f21d2f4d\", \"cdb00dfd216813dd0968f689f3905742b6e2313b859f062b07cf936ed8660cff\", \"1ef06c57ed8365e2b89bcc85a71c40e519f1c162b5a07a4499ba12a43fd661ca\", \"6adc9dedbf00e3f1d28315071e5f2a4f60da5a76063c2e1fbc61019ecccd7106\", \"b5d95d0ef36b59d8244c33c7eeb32b479384eb574829b0b44f2822aa66604d65\", \"828ac7ccedcfbfdcb417d10d74bfcdfd6699240ef2dd7b00b7b4ab24b1a3ba54\", \"0ebb0d54077654a88aaedec76d44159df4d45ff09eeba850621becb79a226c17\", \"8c7894589dfad552f2794c498eb3738051e6d76ac8fb75c8fd2b17f8c0ef45a3\", \"acd0713d7c3ec2cecd9881930e725c3e4c057f854242a75cd50a888ad39d313d\", \"f82fdc127d3407296ce2050b5852c3014e5c5d75abf25a14d2acbd776a32b227\", \"1c4adeef9d9168604b52ef50b17fab3bebe77f9e001e8dcaa2e38dfcfc074f31\", \"ab769e25b7096aa9f70098c53754f839daba7e82668c7b72e00efefce1777499\", \"06ad6c9a4a2b413891953170df966d28874e8c51f27491ea5c969377a04be71e\", \"c20196a21da5045775b8bd9e410d3c1b00f2b61fcc0629011d674434762eb641\", \"877c71963a06eb141e00e5640c9842967390d09e29a685d3f87c8e3257084cc2\", \"11db154a1b832cd9134c248e3b5a0cf7de5e9198c89ac93e9d78ed74b1cb71f6\", \"66d74fe47e7953a08cb190c815417a3c9b95052ecaf35a50bc4d5927850cc6f6\", \"9ed2ba64fa6811589c810b1ff7f76354f93900d745a2332d95f62539dab19cdf\", \"ff5dce0062a10fbdf2ba8be06223e961d2f6369a44031736b1c93301fb92e085\", \"c871cd1a2f823a1062873c799c7a487bdd2a9a9bbd4b5b4129da0ba496e93660\", \"7eab5dc82e5305947dc8f41955d92c251ded01a983424f5cac5376d2a9093fa3\", \"e8a42803b3cfe9a429cc442d91b86c36d305429705ce85ef1b60bbc00651c2ba\", \"bca8a2ad9fecb23fdafda4c1fdf39472f106774169a7f8320b6662ddf909f985\", \"e1f8f23c34941628ad4663c5bcb26595e659d065ac1119da1cfc0f59ddf402c9\", \"8330fa98527eeb2622f21c0ebc971d936e07c6cae4469a96fa232547c627e892\", \"398d12b1040d0bca57182ddf541a7827b02c03fd87a4efec2bd3853f3d76429d\", \"a8b59f6b73f4272975acadd4edec9905871f3463cea2c4c1a0449a9de1c66192\", \"307c1156ac2c4555c45f2aebdca03edb8dde3f767d47f1a56681b89652b067da\", \"e4d7f7b5e7db5648fe14c5c24ffbea47d8360ee308e7949b187c76a02d0dafa3\", \"61f3eaf0fa1d57ea304b45c1e99cc0fddabc6b2fecb8b8ec72d75ad3fa8b5ab8\", \"1aa115362351c2838c81c9871aaefdd41c132122787e30d9a20b7cf7950e2f71\", \"66e34ea855ee9adfd5856c3cc03870fc603982c6e370e040fffa6609cb9f8a8b\", \"6e2289d941e06e4a608c992fdb346418469d11503432934d91a0e42fc42b494d\", \"f89aa96848b2cf6f80c1f5da5c99474da857b4a3cecbbe309678dfced95ff59e\", \"352e3519704fb172c2237f3a44bc62eb1672f50ffb268d385690cbae0e21f7ba\", \"49f2a7dc6c3ad4c93396a11010c09e6edf0520f4688e887c0e95b084503db165\", \"89c3c6b7686e046886f87f1dd2ada2397141d3667d7d94496267694789bad89a\", \"a0c4070b34998aab4aa4020baa279fe322d50b476796d5e670ab8801460735e4\", \"1ca9084603ad4ae97d4878d5e97e3337ddb73347afea163d015feca325e5f91b\", \"e41caf040277ea49831e515eb3873350865b5a6a93c16519a429baf9a6e3d65f\", \"91da5a689c54a005f149713c54d5cf72fa912da1095e01a002eb9cb0ec02fd9c\", \"1433ae79aae912bbfca4064aacfdfb93c43e0dce29c22c09be84ccd4d5f67cd6\", \"2c26c3c674451c3acea3ab796e1e4423b50402f99fd94679776555b1cb4f9c57\", \"fc6852d8264cfa50fc6d9d0b277a63484d8644f1a8f7907a44064d885fe69f31\", \"dfa8eb2a48d9351bdfffa908331d0980b3ba3d2b6006697f367ea2cac7a1343c\", \"019511c861c386ad88d8011310e6397283240e3f5a76311688cb06511c97c8fc\", \"9cfad31672f1a14c5405f8363d494dde91ca6a57dbca99b90e686523993a3045\", \"c556e5c3064d05606bf8abcc7446b59e76a07e53cb6e8b49abdb5275e80b0830\", \"c629ad15d4c1aa7e8bc8bd80f502a52354d298eef1549315a977521a7cd3dce4\", \"fa2a70019c26a0d562b4c9bedd70b9cfc61c5854e49e8d6b3803567b9ada2700\", \"a310ea4f28b09822c4abf18e7cf2339de1e3500556795d9025fb01f5954c1436\", \"f61192fc9cd13f09ba6f8bd734051606a1f481b3c4615aec88b406be5ffcaaea\", \"5a873f875252fec6c7a3d1a4ee1676996f280dfc3b8912085c5ac31e916599d5\", \"8b9c055db7ba717a791a702217cd61f3d1b4d0e8a0f2215d9031e8c9a39cbe85\", \"7b7bb3470b9ce1db1b4c068bcf8b36a84618dbf32408e6cf79336d65a859cd6a\", \"986dba5ba97b601f8fe2ab35dd3e1926cc264cc72bd302a8b2570219a150ade4\", \"e30eed300f1dc7d3003b3bda530d57441ef957309add43587114d40005ecb251\", \"2ccfefe88b9115198a0ba35f52999bbfd92af15fb4e33316f7a901204a870210\", \"848f41b7528669fe7bd60f8533701a112f449912ea61be14258efa41187c0572\", \"27b0bf0d704f7ce8c297d26b9682d6b945485bfb3e00aa536556e20ad0b4781d\", \"6488f8db6ef899dc244438396350fd950767a33a56c46ba920ee4da4c899a08f\", \"7db2e8fbc060554b01071368263fab8f29a2d4bbcbbbea9e3e98270ff6a477c0\", \"72a5ea94782972af96c0391a8e1db37341686408a0e71d0c9dea7e4051fd5ceb\", \"997fc424a4dd9ef6fca9a02fb64c568dc319b2c93e7b4d405115cbafddc49707\", \"d895765b0552956262eeb42c9ef0ca3a93167b3ba7f9bd36b1f4749a08802a13\", \"e5d6ff4ea99fa585cfe59792fe4ac8f9de1daced7f89253245259069e7acadba\", \"b24d30e1ea1951f9648caa348a553dbe8e60ed1b715ae24ff17f0bca5a92edda\", \"10e7874f2f830b900853fe46b081a01cf04df3cc9f3aa33a08917ae4840e3e2b\", \"62c67fe8b9d47a352813fd5439345d4edfd62ab29162372849086f5dedb2fc7d\", \"de1731a9fb527c9bb5f5e2cafeef0d94543d148f8e8ed61815d3231d1652b7c4\", \"dd9447e5b78802c83945d0ba82e70dc2b10e674ff612ee6df3b16ca41fb08979\", \"f666072c2a796774d323d1c367b3b4cb91aa89196fabed5408c0e47cf0a5a448\", \"f8ef511db2a4de88235786f1f80a8c86c7d91ec6f544185a49b733769d36fe65\", \"29e126dfaabf6e7ce2304a16a79d06c84b85e393bb3ecca0e6a55257e84ea042\", \"ffc5b78179dc55e5a0a9157491472bdae0c5b1eae183aeb98cf047531c465157\", \"c11b95233e3711444781ee2022adc664c64150a09734382ac6fb65837ce6c31c\", \"a55cb9c1ee04f8c3212b54e2fbdfbacabdc8197195bdacee4ea3dd4d52bbe34f\", \"1383f67ef9d57454759f8076dcc9496928576fdf22a4444e8c759c03ad58404c\", \"8e0f2dff7633752c10db5c3a95321508262ab107977022a02f4659f6f1336f27\", \"d559e79c9b93afe2c4ed1c600e06f9f83f6fe052e528c10c26b6f30c45f0923d\", \"f556a17725f862a31a6be8686e4985d216a5e895f9c197224f4eb5bae66edc60\", \"2a8c6fb2b18477ebebbee5cac6a80e04f660590d25faba474bd7fe2113ba5455\", \"3eea823137f77893123deb53d5ed402841ef0531a82e7467061d5ec91d0a6bb8\", \"2784de706867a5235a3a3e54638278c57e9dbd9b783ed5b8614be1e77eb82aee\", \"670efdff3999c258f8b0d2db339bc6826c25fbdc39d95cbbfca71059d86e2cbd\", \"e396350d38f9b280747a31da0e210876f955580dff3e3aeb240391780445a4f8\", \"c5c06e011bcfbc0611c12d517dc57fbcfa011dc6abb4f20f1cbec50576967d06\", \"ff53dfbe795cef9daf1033ca5e98232bd31e47286e816228fac769180373781c\", \"778c0f6449fb3119417623590998514f1b9bb29de6191265478b6b27cd60d023\", \"2b690380fb86d30aef6f8c891642870b0029a978b3a227044c779c18bedd89e6\", \"ff274510a0abccb342670ae73aa3295333b2b57e4987c0506d89c902757fd606\", \"5837df4f664157df0395393ccf8467be66de044e78357557c962705ad9bd7991\", \"aef6d9d2c01e32abf930586cf838a516eaa392111e545446236332bd3c3ae807\", \"cb8c72151695c6a2245d272e37e754054084e1420c4ebe593c1efc52c1e6243e\", \"fa190d5c85e69d07e7a2433290a0b715a9a19e7bee29443f1c8cbdce1fc4a4e3\", \"bea0052695b905581afe335a837bdd3aa9a34bd63c9afba9df5519c1e6b659b3\", \"de501a3c3cef907cc2f2d7ec19eeb5096b0b76d24365c11da5be2c2aa366f5c9\", \"736f4c48ba28bb61d00199ed846a2b643defa2c4ed04808704bc779d164f8eca\", \"2c173a414bcc4aa6efbdf8ca65e3ed72c5b76fdf1205987000f6c0da818108c7\", \"e385d6cb5deb6568acb1cc1f871ebeb3856b85bc20b5902602c9ba2216ea9762\", \"ae8421c02cb9d5fce73abd37964b47a1e2d92376ff29ab5d49da88bb7fbd41c5\", \"021d22e8d36b41a5e115c09345167edd7b0b3b3a34e941bfe1499e902e89d0ef\", \"31ddcada1d7c1fc1613304acb1fa93dd118bc955ad0081db064236cddab6fb64\", \"bb45d195c8fe5a245d6f8b361cfdf0a7e361357c1c1b3b5387dc545bafb27b04\", \"a7d81c82afa965f539ec8e734f0df252948204fb48ab7548adb39b664ee893df\", \"8bf84ef89b0d846f877846a17c31e045db6cd0f64ca95561b95cd901e560ccaf\", \"afa3e05b47f460467a8e06c310cf7089b7fc4b05bec88f6a043c5abe83339df9\", \"2534dd99c96272f8955ae1345352d8788aef3d1008431d88e6d5df78a1bdd875\", \"14ba44537e7289f416bf9a3c806cf35bfe9fa9f6f7cc72dce9251a7b0b8f6a2d\", \"0801ca14f0251220fa2d469a2267d7d758ceb08da1a34127eec29e93e62eb622\", \"facf0fbf07885b0355169ba0a85e1091c8f83017684e36e5c5114f468f2fe669\", \"8862175bf68349d95dfe89f5cf9f48b184843dfa9ade1d98e390dc2ee67305bd\", \"f88938e61bef0221439765c70a2ca69dd1ac97608a888b577d05da10c568aae0\", \"2cc94a30c3c6adbc0da676e3262042658f1429e29afe4ae4bfbbef172bbe8215\"]']\n",
      "load_json_data sponsor_get_match_id_file_res[\"assistor_random_id_pair\"]\n",
      "save_match_id_file_pos ['200', 'save_match_id', '/Users/qile/Documents/Apollo_Package/synspot/synspot/PI/1/task/aa1dcc80-eda2-4433-a358-5703e941deff/train/id/e56c78b3-acf8-4c51-bbb2-d95622984e4c.csv']\n",
      "55555\n",
      "66662\n",
      "make_match_idx_done ['200', 'make_match_idx', 'complete']\n",
      "train_file_path /Users/qile/Documents/synspot_Data/data/BostonHousing/BostonHousing_2_123_1.0/0/train/dataset.csv 9\n",
      "make_residual_multiple_paths ['200', 'make_residual', '/Users/qile/Documents/Apollo_Package/synspot/synspot/PI/1/task/aa1dcc80-eda2-4433-a358-5703e941deff/train/round/1/residual/e56c78b3-acf8-4c51-bbb2-d95622984e4c.csv']\n"
     ]
    },
    {
     "name": "stdout",
     "output_type": "stream",
     "text": [
      "load_json_data send_situation_res\n",
      "sss\n",
      "sss1\n",
      "json_data dict_keys(['message'])\n",
      "key_value message send situation successfully!\n",
      "Sponsor: Training task_id:  aa1dcc80-eda2-4433-a358-5703e941deff  is running\n",
      "lihjai a \n",
      "ggg http://3.145.140.55 1\n",
      "get notification url http://3.145.140.55/users/1/notifications/\n",
      "short_polling_res <Response [200]>\n",
      "unread_request_notification {}\n",
      "unread_match_identifier_notification {}\n",
      "unread_situation_notification {'check_dict': {'aa1dcc80-eda2-4433-a358-5703e941deff': 1}, 'rounds_dict': {'aa1dcc80-eda2-4433-a358-5703e941deff': 1}}\n",
      "unread_output_notification {'rounds_dict': {'aa1dcc80-eda2-4433-a358-5703e941deff': 1}}\n",
      "unread_test_request_notification {}\n",
      "unread_test_match_identifier_notification {}\n",
      "unread_test_output_notification {}\n",
      "train_output ['200', 'make_train', '/Users/qile/Documents/Apollo_Package/synspot/synspot/PI/1/task/aa1dcc80-eda2-4433-a358-5703e941deff/train/round/1/output/1.csv']\n",
      "Sponsor: Training task_id:  aa1dcc80-eda2-4433-a358-5703e941deff  is running\n",
      "unread_output_singleTask 1\n",
      "load_json_data sponsor_get_output_res\n",
      "sss\n",
      "sss1\n",
      "json_data dict_keys(['output', 'sender_random_ids_list'])\n",
      "key_value output None\n",
      "key_value sender_random_ids_list None\n",
      "load_json_data sponsor_get_output_res[\"output\"]\n",
      "load_json_data sponsor_get_output_res[\"sender_random_ids_list\"]\n",
      "from_id e56c78b3-acf8-4c51-bbb2-d95622984e4c\n",
      "save_output_pos ['200', 'save_output', '/Users/qile/Documents/Apollo_Package/synspot/synspot/PI/1/task/aa1dcc80-eda2-4433-a358-5703e941deff/train/round/1/output/e56c78b3-acf8-4c51-bbb2-d95622984e4c.csv']\n",
      "cur_output <class 'str'> [\"1.347091871776457417e+01\", \"-7.717711517444426406e+00\", \"2.183919470355033088e+00\", \"1.185157426225630850e+01\", \"-4.541513296368737684e+00\", \"1.751504144976985700e+00\", \"2.909015402671851191e+01\", \"-2.507362782733469686e+00\", \"4.545809266431918516e+00\", \"-3.126330782125954943e+00\", \"8.259739378499606488e+00\", \"4.478171327459368745e-01\", \"2.248723515549313046e+00\", \"1.543187206982916138e+01\", \"1.207926115674075263e+01\", \"1.291976309409979962e+01\", \"2.733881299355546091e+01\", \"-1.224358654438343841e+01\", \"-1.414408218581160348e+01\", \"-1.648086560827283220e+00\", \"7.717493927079712712e+00\", \"-8.949035974458172116e-02\", \"2.748706143018521075e+01\", \"1.154032169460281487e+01\", \"8.504200714912689918e+00\", \"1.215105394381218318e+01\", \"1.042008616230733598e+00\", \"-1.531096465507936699e+01\", \"1.283638968003535608e+00\", \"-1.682698109861593139e+01\", \"-9.154085957916390015e+00\", \"-1.598637153373144670e+01\", \"1.194228174914279705e+01\", \"1.805694098523427371e+01\", \"-2.215778540481997894e+01\", \"4.900515354566205239e+00\", \"1.530288900949070374e+01\", \"9.099347028575502705e+00\", \"1.521151102066710692e+01\", \"-8.204538414736903817e+00\", \"1.290125307014776190e+01\", \"-3.874943172998019048e+00\", \"-2.838651207324286219e+01\", \"1.561598241442187396e+00\", \"1.638207897985383354e+01\", \"-2.343066666084742877e+01\", \"-4.500769219630708307e+00\", \"-4.929599616300667786e-01\", \"-1.870100317377511345e+01\", \"-1.085043907123205820e+01\", \"1.560371586594486182e+01\", \"-3.908618277781327865e+00\", \"1.610171850753360800e+01\", \"6.139748576899476618e+00\", \"1.702406816740506645e+00\", \"-4.747200596766052882e+00\", \"-1.062915030602345645e+01\", \"1.510740110330318942e+01\", \"2.464207822941597925e+01\", \"8.129473220037304770e+00\", \"-1.748541185774262541e+00\", \"6.258569900721957069e+00\", \"2.345084768522803387e+01\", \"4.793178585759085841e+00\", \"9.838771667015919320e+00\", \"1.051437812489224299e+01\", \"-2.958870223204580086e+01\", \"-8.528194082520073493e+00\", \"-1.488392600443192926e+01\", \"1.557129940257896550e+01\", \"2.113906027214704153e+01\", \"-4.625996898480257968e+00\", \"-2.558561597038051616e+01\", \"1.297994533510130744e+01\", \"-2.412991873516538632e+01\", \"-2.990194772655779687e+01\", \"-3.267828912765326166e+00\", \"9.207807429795009213e+00\", \"-6.025395970600362361e+00\", \"-1.226719946689174279e+01\", \"2.842488834961728550e+00\", \"1.881966361021407508e+01\", \"-3.904061666483178072e+01\", \"2.589157830855929987e+00\", \"-2.988212182130556727e+01\", \"1.171771934951053318e+01\", \"1.392910505193104065e+01\", \"-1.027640629018347873e+01\", \"-1.046618173586798939e+01\", \"-1.264996951465170305e+01\", \"-3.046983385444677506e+00\", \"-1.699807375928295272e+01\", \"2.278750418215646789e+01\", \"2.098541524184761364e+00\", \"-3.716621551281932501e+00\", \"-4.279813762867553883e+00\", \"1.246748454568867892e+01\", \"4.289234884882011656e+00\", \"-6.700912100556468687e+00\", \"-8.750361315842463128e+00\", \"-3.021906632864008202e+01\", \"-9.897580046386689645e+00\", \"-2.412156976463478131e+01\", \"-1.148763761751204759e+00\", \"-2.201969451467683925e+01\", \"1.155377000551508893e+01\", \"-2.555406663360611930e+01\", \"-7.717535673914102112e-01\", \"-1.260599936649939856e+01\", \"1.823155891013928098e+01\", \"1.804038278376510007e+01\", \"-3.465042164222814591e+01\", \"-6.651005529315177078e+00\", \"-1.384459835283288953e+01\", \"2.393353703648983455e+01\", \"-6.918158736022922639e+00\", \"4.759529402074620386e+00\", \"-3.188127740100209095e+01\", \"2.153424972990259434e+01\", \"-1.123816121160735371e+01\", \"1.423838780315890418e+01\", \"-1.543772428184760592e+01\", \"-4.895875558362322799e+00\", \"2.252076751639991326e+00\", \"1.633189415993893334e+01\", \"-7.179571012266263708e+00\", \"-5.791768782711621100e+00\", \"1.674390976564138001e+01\", \"9.573074211995574734e-01\", \"5.413308673608438149e+00\", \"1.534246915207317308e+01\", \"-4.484266559593439183e+01\", \"8.746314294064699624e+00\", \"8.767905925532179623e+00\", \"2.398728591591964943e+00\", \"1.772096689174466277e+00\", \"-1.278129541404499037e+01\", \"8.538935304627090161e+00\", \"-1.182894750182922472e+01\", \"-3.607966014090977946e+00\", \"5.480967852323519018e+00\", \"-8.267229978469297080e+00\", \"1.005197609690409521e+01\", \"-2.724070088984327143e+01\", \"2.059972072031457657e-01\", \"-5.321984563349033692e+00\", \"-1.554917096547066180e+01\", \"1.666825544037169760e+00\", \"1.195764514912559484e+01\", \"-3.035128022579343821e+01\", \"1.786066717127553716e+01\", \"6.127764961314475123e+00\", \"9.517037934309064084e+00\", \"2.694428628504736967e+00\", \"6.034255592785475741e+00\", \"7.789508479062867252e+00\", \"2.002643620109658329e+01\", \"6.338658506739113463e+00\", \"8.316403901530174281e+00\", \"-3.041598599545492121e+01\", \"9.624316136050008907e+00\", \"-1.055163530522518478e+01\", \"-1.426565006274761238e+01\", \"8.717204412716492712e+00\", \"9.532189190256522338e+00\", \"5.889851015754971719e+00\", \"1.146341431067677519e+01\", \"-1.780720524454676479e+01\", \"2.305673975545788235e+00\", \"-5.259384154682256174e-01\", \"-2.208052660329041128e+00\", \"1.652185529338181880e+01\", \"-1.088882879615705335e+01\", \"-2.703430425665341374e+01\", \"-3.275372662541202295e+00\", \"5.492573619734253398e-01\", \"1.857226744145836506e+01\", \"5.452970698328824639e+00\", \"-9.883621390648906768e+00\", \"-8.820742649722051354e+00\", \"4.216915035460116812e+00\", \"-4.400967114210338593e+00\", \"1.344668956753176936e-01\", \"4.432395663297066690e+00\", \"-3.333844284630430366e+00\", \"-3.433065922224363931e+01\", \"-2.893705053633160418e+01\", \"-1.155416419385639770e+01\", \"-4.454381702948092325e+00\", \"2.493645876316854881e+01\", \"3.153309327583557309e+00\", \"1.536022011067391979e+01\", \"9.297524059787134476e-01\", \"-1.507246061124118519e+01\", \"1.097979197642011329e+01\", \"-8.276061944643466006e+00\", \"1.433542466341852339e+01\", \"8.432973152777941198e-03\", \"1.943440236404398558e+00\", \"1.634887721690261131e+01\", \"1.626369580698631356e+00\", \"-4.665586740321937320e+00\", \"2.078692225878419730e+00\", \"-3.941446818637491845e+01\", \"1.787206473028017584e+01\", \"3.809748106580483462e+00\", \"-2.783113880005112506e+01\", \"6.637921645366693824e+00\", \"-9.085362322386709266e+00\", \"2.518253536714626595e+00\", \"-1.536880694514432300e+01\", \"-1.808102818941008394e+01\", \"4.030721945390045136e+00\", \"1.030254297849172929e+01\", \"-2.378717710344821601e+00\", \"1.208270008908406368e+01\", \"-2.492116303335740468e-01\", \"2.028551575108896188e+01\", \"-8.299607558898655313e+00\", \"1.287374185839953711e+01\", \"1.636641597397307990e+01\", \"-6.465982195809347743e-01\", \"-5.627673936917886088e+00\", \"4.649605428390739981e+00\", \"3.405734609137379465e+01\", \"1.671474690283900344e+01\", \"1.253152565528470319e+01\", \"-3.027073174544873169e+01\", \"2.485577121900645281e+01\", \"-1.289212254816845205e+00\", \"-2.712500590570094516e+01\", \"2.567524346046495154e+01\", \"-1.485221511050716892e+01\", \"-5.479686207028874989e+00\", \"-2.540554397986444002e+01\", \"-1.285573151621273524e+01\", \"-8.754608779994102363e+00\", \"-1.007258693361134938e+01\", \"-7.711314252357119869e-01\", \"9.396558140769666778e+00\", \"5.721628598372473284e+00\", \"4.611422602471382248e+00\", \"-1.688274435167949150e+01\", \"1.443634244095134811e+01\", \"-1.034417226262525169e+01\", \"-2.318829592656189487e+00\", \"-3.243623627264224485e+00\", \"7.429606336840689274e+00\", \"-3.398675853477830078e+00\", \"9.134921870110461750e-01\", \"9.217670543297382224e+00\", \"2.155339201341405087e+01\", \"-1.677350724985670893e-01\", \"-6.261678699501093348e+00\", \"-7.304204100422107437e+00\", \"-9.766839950381978497e+00\", \"1.307269736766714452e+01\", \"-3.465262302392749238e-01\", \"1.930147320126694055e+01\", \"1.341879284003086426e+01\", \"6.030916666305951246e+00\", \"-8.378801755464136747e+00\", \"9.399311829071068658e+00\", \"6.466568075629153256e+00\", \"-3.205561776146785036e+01\", \"1.627162794890758946e+01\", \"3.076081056827332105e+01\", \"1.825795674201960495e+01\", \"3.418499557626681895e+00\", \"7.112996222638662047e+00\", \"1.607030563062920248e+00\", \"4.203046875996850895e-01\", \"5.914227551605645949e+00\", \"7.662812611443122757e-01\", \"-1.310120387653172891e+01\", \"2.256388620630050212e+01\", \"9.176946818836976050e+00\", \"1.670695429293751388e+01\", \"-1.387092170357997034e+01\", \"-9.259490388859431320e+00\", \"1.717277037011884033e+01\", \"-1.873944239402217349e+01\", \"2.607829655728540197e-01\", \"-1.629909570989725864e+01\", \"-6.025661536445232613e+00\", \"-1.151698325414232116e+01\", \"2.237223940109612741e+01\", \"-2.286380749409098811e+01\", \"1.783769714192123956e+01\", \"-5.262253898755446357e+00\", \"1.405076910479730223e+01\", \"4.002729322823630476e+00\", \"-7.306249882545662544e+00\", \"1.060706602909035823e+01\", \"-2.469847191671652897e+00\", \"6.716293445672041784e+00\", \"-4.899065684378870245e+00\", \"7.984254724510747359e+00\", \"1.861757001549255053e+00\", \"1.582900420443001899e+01\", \"6.768337947850644021e+00\", \"7.858842041687243096e+00\", \"1.073868493262047030e+00\", \"-5.490409054236332409e+00\", \"-7.825879518611310814e+00\", \"5.606238722156465570e+00\", \"-5.701851239360321344e+00\", \"-7.229036382778081915e+00\", \"-1.224336219807059578e+01\", \"1.468864636443763061e+01\", \"-2.445512242641674217e+00\", \"1.343723713481678317e+01\", \"-4.629041410192552775e+00\", \"2.011895886943841560e+01\", \"8.232162046421953150e+00\", \"-1.934123025602541546e+01\", \"4.634466479564383512e+00\", \"2.135693635786347144e+01\", \"6.538072782802872851e+00\", \"2.938586695465671639e+00\", \"3.500165066123851698e+00\", \"1.461361763847635231e+01\", \"1.548070330479788481e+00\", \"5.347263940890445433e+00\", \"9.916624249434647709e+00\", \"8.820013505955095923e+00\", \"1.801710016344535603e+01\", \"1.673603644289838854e+01\", \"1.847213168949364359e+01\", \"-5.620558741479295684e-01\", \"1.892394245489193239e+01\", \"-2.048329029060085560e+01\", \"2.770286242856227332e+01\", \"1.264946155895794000e+01\", \"-2.872374786706495264e+00\", \"8.647718629926679057e+00\", \"-3.298126605551384216e+01\", \"1.011979377486438381e+01\", \"1.626238163548975635e+01\", \"1.344054948029493524e+01\", \"-4.371864738395212946e+00\", \"-1.151904543334489661e+00\", \"2.820998451781974126e+01\", \"-1.027354455104629416e+01\", \"-3.714126923872244745e+00\", \"3.970836418624636099e+00\", \"1.864112627751560947e+00\", \"-1.430344408062908350e-02\", \"-5.444236019746417021e+00\", \"-4.428920291763927253e+01\", \"1.315642394156951767e+01\", \"1.197836993956348461e+00\", \"1.834089835194561147e+00\", \"5.569683370967304370e+00\", \"-1.463648146886267476e+01\", \"9.737915861058194622e+00\", \"4.919660380482698159e+00\", \"1.214411036606816197e+01\", \"-2.236828017690185177e+01\", \"-1.940922994446537686e+01\", \"1.019722674704941845e+01\", \"-1.416593957994778830e+00\", \"1.374064176126384851e+01\", \"3.799162961049692644e+00\", \"-6.836838513133325357e-01\", \"-4.806306406461072811e+01\", \"1.332665688347185684e+00\", \"5.526657288050262906e+00\", \"-2.630808322904136531e+01\", \"-1.813514671957863911e+01\", \"-8.286559195648178999e+00\", \"-1.548478330131767855e+01\", \"-3.190224038024375375e+00\", \"2.343331439493700330e+01\", \"-1.905439117670616911e+00\", \"-2.449777346918304488e+01\", \"5.366826198817287619e+00\", \"-1.645387136880623657e+01\", \"-9.281817652042944289e+00\", \"1.597882707046110973e+01\", \"-1.343285408756682286e-01\", \"-1.742594382160538657e+01\", \"7.408315938802704892e+00\", \"1.367859898502664251e+01\", \"1.685300081161651864e+00\", \"3.581038552781981021e+00\", \"1.585068874217081358e+01\", \"5.007665185736858149e+00\", \"3.691581601314357641e+00\", \"-3.143683489098573958e+01\", \"-3.382639884320980173e+01\", \"-8.953087862661353924e+00\", \"-3.550567396254665997e+00\", \"-2.220160675675959894e+01\", \"1.513561106700188041e+01\", \"-2.766854506560999294e+00\", \"-8.652668908018714689e+00\", \"-1.866512264373011654e+00\", \"-3.091382270135993426e+00\", \"9.674063351358475060e+00\", \"-1.115280871173624710e+01\", \"4.223236216749094218e+00\", \"2.379318631076938750e+00\", \"-5.285600556512862092e+00\"]\n",
      "sss\n",
      "sss1\n",
      "gggg\n",
      "load_json_data file_content\n",
      "sss\n",
      "sss1\n",
      "55555\n",
      "zzzz regression linear MAD_RMSE_R2 demo_training Synspot Demo Training /Users/qile/Documents/synspot_Data/data/BostonHousing/BostonHousing_2_123_1.0/0/train/dataset.csv 1 2-8 9\n",
      "make_result_done ['200', 'make_result', 'complete']\n",
      "make_residual_multiple_paths ['200', 'make_residual', '/Users/qile/Documents/Apollo_Package/synspot/synspot/PI/1/task/aa1dcc80-eda2-4433-a358-5703e941deff/train/round/2/residual/e56c78b3-acf8-4c51-bbb2-d95622984e4c.csv']\n",
      "residual_paths ['/Users/qile/Documents/Apollo_Package/synspot/synspot/PI/1/task/aa1dcc80-eda2-4433-a358-5703e941deff/train/round/2/residual/e56c78b3-acf8-4c51-bbb2-d95622984e4c.csv']\n",
      "cur_path ('/Users/qile/Documents/Apollo_Package/synspot/synspot/PI/1/task/aa1dcc80-eda2-4433-a358-5703e941deff/train/round/2/residual', 'e56c78b3-acf8-4c51-bbb2-d95622984e4c.csv')\n",
      "cur_path e56c78b3-acf8-4c51-bbb2-d95622984e4c\n"
     ]
    },
    {
     "name": "stdout",
     "output_type": "stream",
     "text": [
      "load_json_data send_situation_res\n",
      "sss\n",
      "sss1\n",
      "json_data dict_keys(['message'])\n",
      "key_value message send situation successfully!\n",
      "Sponsor: Training task_id:  aa1dcc80-eda2-4433-a358-5703e941deff  is running\n",
      "lihjai a \n",
      "ggg http://3.145.140.55 1\n",
      "get notification url http://3.145.140.55/users/1/notifications/\n",
      "short_polling_res <Response [200]>\n",
      "unread_request_notification {}\n",
      "unread_match_identifier_notification {}\n",
      "unread_situation_notification {'check_dict': {'aa1dcc80-eda2-4433-a358-5703e941deff': 1}, 'rounds_dict': {'aa1dcc80-eda2-4433-a358-5703e941deff': 2}}\n",
      "unread_output_notification {'rounds_dict': {'aa1dcc80-eda2-4433-a358-5703e941deff': 2}}\n",
      "unread_test_request_notification {}\n",
      "unread_test_match_identifier_notification {}\n",
      "unread_test_output_notification {}\n",
      "train_output ['200', 'make_train', '/Users/qile/Documents/Apollo_Package/synspot/synspot/PI/1/task/aa1dcc80-eda2-4433-a358-5703e941deff/train/round/2/output/1.csv']\n",
      "Sponsor: Training task_id:  aa1dcc80-eda2-4433-a358-5703e941deff  is running\n",
      "unread_output_singleTask 2\n",
      "load_json_data sponsor_get_output_res\n",
      "sss\n",
      "sss1\n",
      "json_data dict_keys(['output', 'sender_random_ids_list'])\n",
      "key_value output None\n",
      "key_value sender_random_ids_list None\n",
      "load_json_data sponsor_get_output_res[\"output\"]\n",
      "load_json_data sponsor_get_output_res[\"sender_random_ids_list\"]\n",
      "from_id e56c78b3-acf8-4c51-bbb2-d95622984e4c\n",
      "save_output_pos ['200', 'save_output', '/Users/qile/Documents/Apollo_Package/synspot/synspot/PI/1/task/aa1dcc80-eda2-4433-a358-5703e941deff/train/round/2/output/e56c78b3-acf8-4c51-bbb2-d95622984e4c.csv']\n",
      "cur_output <class 'str'> [\"-1.747521062622437338e+00\", \"-1.194975335129460969e+00\", \"-8.704192629154273719e-01\", \"-2.393508873559324346e-01\", \"-1.142249913829025409e+00\", \"2.141563200352253116e+00\", \"3.482627170152235330e+00\", \"-1.803412730680308496e+00\", \"-1.760147034067051364e-01\", \"-5.286316976318053973e-01\", \"-5.126152148721768720e-01\", \"-2.773660103905582486e-01\", \"8.646770767446623207e-01\", \"-1.030064439757781170e+00\", \"-1.590860705037028922e+00\", \"-1.792598452166912271e+00\", \"3.343138939340962512e+00\", \"1.295148599614931673e+00\", \"2.673095862485225904e+00\", \"-9.422148975929640624e-01\", \"-1.366941119594174525e+00\", \"-5.962836316969298833e-01\", \"1.208394022450224981e+00\", \"-2.947920800039586786e-01\", \"2.001679033291028809e+00\", \"3.509491327428130858e-01\", \"1.225542966062673100e+00\", \"-9.282506251011846121e-01\", \"-1.519571547708401527e+00\", \"-8.374670491205831180e-01\", \"6.167547860472639698e-01\", \"-7.483289937897898980e-01\", \"-1.232036850531385674e+00\", \"-1.625465332334629753e+00\", \"3.324163234772170572e+00\", \"-4.845188261213317360e-01\", \"-6.205892010814527404e-03\", \"-1.152126738085599067e+00\", \"-1.103806842943426458e+00\", \"-1.612771405575746053e+00\", \"-1.851512702739464666e+00\", \"1.947349555863970183e+00\", \"5.841643169875136987e-01\", \"-1.443767010532010842e+00\", \"-1.817350648319616235e+00\", \"-7.152720996959014421e-01\", \"2.514822055097625242e+00\", \"-2.806885611151798354e+00\", \"9.000605657418856431e-01\", \"-6.898003788163449279e-01\", \"-1.112410461150027619e+00\", \"1.599810205408924713e+00\", \"-1.405136942088783814e+00\", \"1.278260721794652000e+00\", \"-6.755640758527070577e-01\", \"-6.915370828334419517e-01\", \"-4.540342033531037380e-01\", \"-1.232258039123345084e+00\", \"8.631879506560512505e-01\", \"-3.315228125415676241e-01\", \"2.325719731440026194e+00\", \"2.725442745610990425e+00\", \"-1.546237385996667824e+00\", \"-2.861692081221001160e-01\", \"4.021935260077239005e-01\", \"-1.436685894971051036e+00\", \"1.191877903004191275e+00\", \"1.678038413246341509e+00\", \"-8.656800641219639658e-01\", \"2.024220248813290546e+00\", \"-3.001346639215971002e-01\", \"9.935518824549767203e-01\", \"-1.083017044541897622e+00\", \"-1.399237290850082527e+00\", \"2.868150237480214138e+00\", \"-7.169346853311224788e-01\", \"2.540660270304584412e+00\", \"-4.177885060811507567e-01\", \"1.407627243651798921e+00\", \"1.368020574699976510e+00\", \"2.669027161544960780e+00\", \"-1.037870038257407312e+00\", \"1.532931927095990687e+00\", \"-1.363109912722785699e+00\", \"-1.371976655455223515e+00\", \"-5.656220962710852840e-01\", \"3.982123406534904819e-01\", \"1.234905338290933186e+00\", \"-1.450089245238637803e+00\", \"6.982807554534617989e-01\", \"-1.054920913668112359e+00\", \"1.178427584036468856e+00\", \"3.462724939957860126e+00\", \"-3.136984281858871126e-01\", \"-7.036600782799873333e-01\", \"1.564783790248238216e+00\", \"-1.168790407932617903e+00\", \"-9.566745983187548985e-01\", \"1.279764205989581294e+00\", \"4.946770982562502250e-01\", \"-1.580208849807493765e+00\", \"3.337694254194860655e+00\", \"1.315102598763375763e+00\", \"1.860914590732035023e+00\", \"7.810915640988595754e-02\", \"-2.118347888760285513e-01\", \"-8.948102649693934207e-01\", \"-2.376845325529449493e+00\", \"1.457845467689340424e+00\", \"-8.855089479841209421e-01\", \"-1.457807188177026703e+00\", \"-1.597241655225903001e+00\", \"-4.742021846537191609e-01\", \"-2.392607760823585838e+00\", \"-6.843544822340867917e-01\", \"3.835818578501824394e+00\", \"-2.265364210065365647e-01\", \"5.467435404507887675e-01\", \"-1.320804763355402534e+00\", \"4.011788418894279395e+00\", \"-9.468573125178169070e-01\", \"-9.658150307494515197e-01\", \"1.766612221761696633e+00\", \"2.646089057298725233e+00\", \"-8.782310569565097147e-01\", \"1.003765761568634840e+00\", \"4.319493331372308842e-01\", \"1.251310118978401775e-01\", \"-7.334241736763458253e-01\", \"-1.727737921643691887e+00\", \"-1.803316312571896951e+00\", \"3.267707551115964226e-01\", \"-1.879580261661344398e+00\", \"-7.298481257220422735e-01\", \"-1.170710102860628599e+00\", \"-7.282283090056393959e-01\", \"1.225485336296824324e+00\", \"-4.197938153320224797e-01\", \"1.224996494744981845e+00\", \"1.116564954854007752e+00\", \"7.569531530293691635e-01\", \"-6.458089982095436277e-01\", \"-4.372580180881981415e-01\", \"8.201726979832596465e-01\", \"-2.612785302589504699e+00\", \"-2.519631513541247814e-01\", \"2.186935808083088517e+00\", \"1.703808823463581756e+00\", \"-1.839341493049785781e+00\", \"1.168137108449549100e+00\", \"1.956605986015382825e+00\", \"-6.777955047721142545e-01\", \"-1.325156813403585154e+00\", \"1.225349447565884597e+00\", \"-7.608174353139877111e-01\", \"1.636657065883294182e+00\", \"-1.265280843002844602e+00\", \"-6.037417897877738193e-01\", \"-1.842965554942369133e+00\", \"-2.285699942338500712e+00\", \"-6.222781729247300886e-01\", \"1.371205515299428912e+00\", \"1.196160193142693728e+00\", \"2.132323787049750674e+00\", \"-1.055274814270094952e+00\", \"2.243995127685622037e+00\", \"-1.569545887663077899e+00\", \"1.013287954869174001e+00\", \"1.652153800970921571e+00\", \"1.597676253971529459e+00\", \"2.108688210471357127e+00\", \"-1.263010512903995908e+00\", \"3.341775326276651192e+00\", \"-1.437960913675699892e+00\", \"-2.928631000523431172e-01\", \"2.080918014077799860e+00\", \"-3.133996087541743303e-01\", \"-4.197131101637961437e-01\", \"8.842493634462756935e-01\", \"-3.663151052840207256e-01\", \"-2.035238674775698531e+00\", \"-1.266044671504160390e-01\", \"-2.130117130909432444e+00\", \"-6.086327249043500531e-01\", \"1.169686427573882304e+00\", \"7.757341573060187734e-02\", \"1.026159146562727331e+00\", \"-3.486675901975719305e-01\", \"-1.218290893245278728e+00\", \"-8.844510452961462654e-01\", \"-9.249012158198686162e-01\", \"-1.049939694059115025e+00\", \"2.684733883501237983e+00\", \"-5.139914496101511965e-01\", \"-1.661211768561968061e+00\", \"-1.778835833072669903e+00\", \"-8.645742140668255526e-01\", \"1.523512318313175185e-01\", \"-1.697297788015147191e+00\", \"-1.639430855225580075e+00\", \"-1.006001407865619646e+00\", \"1.308829318651066220e+00\", \"-1.902291891557613912e+00\", \"-6.445815458318476798e-01\", \"1.241029326862878174e-02\", \"7.870876432521412003e-01\", \"2.717631920702706871e+00\", \"-2.114255141243515934e-01\", \"-1.299984748555725433e+00\", \"-1.361367496617891693e+00\", \"4.149312249514317680e-02\", \"-1.067895432561998259e+00\", \"-6.765447629341998503e-01\", \"3.201600827053594944e+00\", \"5.164966161504673803e-01\", \"-1.623658479914793062e+00\", \"-8.339415101968141730e-01\", \"-1.083467773032604997e+00\", \"2.420592181471435733e+00\", \"-1.255227983170190686e+00\", \"-8.641194419146280836e-01\", \"-7.914320084782506814e-01\", \"3.592092177949584020e+00\", \"9.294010667102250434e-01\", \"1.615516529625327380e-01\", \"-6.612991071264868737e-01\", \"-7.379720111936443061e-01\", \"-1.962434342330492132e-01\", \"-1.354648260625554101e+00\", \"1.630213678821354595e+00\", \"-2.030055236884203307e+00\", \"1.209315929676677559e+00\", \"-1.102267368401520287e+00\", \"1.680613818802021875e+00\", \"4.085363644411668660e-01\", \"-1.614547044108902263e+00\", \"7.606555374988130946e-01\", \"1.099254378382728436e+00\", \"2.169099772798054104e+00\", \"-8.237640487987074600e-01\", \"1.237763440637710266e+00\", \"-3.475924956428643742e-01\", \"-1.141637674728380958e+00\", \"-1.769024322755109235e+00\", \"1.557291629624106388e+00\", \"-1.807167765916445346e-01\", \"1.724847007969999568e+00\", \"-5.085893804718804034e-01\", \"-4.258440167544950694e-01\", \"1.762171251511533532e+00\", \"-2.002446869173729826e+00\", \"8.595419852141701345e-01\", \"-1.586218396313290313e+00\", \"1.404544908176331264e+00\", \"-7.916959547921541551e-01\", \"-7.555533120214135145e-01\", \"-1.211897854653206208e+00\", \"1.691583419669024702e+00\", \"2.523533405910884486e+00\", \"-1.031483339901551943e+00\", \"3.719794302716648571e-01\", \"1.390204505082927255e+00\", \"-1.780013475949656865e+00\", \"-4.559819290602551978e-01\", \"7.111360016155496844e-01\", \"-1.031415428780694254e+00\", \"3.912815449683145541e+00\", \"-6.808139978142850879e-01\", \"-1.424856374932611081e+00\", \"2.102805186177218566e+00\", \"1.234240298662420576e+00\", \"2.642957506179469895e+00\", \"-7.496525530203708432e-02\", \"-1.326152137676917642e+00\", \"1.092238475394797348e+00\", \"3.274775624271865304e+00\", \"-2.029991731529449950e-01\", \"2.979287854824976378e+00\", \"1.209954387622480310e+00\", \"8.012844291281426834e-01\", \"-2.151291994686175268e+00\", \"1.058472088348521245e+00\", \"1.467851431202267909e+00\", \"8.097331623975683179e-01\", \"-7.498360998531594657e-01\", \"1.315516068876919853e+00\", \"-6.713272724615833020e-01\", \"9.838047429983379777e-01\", \"1.233935744289913622e-01\", \"3.617083112429729130e+00\", \"-9.431679147782995321e-01\", \"3.894982688526915648e-01\", \"1.597319561442849256e+00\", \"-1.458334998112958303e+00\", \"-1.215114558884229812e+00\", \"-1.838221696859314136e+00\", \"-5.142347846216264173e-01\", \"-3.265403345617481912e-01\", \"-1.226974191474627274e+00\", \"-1.124624319979106835e+00\", \"-6.330135895556145975e-01\", \"-1.992813724583625712e+00\", \"-1.338166426449909130e+00\", \"-1.329984833949345718e-02\", \"-1.374461582241637947e+00\", \"-9.662577122627365178e-02\", \"-1.082695418653457781e-01\", \"2.017610819705999869e+00\", \"1.232860798822182913e+00\", \"2.238399916527606504e+00\", \"1.815488294334729691e+00\", \"-1.122016052648773465e+00\", \"2.513902488428390480e+00\", \"-1.144350692699629635e+00\", \"1.844742050440134173e+00\", \"1.093464501193303740e+00\", \"-7.648406003370725736e-01\", \"-9.384009508709998393e-01\", \"-1.034264884427851250e+00\", \"-1.540836524597435087e-01\", \"-1.409253051696186754e+00\", \"-1.939087956607082885e+00\", \"3.259379204152180187e-01\", \"-2.056724894209061905e+00\", \"2.074411567835687364e+00\", \"-9.217843876579124851e-01\", \"-1.511376265933189966e+00\", \"-1.273364629950386018e+00\", \"-8.762498351191697621e-01\", \"-1.053071339210707169e+00\", \"-2.450649731784908247e-01\", \"1.009590162119749834e+00\", \"3.878848589933452384e+00\", \"-1.897982103552497746e+00\", \"6.213421943322789964e-01\", \"-7.666532887697411480e-01\", \"2.871711275575913991e+00\", \"-4.451145549849777061e-01\", \"2.333980590107246567e+00\", \"-1.237669294022954558e+00\", \"1.674114452450965018e+00\", \"1.628391884455627547e+00\", \"-6.572758282929656859e-03\", \"-1.460674211749093176e+00\", \"4.359073700452772648e+00\", \"-1.282124222725518514e+00\", \"1.456036472794880909e+00\", \"8.126212406036574798e-01\", \"-1.229409540902816067e+00\", \"-1.858221141030080625e+00\", \"-1.837796067116791665e+00\", \"1.026555890441693375e+00\", \"-1.084311052839872502e+00\", \"-1.017439466951311822e+00\", \"-1.919589021735625123e-01\", \"-9.999844465650050696e-01\", \"1.677220127632113922e+00\", \"-7.644891939390338065e-01\", \"-5.387349811098467445e-01\", \"9.286071307322946167e-01\", \"-1.144865306584483378e+00\", \"-2.167472709404326903e+00\", \"-1.944121979119595833e+00\", \"-1.378419875451394105e+00\", \"1.201160742312130658e+00\", \"-1.608444048082631417e+00\", \"-9.375884069169292401e-01\", \"1.528097243074204359e+00\", \"-1.307878790213045539e+00\", \"1.158661972471481949e+00\", \"2.372224143940788732e+00\", \"1.130813668944049777e+00\", \"-1.509172282617959215e+00\", \"-9.309971697977934557e-01\", \"-1.125937893036053739e+00\", \"8.970598944472649716e-01\", \"-1.030586108982451954e+00\", \"-1.758852780738379140e+00\", \"1.265797778127702333e+00\", \"-1.805517230654305916e+00\", \"1.542739236124346158e+00\", \"-7.133472350245386728e-01\", \"-4.283359067471929627e-01\", \"-1.118152918878333013e+00\", \"-1.240517235253596695e+00\", \"-8.600511021979516668e-01\", \"-1.906811382808476285e+00\", \"-1.184454198597155283e+00\", \"-1.016184121021135534e+00\", \"7.025505629952779607e-01\", \"5.874080895997726426e-01\", \"1.350536078258143480e+00\", \"-1.056267949993571209e+00\", \"7.148030302021870508e-01\", \"-1.849686820411593491e+00\", \"-5.323272458436756338e-01\", \"-1.560828609528187805e+00\", \"-3.105631415968226339e-01\", \"-5.922695114303254682e-01\", \"-1.102943834288024672e+00\", \"-8.227461915992102803e-02\", \"1.821570349814903622e+00\", \"-1.018218416755269473e+00\", \"-9.416165011766918225e-01\"]\n",
      "sss\n",
      "sss1\n",
      "gggg\n",
      "load_json_data file_content\n",
      "sss\n",
      "sss1\n",
      "55555\n",
      "zzzz regression linear MAD_RMSE_R2 demo_training Synspot Demo Training /Users/qile/Documents/synspot_Data/data/BostonHousing/BostonHousing_2_123_1.0/0/train/dataset.csv 1 2-8 9\n",
      "make_result_done ['200', 'make_result', 'complete']\n",
      "Sponsor: Training task_id:  aa1dcc80-eda2-4433-a358-5703e941deff  ends\n",
      "lihjai a \n"
     ]
    },
    {
     "name": "stdout",
     "output_type": "stream",
     "text": [
      "ggg http://3.145.140.55 1\n",
      "get notification url http://3.145.140.55/users/1/notifications/\n",
      "short_polling_res <Response [200]>\n",
      "lihjai a \n",
      "ggg http://3.145.140.55 1\n",
      "get notification url http://3.145.140.55/users/1/notifications/\n",
      "short_polling_res <Response [200]>\n",
      "lihjai a \n",
      "ggg http://3.145.140.55 1\n",
      "get notification url http://3.145.140.55/users/1/notifications/\n",
      "short_polling_res <Response [200]>\n",
      "lihjai a \n",
      "ggg http://3.145.140.55 1\n",
      "get notification url http://3.145.140.55/users/1/notifications/\n",
      "short_polling_res <Response [200]>\n",
      "lihjai a \n",
      "ggg http://3.145.140.55 1\n",
      "get notification url http://3.145.140.55/users/1/notifications/\n",
      "short_polling_res <Response [200]>\n",
      "lihjai a \n",
      "ggg http://3.145.140.55 1\n",
      "get notification url http://3.145.140.55/users/1/notifications/\n",
      "short_polling_res <Response [200]>\n",
      "lihjai a \n",
      "ggg http://3.145.140.55 1\n",
      "get notification url http://3.145.140.55/users/1/notifications/\n",
      "short_polling_res <Response [200]>\n",
      "lihjai a \n",
      "ggg http://3.145.140.55 1\n",
      "get notification url http://3.145.140.55/users/1/notifications/\n",
      "short_polling_res <Response [200]>\n",
      "lihjai a \n"
     ]
    }
   ],
   "source": [
    "train_file_path = \"/Users/qile/Documents/synspot_Data/data/BostonHousing/BostonHousing_2_123_1.0/0/train/dataset.csv\"\n",
    "synspot.callForTrain(maxRound=2, assistors=['xie2'], train_file_path=train_file_path,\n",
    "                     train_id_column='1', train_data_column='2-8', train_target_column='9', \n",
    "                     task_mode='regression', model_name='linear', metric_name='MAD_RMSE_R2', \n",
    "                     task_name='demo_training', task_description='Synspot Demo Training')"
   ]
  },
  {
   "cell_type": "markdown",
   "metadata": {},
   "source": [
    "Call for Test\n",
    "-----------------\n",
    "\n",
    "After finishing training task, you can start the testing with the assistors in the above task.\n",
    "\n",
    "* Please fill in the ``task_id`` with the ``task_id`` that printed out in the terminal.\n",
    "* Please fill in the ``test_file_path`` with the your own local data path.\n",
    "Here we offer another pre-registered account as the assistor for the simple demo."
   ]
  },
  {
   "cell_type": "code",
   "execution_count": 8,
   "metadata": {},
   "outputs": [
    {
     "name": "stdout",
     "output_type": "stream",
     "text": [
      "handleTestRequest aa1dcc80-eda2-4433-a358-5703e941deff\n",
      "ggg http://3.145.140.55 1\n",
      "get notification url http://3.145.140.55/users/1/notifications/\n",
      "load_json_data get_test_id_response\n",
      "sss\n",
      "sss1\n",
      "json_data dict_keys(['test_id'])\n",
      "key_value test_id None\n",
      "sdfasdfsdfsf\n",
      "test_hash_id_file_address ['200', 'make_hash', '/Users/qile/Documents/Apollo_Package/synspot/synspot/PI/1/task/aa1dcc80-eda2-4433-a358-5703e941deff/test/f27f358d-a995-4df6-80ae-7089985fbc85/id/1.csv']\n",
      "short_polling_res <Response [200]>\n",
      "lihjai a \n",
      "load_json_data find_test_assistor_res\n",
      "sss\n",
      "sss1\n",
      "json_data dict_keys(['assistor_num', 'task_id', 'test_id'])\n",
      "key_value task_id None\n",
      "key_value assistor_num None\n",
      "key_value test_id None\n",
      "Sponsor: Testing test_id:  f27f358d-a995-4df6-80ae-7089985fbc85  is running\n",
      "ggg http://3.145.140.55 1\n",
      "get notification url http://3.145.140.55/users/1/notifications/\n",
      "short_polling_res <Response [200]>\n",
      "unread_request_notification {}\n",
      "unread_match_identifier_notification {}\n",
      "unread_situation_notification {}\n",
      "unread_output_notification {}\n",
      "unread_test_request_notification {}\n",
      "unread_test_match_identifier_notification {'check_dict': {'f27f358d-a995-4df6-80ae-7089985fbc85': 1}, 'max_rounds': {'f27f358d-a995-4df6-80ae-7089985fbc85': 2}, 'test_id_to_task_id': {'f27f358d-a995-4df6-80ae-7089985fbc85': 'aa1dcc80-eda2-4433-a358-5703e941deff'}}\n",
      "unread_test_output_notification {}\n",
      "load_json_data sponsor_get_test_match_id_file_res\n",
      "sss\n",
      "sss1\n",
      "json_data dict_keys(['assistor_random_id_pair', 'match_id_file'])\n",
      "key_value match_id_file None\n",
      "key_value assistor_random_id_pair None\n",
      "sponsor_get_test_match_id_file_res {'assistor_random_id_pair': ['11d37b61-1a9e-4f1b-a9e6-f78191cd16eb'], 'match_id_file': ['[\"c328fbdb5c822a3219651911653fdfbd7c7d4e90ea1b8a00e96ae75c82d2d106\", \"6bd41e9a02fdf51760eb63166694b8604fe81027629bf6e14543d1a4adc69216\", \"149c750850b9a604e9120eb0fe83d443dd8a2eb64ba4b1294a08a2e4ee8caefd\", \"f66fddaac9d29111040d36e0faa511fcfb2c29ba0dbcf153f3cb332a743a7cda\", \"66479c15824a6ea73e257dbbb16256e85c486e64646ede5f19a287916682825a\", \"e3ca59a057eff3bee819cdef8881498280145ccda3273cabb2967fbcad95be7d\", \"e2ee690a8b14f49b98277c5ca207ccfa6bc2fe9b4f40b53ca74d03f26cac93ee\", \"bc5d9dd13f223c8e82a18242348bf3626af4066aa91d3dcef3f01d9c92981fd6\", \"8b7e7c50cefcb26543541ebb691b2b38ebcbd19fe7781516a3677fdca2dfb735\", \"9bf5e6565468e24e238c6285a5b53d3e18c1064889d4e77b45a57501b1ae3456\", \"33ca3f465e77c18c3a129c00627d0b8e09cbcf6db0bec30af82ed1b595da5737\", \"a11a6f808c78bafee82f66557308dface7ff91062187c980b4c0f2dde9adc862\", \"9da2132a06be518dac9ff3611748656b0f065e77d4cb096e3ba06d0a11510111\", \"f709b019c7b6980dbe340629215884b7c37a2d7b2a21ca39b0abaa3de293f5be\", \"a7782520c7c5b6a7df13e5eb46a2d9a201c807eee734facc92353f09b70d4e31\", \"4394d2864aedf7e5523edd0b120e199f15993a4a99307316f02c73792d8ed3d4\", \"f203da74ae436e7b3df02ed021b230706e25ba9a3b1aa684e248a7d3cc02ed83\", \"f5057ddde581d59e09d2e0d682af352554ecad3630b408b079e8d1b95f0bdb13\", \"3674d741afa53ceedcb241043330bef7396523e40c9baa23f2dbc5a98024b572\", \"a2904ed1df7f803dad543c1b9d1d378dfc98fcdfe480bf67493d8a3547531999\", \"602a638028ac0a12cb1ef2948818fc3ba834851e472fffffd59d0f8b55405aa8\", \"981925e1ced60fc77b4e193928b7e7e2ed1593812b9587d24bd7f6f2cbfce646\", \"69f8a9463004abb49835328c1baac2a00aba9835e73b74e6d2bb277a1682b962\", \"9cee01b3cdaea9d7a9cb0c2021e61adb7e0bdd0a66b77f0fc70031d8334f808a\", \"ba70c47fb3acd79652fa7a0be254ee2af0db469de0ab4818cdabca142adb2a88\", \"01f59b3043df85c7881e8a41cd6bf62e7240c19bf6fbe616c07919fa5aa1f500\", \"dbbaccdef5f84f323ca1ebfa5af0ac91c329eafb887a4d60ef6535c4a4ae7ce6\", \"1c9bb73b061147c4ac259e120ce4df8da09685735db7e1c44d43074367c3f732\", \"743cc837fcbd228fb03ca456965b00d3c56bc49bcb324cf2320210052a610f6e\", \"8059d072b6a2e554d3376799ac232fc86bc44f04e53f1f1d45795edc2b1ab377\", \"0b034ce6f7c0eba615020e1fd1f77fac333fd37e0e0a0e9f2a58c616493cf935\", \"40e58ce5aa7968fe2c35134b8802c693f5a68682a617d46141e4ffa19b2be58d\", \"f078316dd5702ef3584a0cb324991e11914c0b7c7e112b0cd20b15d0a38ce0e1\", \"8dffaf57bcef34fe14c9d1a19ac29c83eb8fb6e243fbc10a363b267ea430f5a0\", \"380e5feb51f9eb23b708b088df36294d10001fd6fe27fb60602f4490093dc6a9\", \"82ae7a84cfff55f958324b013272aef416880f353cf28497c2ecb50a546e395d\", \"e73bccfdb2ba31f2197f31f738394a25bf14aa8156cd109baaa99da00e74704d\", \"99f61c3ccc01d5a8a532644f4358a4979cd102ce529d4dbae92ce470533f0cc5\", \"e5e7b1e4851169313a5d4b4d2cc519e7a4cc272bcb98e0ae901bf1028c85a883\", \"47fc5b62da45cd1fe140b46aa3fb945dd1a1d0d7127aaba0ae94f6131c2e12c3\", \"598ff24e9126a3f4e87635d5e666b87270e209a7da6fe982802285603fbecf67\", \"281fff92bf01d4667fff39d7a2ce86b9de7b329f1868a98fe46ece853cd6bd3c\", \"83baea38c494a2b18b4b3e08142a90ee665b3c8778b63eef5e6cb62c9a450c99\", \"508b84f325c166b7a51c7765b156c91178082a49d8e719ac66da9e1597144318\", \"630bb79deeb2757e80bce7bbd4ef0931cc0b46463bf0a9f7ed059a88026388fa\", \"a046f6beb819d83b1222a6d5af9139d8624e853022323fcf316d407af973bf57\", \"daf9d9ee2244bfa5c6c651e3ba65ff2076422902e2130002cd3336d7a11a3e20\", \"9d59ac18a6f31b4b7ba3ee6c685ad375eb656d20f04e014dbaff47c8f1873684\", \"1a980f97b9119464c95b0bf5b8db259680c5020352b7413f14bb34438eafa78b\", \"089d7480846ade824908e8cee96a3984de29cd5d81f46c1a1227e9ca81e8c06c\", \"342c65b2bdba9ce1b2859497f50a7f86937d5a6bd26db67e6b245c19c258a379\", \"2c6129149f0e2303c6ae42fb1edeb14b1d5255eca4c9a5ea0d5e86b347876726\", \"8fa4ce59ed9ece0fac0e636de6cbf892aa2f3f8660151a3099973b1ef675a316\", \"4a0b7c53c40b1ee6b9052a42190eb5d7bdbb726f99b50a9da05408a7d33a47f9\", \"3f5f438e0328fb2df504bd1b40318fc82bf02056ecc2014d32a5c4dec0090b9e\", \"7927ee7824aae858800db65c6315414d2db3c12aa4e00f29dffcef6aa6eeeadc\", \"f5eaed8e3d02a7d93b350afa18d5850bdcb5f95f8248ca407fe46de77ba3bede\", \"ed0809af1e96454f37a6bdad64bf5946eea7467d56c99efb81d5f79d2bf7446a\", \"1d642abf6690ace3f5cdec06dbe3eef6687340444c9f61a1ce49a54fc655dc45\", \"3c04340e6d036c5f180ebf8d2c6b1795be077cf2f9df9ae7e873cce2a9d2c4ab\", \"5e4cba653c13590637afbee0ce52d5ea10ee51487e681d3887b817995fdb9085\", \"830ecf677d9208cb88cd38b68d2be4a8b6bce6f5d33c64c35ba82af33bc76caa\", \"2cde84d48ed155cd1ccb2a7d85ba32310b1a3d4f0968fef3fddf7a0e55a6457e\", \"9744b5cdb8bf863a816d3bb874ead4f517dedc6c21f30b09942cff18a7030b3e\", \"c97bf88507615656c1ab08228ded5dc324e576f8544267ccc00e116d48eb8988\", \"d0eefbd489b0914e7029a695aa3c0e00abba74094d216e6a554c32f1f26cfb3a\", \"4be22349298ca323ec55cf824c56ab6ffec6678faa874b6300a0af17d67d2cd2\", \"8ac995b57422b63f1cc592a54aac5b1faaabb3e44f1a91b404b9a909596eca3f\", \"6023081b3e8acbe70dc0b0567e6ccfd6d5c62ca9b00e964d01df4e59cc8b02ba\", \"2e62a2eefea8d98a47ebbba3ebcbc422f4f46e563e0c9602c2df6e6db49116fb\", \"40420aab37834dda9fdf632f2b2cf76d847959ad2bc1f4b83221dc30a054f71a\", \"b94118791ae7efea8a45b9f81dd2b7bfbd08ab534caf7399d62bcd52ab34a722\", \"f22efe4f3b1f62e19b5f2d39e8a7f63cae92494185749be3fd128af77c29ed69\", \"d2f46303555a752164e28ca5cbc015c177207bf8ce7fdf326739c0c9f3692653\", \"0865294c1192536c7824312356bf4720a4afb1b1f9e1c1f85e39e38e70478fd2\", \"8b206f8289db37b00b2ff1afeede00dcb17fdafe0108a296a977315d5d5aa057\", \"dbabd950ca1936e1be89955f6b165b8cc8a01f743b179143d795a4660293e573\", \"415cd90ad879ece97c8ed74fe1408d8f38adf6e3e5b1ee44387172143d9d2cf1\", \"709d0ff41033085d931684d80219dfbc47b38d56edd872492d4fd20c069dcda3\", \"7a6e5d5980dd2f4f4f114672f9f047837b947b3ed2cc88342825321648a0ecc1\", \"44f3ff16eb07f47dc1e389659d0125690016b3392e14d2b7ac64127ad8a86485\", \"a32d56827fdd5e044371282a4c001c637e5206ceb908fd5aefb266a9dd97eb37\", \"e52af51641191e1adcad0f3bcd936b4e1becc782bc80aedb8c98a39a9762f39b\", \"26a50e3147a119ffd54399d579c3654ccd7ba170ab80cac694dd37be7740eb89\", \"cb64c1d47fea64e90521e94c714bd003b68fde410ad587f9511940f06b9c1dcc\", \"37bb1e8854a0bb0202b076e1f6bd553f2ae5a003bdcae569949529ba41747036\", \"17bc803b7eabc234600005adb9e6bf8c48c9b192513e498b9a1daf481fd846ed\", \"5a2ae13b1e9e69e880a0c559031e64bb43f679df6453ff9a576394677f1a6624\", \"ae362923b2d94357ca507d2a05ff1ac93dae73e80f05f24523a0247f65f216e3\", \"c49c945b2c54f41f45448c014c382194015dd6f1caa33f85d789d5e6d57cec8b\", \"3314c5366119f4d38ad1c639d7dee8564a501ea80f52e9b41e6e5f0f3a62eab6\", \"2642a82c91bd2b2707d36728fcb34165fe647479971392d3199a5e0dc378dfc0\", \"e83643d58f5a8c184d129537e03959a6e2288b45d75935aeff6db3c5d16c0ae5\", \"1e462ad127b09d3cac5e81a0fdc1168933dcd82db21659bce37cf03eb3760581\", \"3a70bcbd32cc8916b2f5292c2b992a416bcb848911fa83f56a278f1b460d26f8\", \"8896083c201ab7791bb4dca6c03423f20e2b24653175bc226714a98723bce1b1\", \"a03b79fef13690b3d131687de7c6e1bc199928581ef1682c18dd624cfa42a678\", \"7f3da66de2534dc5be316f9a5534c627c59d5003062b54315dc95c04e6f7b3e1\", \"51c3445fcdc11ca73d077efbe08487ad3eb005a774b2c0dcbc1d909f62d02a20\", \"36079323b372c03edac63bdf0dd5898ff31a51073cd89bfbb81dcb4ff1ea9550\", \"b0807572584c04079a5bc4ef3f7e0e4b0aaf369e3171a25240696d7406b3e90c\", \"0191e33f019f6f0de4aaf97d777da688e952b1b81b664b5463c2451f28aa4315\"]']}\n",
      "load_json_data sponsor_get_test_match_id_file_res[\"match_id_file\"]\n",
      "load_json_data sponsor_get_test_match_id_file_res[\"assistor_random_id_pair\"]\n",
      "match_id_file_list ['[\"c328fbdb5c822a3219651911653fdfbd7c7d4e90ea1b8a00e96ae75c82d2d106\", \"6bd41e9a02fdf51760eb63166694b8604fe81027629bf6e14543d1a4adc69216\", \"149c750850b9a604e9120eb0fe83d443dd8a2eb64ba4b1294a08a2e4ee8caefd\", \"f66fddaac9d29111040d36e0faa511fcfb2c29ba0dbcf153f3cb332a743a7cda\", \"66479c15824a6ea73e257dbbb16256e85c486e64646ede5f19a287916682825a\", \"e3ca59a057eff3bee819cdef8881498280145ccda3273cabb2967fbcad95be7d\", \"e2ee690a8b14f49b98277c5ca207ccfa6bc2fe9b4f40b53ca74d03f26cac93ee\", \"bc5d9dd13f223c8e82a18242348bf3626af4066aa91d3dcef3f01d9c92981fd6\", \"8b7e7c50cefcb26543541ebb691b2b38ebcbd19fe7781516a3677fdca2dfb735\", \"9bf5e6565468e24e238c6285a5b53d3e18c1064889d4e77b45a57501b1ae3456\", \"33ca3f465e77c18c3a129c00627d0b8e09cbcf6db0bec30af82ed1b595da5737\", \"a11a6f808c78bafee82f66557308dface7ff91062187c980b4c0f2dde9adc862\", \"9da2132a06be518dac9ff3611748656b0f065e77d4cb096e3ba06d0a11510111\", \"f709b019c7b6980dbe340629215884b7c37a2d7b2a21ca39b0abaa3de293f5be\", \"a7782520c7c5b6a7df13e5eb46a2d9a201c807eee734facc92353f09b70d4e31\", \"4394d2864aedf7e5523edd0b120e199f15993a4a99307316f02c73792d8ed3d4\", \"f203da74ae436e7b3df02ed021b230706e25ba9a3b1aa684e248a7d3cc02ed83\", \"f5057ddde581d59e09d2e0d682af352554ecad3630b408b079e8d1b95f0bdb13\", \"3674d741afa53ceedcb241043330bef7396523e40c9baa23f2dbc5a98024b572\", \"a2904ed1df7f803dad543c1b9d1d378dfc98fcdfe480bf67493d8a3547531999\", \"602a638028ac0a12cb1ef2948818fc3ba834851e472fffffd59d0f8b55405aa8\", \"981925e1ced60fc77b4e193928b7e7e2ed1593812b9587d24bd7f6f2cbfce646\", \"69f8a9463004abb49835328c1baac2a00aba9835e73b74e6d2bb277a1682b962\", \"9cee01b3cdaea9d7a9cb0c2021e61adb7e0bdd0a66b77f0fc70031d8334f808a\", \"ba70c47fb3acd79652fa7a0be254ee2af0db469de0ab4818cdabca142adb2a88\", \"01f59b3043df85c7881e8a41cd6bf62e7240c19bf6fbe616c07919fa5aa1f500\", \"dbbaccdef5f84f323ca1ebfa5af0ac91c329eafb887a4d60ef6535c4a4ae7ce6\", \"1c9bb73b061147c4ac259e120ce4df8da09685735db7e1c44d43074367c3f732\", \"743cc837fcbd228fb03ca456965b00d3c56bc49bcb324cf2320210052a610f6e\", \"8059d072b6a2e554d3376799ac232fc86bc44f04e53f1f1d45795edc2b1ab377\", \"0b034ce6f7c0eba615020e1fd1f77fac333fd37e0e0a0e9f2a58c616493cf935\", \"40e58ce5aa7968fe2c35134b8802c693f5a68682a617d46141e4ffa19b2be58d\", \"f078316dd5702ef3584a0cb324991e11914c0b7c7e112b0cd20b15d0a38ce0e1\", \"8dffaf57bcef34fe14c9d1a19ac29c83eb8fb6e243fbc10a363b267ea430f5a0\", \"380e5feb51f9eb23b708b088df36294d10001fd6fe27fb60602f4490093dc6a9\", \"82ae7a84cfff55f958324b013272aef416880f353cf28497c2ecb50a546e395d\", \"e73bccfdb2ba31f2197f31f738394a25bf14aa8156cd109baaa99da00e74704d\", \"99f61c3ccc01d5a8a532644f4358a4979cd102ce529d4dbae92ce470533f0cc5\", \"e5e7b1e4851169313a5d4b4d2cc519e7a4cc272bcb98e0ae901bf1028c85a883\", \"47fc5b62da45cd1fe140b46aa3fb945dd1a1d0d7127aaba0ae94f6131c2e12c3\", \"598ff24e9126a3f4e87635d5e666b87270e209a7da6fe982802285603fbecf67\", \"281fff92bf01d4667fff39d7a2ce86b9de7b329f1868a98fe46ece853cd6bd3c\", \"83baea38c494a2b18b4b3e08142a90ee665b3c8778b63eef5e6cb62c9a450c99\", \"508b84f325c166b7a51c7765b156c91178082a49d8e719ac66da9e1597144318\", \"630bb79deeb2757e80bce7bbd4ef0931cc0b46463bf0a9f7ed059a88026388fa\", \"a046f6beb819d83b1222a6d5af9139d8624e853022323fcf316d407af973bf57\", \"daf9d9ee2244bfa5c6c651e3ba65ff2076422902e2130002cd3336d7a11a3e20\", \"9d59ac18a6f31b4b7ba3ee6c685ad375eb656d20f04e014dbaff47c8f1873684\", \"1a980f97b9119464c95b0bf5b8db259680c5020352b7413f14bb34438eafa78b\", \"089d7480846ade824908e8cee96a3984de29cd5d81f46c1a1227e9ca81e8c06c\", \"342c65b2bdba9ce1b2859497f50a7f86937d5a6bd26db67e6b245c19c258a379\", \"2c6129149f0e2303c6ae42fb1edeb14b1d5255eca4c9a5ea0d5e86b347876726\", \"8fa4ce59ed9ece0fac0e636de6cbf892aa2f3f8660151a3099973b1ef675a316\", \"4a0b7c53c40b1ee6b9052a42190eb5d7bdbb726f99b50a9da05408a7d33a47f9\", \"3f5f438e0328fb2df504bd1b40318fc82bf02056ecc2014d32a5c4dec0090b9e\", \"7927ee7824aae858800db65c6315414d2db3c12aa4e00f29dffcef6aa6eeeadc\", \"f5eaed8e3d02a7d93b350afa18d5850bdcb5f95f8248ca407fe46de77ba3bede\", \"ed0809af1e96454f37a6bdad64bf5946eea7467d56c99efb81d5f79d2bf7446a\", \"1d642abf6690ace3f5cdec06dbe3eef6687340444c9f61a1ce49a54fc655dc45\", \"3c04340e6d036c5f180ebf8d2c6b1795be077cf2f9df9ae7e873cce2a9d2c4ab\", \"5e4cba653c13590637afbee0ce52d5ea10ee51487e681d3887b817995fdb9085\", \"830ecf677d9208cb88cd38b68d2be4a8b6bce6f5d33c64c35ba82af33bc76caa\", \"2cde84d48ed155cd1ccb2a7d85ba32310b1a3d4f0968fef3fddf7a0e55a6457e\", \"9744b5cdb8bf863a816d3bb874ead4f517dedc6c21f30b09942cff18a7030b3e\", \"c97bf88507615656c1ab08228ded5dc324e576f8544267ccc00e116d48eb8988\", \"d0eefbd489b0914e7029a695aa3c0e00abba74094d216e6a554c32f1f26cfb3a\", \"4be22349298ca323ec55cf824c56ab6ffec6678faa874b6300a0af17d67d2cd2\", \"8ac995b57422b63f1cc592a54aac5b1faaabb3e44f1a91b404b9a909596eca3f\", \"6023081b3e8acbe70dc0b0567e6ccfd6d5c62ca9b00e964d01df4e59cc8b02ba\", \"2e62a2eefea8d98a47ebbba3ebcbc422f4f46e563e0c9602c2df6e6db49116fb\", \"40420aab37834dda9fdf632f2b2cf76d847959ad2bc1f4b83221dc30a054f71a\", \"b94118791ae7efea8a45b9f81dd2b7bfbd08ab534caf7399d62bcd52ab34a722\", \"f22efe4f3b1f62e19b5f2d39e8a7f63cae92494185749be3fd128af77c29ed69\", \"d2f46303555a752164e28ca5cbc015c177207bf8ce7fdf326739c0c9f3692653\", \"0865294c1192536c7824312356bf4720a4afb1b1f9e1c1f85e39e38e70478fd2\", \"8b206f8289db37b00b2ff1afeede00dcb17fdafe0108a296a977315d5d5aa057\", \"dbabd950ca1936e1be89955f6b165b8cc8a01f743b179143d795a4660293e573\", \"415cd90ad879ece97c8ed74fe1408d8f38adf6e3e5b1ee44387172143d9d2cf1\", \"709d0ff41033085d931684d80219dfbc47b38d56edd872492d4fd20c069dcda3\", \"7a6e5d5980dd2f4f4f114672f9f047837b947b3ed2cc88342825321648a0ecc1\", \"44f3ff16eb07f47dc1e389659d0125690016b3392e14d2b7ac64127ad8a86485\", \"a32d56827fdd5e044371282a4c001c637e5206ceb908fd5aefb266a9dd97eb37\", \"e52af51641191e1adcad0f3bcd936b4e1becc782bc80aedb8c98a39a9762f39b\", \"26a50e3147a119ffd54399d579c3654ccd7ba170ab80cac694dd37be7740eb89\", \"cb64c1d47fea64e90521e94c714bd003b68fde410ad587f9511940f06b9c1dcc\", \"37bb1e8854a0bb0202b076e1f6bd553f2ae5a003bdcae569949529ba41747036\", \"17bc803b7eabc234600005adb9e6bf8c48c9b192513e498b9a1daf481fd846ed\", \"5a2ae13b1e9e69e880a0c559031e64bb43f679df6453ff9a576394677f1a6624\", \"ae362923b2d94357ca507d2a05ff1ac93dae73e80f05f24523a0247f65f216e3\", \"c49c945b2c54f41f45448c014c382194015dd6f1caa33f85d789d5e6d57cec8b\", \"3314c5366119f4d38ad1c639d7dee8564a501ea80f52e9b41e6e5f0f3a62eab6\", \"2642a82c91bd2b2707d36728fcb34165fe647479971392d3199a5e0dc378dfc0\", \"e83643d58f5a8c184d129537e03959a6e2288b45d75935aeff6db3c5d16c0ae5\", \"1e462ad127b09d3cac5e81a0fdc1168933dcd82db21659bce37cf03eb3760581\", \"3a70bcbd32cc8916b2f5292c2b992a416bcb848911fa83f56a278f1b460d26f8\", \"8896083c201ab7791bb4dca6c03423f20e2b24653175bc226714a98723bce1b1\", \"a03b79fef13690b3d131687de7c6e1bc199928581ef1682c18dd624cfa42a678\", \"7f3da66de2534dc5be316f9a5534c627c59d5003062b54315dc95c04e6f7b3e1\", \"51c3445fcdc11ca73d077efbe08487ad3eb005a774b2c0dcbc1d909f62d02a20\", \"36079323b372c03edac63bdf0dd5898ff31a51073cd89bfbb81dcb4ff1ea9550\", \"b0807572584c04079a5bc4ef3f7e0e4b0aaf369e3171a25240696d7406b3e90c\", \"0191e33f019f6f0de4aaf97d777da688e952b1b81b664b5463c2451f28aa4315\"]'] <class 'list'> 1\n",
      "test_save_match_id_file_pos ['200', 'save_match_id', '/Users/qile/Documents/Apollo_Package/synspot/synspot/PI/1/task/aa1dcc80-eda2-4433-a358-5703e941deff/test/f27f358d-a995-4df6-80ae-7089985fbc85/id/11d37b61-1a9e-4f1b-a9e6-f78191cd16eb.csv']\n",
      "sss\n",
      "sss1\n",
      "gggg\n",
      "load_json_data file_content\n",
      "sss\n",
      "sss1\n",
      "55555\n",
      "66662\n",
      "test_make_match_idx_done ['200', 'make_match_idx', 'complete']\n",
      "from_id 11d37b61-1a9e-4f1b-a9e6-f78191cd16eb [\"c328fbdb5c822a3219651911653fdfbd7c7d4e90ea1b8a00e96ae75c82d2d106\", \"6bd41e9a02fdf51760eb63166694b8604fe81027629bf6e14543d1a4adc69216\", \"149c750850b9a604e9120eb0fe83d443dd8a2eb64ba4b1294a08a2e4ee8caefd\", \"f66fddaac9d29111040d36e0faa511fcfb2c29ba0dbcf153f3cb332a743a7cda\", \"66479c15824a6ea73e257dbbb16256e85c486e64646ede5f19a287916682825a\", \"e3ca59a057eff3bee819cdef8881498280145ccda3273cabb2967fbcad95be7d\", \"e2ee690a8b14f49b98277c5ca207ccfa6bc2fe9b4f40b53ca74d03f26cac93ee\", \"bc5d9dd13f223c8e82a18242348bf3626af4066aa91d3dcef3f01d9c92981fd6\", \"8b7e7c50cefcb26543541ebb691b2b38ebcbd19fe7781516a3677fdca2dfb735\", \"9bf5e6565468e24e238c6285a5b53d3e18c1064889d4e77b45a57501b1ae3456\", \"33ca3f465e77c18c3a129c00627d0b8e09cbcf6db0bec30af82ed1b595da5737\", \"a11a6f808c78bafee82f66557308dface7ff91062187c980b4c0f2dde9adc862\", \"9da2132a06be518dac9ff3611748656b0f065e77d4cb096e3ba06d0a11510111\", \"f709b019c7b6980dbe340629215884b7c37a2d7b2a21ca39b0abaa3de293f5be\", \"a7782520c7c5b6a7df13e5eb46a2d9a201c807eee734facc92353f09b70d4e31\", \"4394d2864aedf7e5523edd0b120e199f15993a4a99307316f02c73792d8ed3d4\", \"f203da74ae436e7b3df02ed021b230706e25ba9a3b1aa684e248a7d3cc02ed83\", \"f5057ddde581d59e09d2e0d682af352554ecad3630b408b079e8d1b95f0bdb13\", \"3674d741afa53ceedcb241043330bef7396523e40c9baa23f2dbc5a98024b572\", \"a2904ed1df7f803dad543c1b9d1d378dfc98fcdfe480bf67493d8a3547531999\", \"602a638028ac0a12cb1ef2948818fc3ba834851e472fffffd59d0f8b55405aa8\", \"981925e1ced60fc77b4e193928b7e7e2ed1593812b9587d24bd7f6f2cbfce646\", \"69f8a9463004abb49835328c1baac2a00aba9835e73b74e6d2bb277a1682b962\", \"9cee01b3cdaea9d7a9cb0c2021e61adb7e0bdd0a66b77f0fc70031d8334f808a\", \"ba70c47fb3acd79652fa7a0be254ee2af0db469de0ab4818cdabca142adb2a88\", \"01f59b3043df85c7881e8a41cd6bf62e7240c19bf6fbe616c07919fa5aa1f500\", \"dbbaccdef5f84f323ca1ebfa5af0ac91c329eafb887a4d60ef6535c4a4ae7ce6\", \"1c9bb73b061147c4ac259e120ce4df8da09685735db7e1c44d43074367c3f732\", \"743cc837fcbd228fb03ca456965b00d3c56bc49bcb324cf2320210052a610f6e\", \"8059d072b6a2e554d3376799ac232fc86bc44f04e53f1f1d45795edc2b1ab377\", \"0b034ce6f7c0eba615020e1fd1f77fac333fd37e0e0a0e9f2a58c616493cf935\", \"40e58ce5aa7968fe2c35134b8802c693f5a68682a617d46141e4ffa19b2be58d\", \"f078316dd5702ef3584a0cb324991e11914c0b7c7e112b0cd20b15d0a38ce0e1\", \"8dffaf57bcef34fe14c9d1a19ac29c83eb8fb6e243fbc10a363b267ea430f5a0\", \"380e5feb51f9eb23b708b088df36294d10001fd6fe27fb60602f4490093dc6a9\", \"82ae7a84cfff55f958324b013272aef416880f353cf28497c2ecb50a546e395d\", \"e73bccfdb2ba31f2197f31f738394a25bf14aa8156cd109baaa99da00e74704d\", \"99f61c3ccc01d5a8a532644f4358a4979cd102ce529d4dbae92ce470533f0cc5\", \"e5e7b1e4851169313a5d4b4d2cc519e7a4cc272bcb98e0ae901bf1028c85a883\", \"47fc5b62da45cd1fe140b46aa3fb945dd1a1d0d7127aaba0ae94f6131c2e12c3\", \"598ff24e9126a3f4e87635d5e666b87270e209a7da6fe982802285603fbecf67\", \"281fff92bf01d4667fff39d7a2ce86b9de7b329f1868a98fe46ece853cd6bd3c\", \"83baea38c494a2b18b4b3e08142a90ee665b3c8778b63eef5e6cb62c9a450c99\", \"508b84f325c166b7a51c7765b156c91178082a49d8e719ac66da9e1597144318\", \"630bb79deeb2757e80bce7bbd4ef0931cc0b46463bf0a9f7ed059a88026388fa\", \"a046f6beb819d83b1222a6d5af9139d8624e853022323fcf316d407af973bf57\", \"daf9d9ee2244bfa5c6c651e3ba65ff2076422902e2130002cd3336d7a11a3e20\", \"9d59ac18a6f31b4b7ba3ee6c685ad375eb656d20f04e014dbaff47c8f1873684\", \"1a980f97b9119464c95b0bf5b8db259680c5020352b7413f14bb34438eafa78b\", \"089d7480846ade824908e8cee96a3984de29cd5d81f46c1a1227e9ca81e8c06c\", \"342c65b2bdba9ce1b2859497f50a7f86937d5a6bd26db67e6b245c19c258a379\", \"2c6129149f0e2303c6ae42fb1edeb14b1d5255eca4c9a5ea0d5e86b347876726\", \"8fa4ce59ed9ece0fac0e636de6cbf892aa2f3f8660151a3099973b1ef675a316\", \"4a0b7c53c40b1ee6b9052a42190eb5d7bdbb726f99b50a9da05408a7d33a47f9\", \"3f5f438e0328fb2df504bd1b40318fc82bf02056ecc2014d32a5c4dec0090b9e\", \"7927ee7824aae858800db65c6315414d2db3c12aa4e00f29dffcef6aa6eeeadc\", \"f5eaed8e3d02a7d93b350afa18d5850bdcb5f95f8248ca407fe46de77ba3bede\", \"ed0809af1e96454f37a6bdad64bf5946eea7467d56c99efb81d5f79d2bf7446a\", \"1d642abf6690ace3f5cdec06dbe3eef6687340444c9f61a1ce49a54fc655dc45\", \"3c04340e6d036c5f180ebf8d2c6b1795be077cf2f9df9ae7e873cce2a9d2c4ab\", \"5e4cba653c13590637afbee0ce52d5ea10ee51487e681d3887b817995fdb9085\", \"830ecf677d9208cb88cd38b68d2be4a8b6bce6f5d33c64c35ba82af33bc76caa\", \"2cde84d48ed155cd1ccb2a7d85ba32310b1a3d4f0968fef3fddf7a0e55a6457e\", \"9744b5cdb8bf863a816d3bb874ead4f517dedc6c21f30b09942cff18a7030b3e\", \"c97bf88507615656c1ab08228ded5dc324e576f8544267ccc00e116d48eb8988\", \"d0eefbd489b0914e7029a695aa3c0e00abba74094d216e6a554c32f1f26cfb3a\", \"4be22349298ca323ec55cf824c56ab6ffec6678faa874b6300a0af17d67d2cd2\", \"8ac995b57422b63f1cc592a54aac5b1faaabb3e44f1a91b404b9a909596eca3f\", \"6023081b3e8acbe70dc0b0567e6ccfd6d5c62ca9b00e964d01df4e59cc8b02ba\", \"2e62a2eefea8d98a47ebbba3ebcbc422f4f46e563e0c9602c2df6e6db49116fb\", \"40420aab37834dda9fdf632f2b2cf76d847959ad2bc1f4b83221dc30a054f71a\", \"b94118791ae7efea8a45b9f81dd2b7bfbd08ab534caf7399d62bcd52ab34a722\", \"f22efe4f3b1f62e19b5f2d39e8a7f63cae92494185749be3fd128af77c29ed69\", \"d2f46303555a752164e28ca5cbc015c177207bf8ce7fdf326739c0c9f3692653\", \"0865294c1192536c7824312356bf4720a4afb1b1f9e1c1f85e39e38e70478fd2\", \"8b206f8289db37b00b2ff1afeede00dcb17fdafe0108a296a977315d5d5aa057\", \"dbabd950ca1936e1be89955f6b165b8cc8a01f743b179143d795a4660293e573\", \"415cd90ad879ece97c8ed74fe1408d8f38adf6e3e5b1ee44387172143d9d2cf1\", \"709d0ff41033085d931684d80219dfbc47b38d56edd872492d4fd20c069dcda3\", \"7a6e5d5980dd2f4f4f114672f9f047837b947b3ed2cc88342825321648a0ecc1\", \"44f3ff16eb07f47dc1e389659d0125690016b3392e14d2b7ac64127ad8a86485\", \"a32d56827fdd5e044371282a4c001c637e5206ceb908fd5aefb266a9dd97eb37\", \"e52af51641191e1adcad0f3bcd936b4e1becc782bc80aedb8c98a39a9762f39b\", \"26a50e3147a119ffd54399d579c3654ccd7ba170ab80cac694dd37be7740eb89\", \"cb64c1d47fea64e90521e94c714bd003b68fde410ad587f9511940f06b9c1dcc\", \"37bb1e8854a0bb0202b076e1f6bd553f2ae5a003bdcae569949529ba41747036\", \"17bc803b7eabc234600005adb9e6bf8c48c9b192513e498b9a1daf481fd846ed\", \"5a2ae13b1e9e69e880a0c559031e64bb43f679df6453ff9a576394677f1a6624\", \"ae362923b2d94357ca507d2a05ff1ac93dae73e80f05f24523a0247f65f216e3\", \"c49c945b2c54f41f45448c014c382194015dd6f1caa33f85d789d5e6d57cec8b\", \"3314c5366119f4d38ad1c639d7dee8564a501ea80f52e9b41e6e5f0f3a62eab6\", \"2642a82c91bd2b2707d36728fcb34165fe647479971392d3199a5e0dc378dfc0\", \"e83643d58f5a8c184d129537e03959a6e2288b45d75935aeff6db3c5d16c0ae5\", \"1e462ad127b09d3cac5e81a0fdc1168933dcd82db21659bce37cf03eb3760581\", \"3a70bcbd32cc8916b2f5292c2b992a416bcb848911fa83f56a278f1b460d26f8\", \"8896083c201ab7791bb4dca6c03423f20e2b24653175bc226714a98723bce1b1\", \"a03b79fef13690b3d131687de7c6e1bc199928581ef1682c18dd624cfa42a678\", \"7f3da66de2534dc5be316f9a5534c627c59d5003062b54315dc95c04e6f7b3e1\", \"51c3445fcdc11ca73d077efbe08487ad3eb005a774b2c0dcbc1d909f62d02a20\", \"36079323b372c03edac63bdf0dd5898ff31a51073cd89bfbb81dcb4ff1ea9550\", \"b0807572584c04079a5bc4ef3f7e0e4b0aaf369e3171a25240696d7406b3e90c\", \"0191e33f019f6f0de4aaf97d777da688e952b1b81b664b5463c2451f28aa4315\"]\n",
      "test_file_path /Users/qile/Documents/synspot_Data/data/BostonHousing/BostonHousing_2_123_1.0/0/test/dataset.csv 2-8\n",
      "max_round 2\n",
      "make_test /Users/qile/Documents/Apollo_Package/synspot/synspot/PI 1 aa1dcc80-eda2-4433-a358-5703e941deff f27f358d-a995-4df6-80ae-7089985fbc85 2 11d37b61-1a9e-4f1b-a9e6-f78191cd16eb /Users/qile/Documents/synspot_Data/data/BostonHousing/BostonHousing_2_123_1.0/0/test/dataset.csv 2-8 1\n",
      "model 1 <synspot.algorithm.models.Model object at 0x7feab8d02850>\n",
      "output_path_i /Users/qile/Documents/Apollo_Package/synspot/synspot/PI/1/task/aa1dcc80-eda2-4433-a358-5703e941deff/test/f27f358d-a995-4df6-80ae-7089985fbc85/round/1/output\n",
      "model 2 <synspot.algorithm.models.Model object at 0x7fea7819c910>\n",
      "output_path_i /Users/qile/Documents/Apollo_Package/synspot/synspot/PI/1/task/aa1dcc80-eda2-4433-a358-5703e941deff/test/f27f358d-a995-4df6-80ae-7089985fbc85/round/2/output\n",
      "test_done ['200', 'make_test', '{\"1\": [-15.621456914132295, -7.639779830838925, -3.1797518200402197, -3.7762602445518145], \"2\": [-2.13779054802185, 1.6041706886489402, -1.7659491751030503, -0.9122425751905375]}', '/Users/qile/Documents/Apollo_Package/synspot/synspot/PI/1/task/aa1dcc80-eda2-4433-a358-5703e941deff/test/f27f358d-a995-4df6-80ae-7089985fbc85/round/1/output/1.csv', '/Users/qile/Documents/Apollo_Package/synspot/synspot/PI/1/task/aa1dcc80-eda2-4433-a358-5703e941deff/test/f27f358d-a995-4df6-80ae-7089985fbc85/round/2/output/1.csv', \"[array([[ 4.29000000e+02,  1.20545696e-02,  1.18667376e+00,\\n        -1.49106915e-01, -3.62047894e-01, -1.17204102e+00,\\n        -6.26025857e-01, -6.55861863e-01,  2.02000000e+01],\\n       [ 4.46000000e+02, -9.89882218e-01, -1.69916807e+00,\\n         2.74104127e+00, -2.81294229e-01, -2.11698382e-01,\\n        -5.51531562e-02, -5.41355298e-01,  1.70000000e+01],\\n       [ 4.85000000e+02,  4.64592674e-01,  5.45375577e-01,\\n        -5.39667480e-01, -4.21716599e-01, -3.37270674e-01,\\n        -7.44957670e-01, -5.41355298e-01,  2.04000000e+01],\\n       [ 4.17000000e+02, -5.17423822e-01,  1.14086675e+00,\\n        -3.05331141e-01, -4.40153551e-01, -2.00282720e-01,\\n        -1.68138378e-01, -5.41355298e-01,  1.93000000e+01],\\n       [ 4.94000000e+02, -1.35414315e-01, -1.87536633e-01,\\n        -9.56265417e-01, -4.52913936e-01, -1.63181815e-01,\\n        -8.10370167e-01, -8.84874995e-01,  2.14000000e+01],\\n       [ 4.27000000e+02,  1.48928852e+00, -7.37220790e-01,\\n        -1.00834016e+00, -4.62384131e-01, -2.31675793e-01,\\n        -1.00660766e+00, -6.55861863e-01,  2.05000000e+01],\\n       [ 4.80000000e+02, -8.13046811e-01,  1.27828779e+00,\\n         5.97297721e-01, -3.94411993e-01,  8.22549374e-02,\\n         1.47030925e-01, -6.55861863e-01,  1.81000000e+01],\\n       [ 4.93000000e+02,  2.28730558e-01,  8.73054458e-02,\\n        -5.74383975e-01, -4.50161541e-01, -3.04450644e-01,\\n        -8.04423576e-01, -6.55861863e-01,  2.44000000e+01],\\n       [ 4.78000000e+02, -1.35414315e-01, -1.87536633e-01,\\n        -9.56265417e-01, -4.59050337e-01,  1.62479639e+00,\\n        -8.10370167e-01, -8.84874995e-01,  3.32000000e+01],\\n       [ 5.01000000e+02, -4.29471089e-01, -4.62378712e-01,\\n        -4.44197120e-01, -4.26448394e-01,  2.83771057e+00,\\n        -6.26025857e-01, -1.97835601e-01,  4.48000000e+01],\\n       [ 4.09000000e+02, -8.73835511e-01, -2.47788729e+00,\\n         7.96917565e-01, -3.67477367e-01, -1.02363741e+00,\\n        -8.81729254e-01, -5.41355298e-01,  2.28000000e+01],\\n       [ 5.04000000e+02,  7.41714753e-01,  3.62147525e-01,\\n        -1.23399737e+00, -4.42296799e-01, -4.61712703e-02,\\n        -6.37919038e-01, -6.55861863e-01,  2.34000000e+01],\\n       [ 4.62000000e+02,  2.66796282e+00,  8.73054458e-02,\\n        -1.20709209e+00, -4.65536899e-01,  1.17958553e+00,\\n        -1.16716560e+00, -7.70368429e-01,  3.30000000e+01],\\n       [ 4.95000000e+02, -9.36288315e-01,  8.20217656e-01,\\n         1.41313535e+00,  9.96931082e-01,  1.90703735e-01,\\n         1.50880018e+00,  1.63426945e+00,  1.67000000e+01],\\n       [ 4.45000000e+02, -6.80408020e-01,  3.62147525e-01,\\n         2.58811898e-01, -4.45214365e-01, -8.13874601e-01,\\n        -1.26512244e-01, -4.26848732e-01,  2.18000000e+01],\\n       [ 4.40000000e+02, -6.18053105e-01,  8.20217656e-01,\\n         1.86444978e+00,  9.49580717e-02, -2.35956666e-01,\\n         1.50880018e+00,  1.63426945e+00,  2.26000000e+01],\\n       [ 4.68000000e+02,  6.58215942e-01,  3.62147525e-01,\\n        -1.25135562e+00, -4.63487468e-01,  8.32834774e-01,\\n        -9.94714476e-01, -6.55861863e-01,  2.85000000e+01],\\n       [ 4.58000000e+02, -9.73877463e-01,  8.20217656e-01,\\n         1.19615725e+00,  1.29719719e+00, -5.57022185e-01,\\n         1.50880018e+00,  1.63426945e+00,  1.27000000e+01],\\n       [ 4.43000000e+02,  3.21626656e-01,  8.73054458e-02,\\n        -7.91362067e-01, -4.28585035e-01, -6.01257879e-01,\\n        -1.12553947e+00, -7.70368429e-01,  2.11000000e+01],\\n       [ 4.90000000e+02, -5.53838310e-01, -4.30858044e-03,\\n        -9.70321730e-02, -3.63673168e-01, -2.21687087e-01,\\n        -6.43865629e-01, -6.55861863e-01,  2.21000000e+01],\\n       [ 4.37000000e+02,  9.53936819e-01, -2.33343646e-01,\\n        -9.30228046e-01, -4.47057663e-01, -9.46878376e-02,\\n        -1.06607356e+00, -7.70368429e-01,  2.47000000e+01],\\n       [ 4.55000000e+02, -1.10382432e+00, -1.69916807e+00,\\n         2.74104127e+00, -1.83354941e-01, -9.26604272e-01,\\n        -5.51531562e-02, -5.41355298e-01,  1.56000000e+01],\\n       [ 4.36000000e+02, -2.80289157e-01, -2.79150659e-01,\\n        -5.83063099e-01, -4.60712609e-01,  2.21698390e+00,\\n        -1.30393719e+00, -7.70368429e-01,  5.00000000e+01],\\n       [ 5.03000000e+02,  1.06761603e-01,  1.18667376e+00,\\n        -1.49106915e-01, -2.84711269e-01, -4.67123840e-01,\\n        -6.26025857e-01, -6.55861863e-01,  1.32000000e+01],\\n       [ 4.97000000e+02,  1.31490032e+00,  8.20217656e-01,\\n        -3.48726760e-01, -4.63175627e-01,  4.65809909e-02,\\n        -1.11959288e+00, -5.41355298e-01,  2.07000000e+01],\\n       [ 4.30000000e+02, -4.40434591e-01, -2.47788729e+00,\\n         1.72020661e-01, -3.96695305e-01,  1.70185211e+00,\\n        -8.81729254e-01, -5.41355298e-01,  4.35000000e+01],\\n       [ 4.57000000e+02,  1.80324741e-01, -3.70764685e-01,\\n        -9.38907169e-01, -4.57573055e-01,  2.92017743e-01,\\n        -9.41195161e-01, -6.55861863e-01,  2.91000000e+01],\\n       [ 4.16000000e+02,  3.33497442e+00,  1.64474389e+00,\\n        -1.23399737e+00, -4.62431700e-01, -8.76660747e-01,\\n        -4.65467910e-01, -6.55861863e-01,  1.82000000e+01],\\n       [ 5.00000000e+02, -5.35631066e-01, -2.79150659e-01,\\n        -7.09948020e-02, -4.54790269e-01,  6.24498926e-01,\\n         1.17297972e-01, -4.26848732e-01,  2.28000000e+01],\\n       [ 4.76000000e+02,  2.23779222e+00, -6.45606764e-01,\\n        -1.04305665e+00, -4.66131511e-01,  5.10342296e-01,\\n        -7.86583804e-01, -6.55861863e-01,  2.45000000e+01],\\n       [ 4.25000000e+02, -5.87187485e-02, -4.62378712e-01,\\n        -4.18159749e-01, -4.24315717e-01,  2.81059837e+00,\\n        -6.26025857e-01, -1.97835601e-01,  4.83000000e+01],\\n       [ 4.14000000e+02, -1.00148199e+00,  8.20217656e-01,\\n         1.19615725e+00,  6.83682602e-01,  2.76321207e-01,\\n         1.50880018e+00,  1.63426945e+00,  1.31000000e+01],\\n       [ 4.73000000e+02,  4.08910671e+00, -6.45606764e-01,\\n        -1.26003475e+00, -4.65856668e-01,  6.43049378e-01,\\n        -1.33961673e+00, -5.41355298e-01,  3.01000000e+01],\\n       [ 4.81000000e+02, -1.06194626e-01, -8.28834817e-01,\\n        -3.92122378e-01, -4.58836277e-01, -3.67236790e-01,\\n        -6.91438354e-01, -5.41355298e-01,  2.32000000e+01],\\n       [ 4.83000000e+02, -6.20059817e-01,  1.18667376e+00,\\n         1.54662414e-01, -4.61850301e-01, -3.52967211e-01,\\n        -8.28209939e-01, -9.99381560e-01,  1.19000000e+01],\\n       [ 5.05000000e+02,  9.38519395e-01, -2.33343646e-01,\\n        -9.30228046e-01, -4.37820028e-01, -3.52967211e-01,\\n        -1.06607356e+00, -7.70368429e-01,  1.66000000e+01],\\n       [ 4.06000000e+02, -1.18144983e+00,  8.20217656e-01,\\n         1.00521653e+00,  8.29922925e-01,  7.37228597e-01,\\n         1.50880018e+00,  1.63426945e+00,  1.33000000e+01],\\n       [ 4.79000000e+02, -7.22597923e-01,  8.20217656e-01,\\n         1.86444978e+00,  3.88702551e-02, -3.76095231e-02,\\n         1.50880018e+00,  1.63426945e+00,  1.99000000e+01],\\n       [ 5.02000000e+02, -8.41434449e-01,  8.20217656e-01,\\n         2.50132774e-01,  6.54002188e-01,  1.00805390e-01,\\n         1.50880018e+00,  1.63426945e+00,  1.45000000e+01],\\n       [ 4.18000000e+02, -1.09937040e+00, -1.69916807e+00,\\n         2.74104127e+00, -1.06858702e-01, -9.70839966e-01,\\n        -5.51531562e-02, -5.41355298e-01,  1.54000000e+01],\\n       [ 4.42000000e+02,  2.66669027e+00, -9.20448843e-01,\\n        -1.41625897e+00, -4.63426685e-01, -5.72718722e-01,\\n        -5.78453132e-01, -9.99381560e-01,  2.09000000e+01],\\n       [ 4.59000000e+02, -8.29950733e-02, -4.30858044e-03,\\n        -9.70321730e-02, -4.19330221e-01,  4.13309162e-01,\\n        -6.43865629e-01, -6.55861863e-01,  2.38000000e+01],\\n       [ 4.89000000e+02, -6.93378234e-01,  8.20217656e-01,\\n         1.36973973e+00,  2.50856224e-01,  5.38881454e-01,\\n         1.50880018e+00,  1.63426945e+00,  1.52000000e+01],\\n       [ 4.07000000e+02,  3.37729299e-01,  1.18667376e+00,\\n        -1.49106915e-01, -3.83817319e-01, -2.58787992e-01,\\n        -6.26025857e-01, -6.55861863e-01,  1.82000000e+01],\\n       [ 4.99000000e+02, -1.12883481e+00,  8.20217656e-01,\\n         3.62961382e-01,  1.43970599e+00,  8.19992153e-01,\\n         1.50880018e+00,  1.63426945e+00,  2.75000000e+01],\\n       [ 4.49000000e+02,  7.41714753e-01,  3.62147525e-01,\\n        -1.23399737e+00, -4.56452541e-01,  1.99265482e-01,\\n        -6.37919038e-01, -6.55861863e-01,  2.42000000e+01],\\n       [ 4.64000000e+02, -7.63955775e-01,  1.14086675e+00,\\n        -3.05331141e-01, -4.45493172e-01, -6.29797036e-01,\\n        -1.68138378e-01, -5.41355298e-01,  1.95000000e+01],\\n       [ 4.44000000e+02, -9.03202033e-01,  8.20217656e-01,\\n         1.25691112e+00,  4.51836575e-01, -8.05312854e-01,\\n         1.50880018e+00,  1.63426945e+00,  1.51000000e+01],\\n       [ 4.88000000e+02,  5.84995414e-01, -2.79150659e-01,\\n        -7.47966448e-01, -4.64508880e-01,  1.29516912e+00,\\n        -1.01255425e+00, -8.84874995e-01,  3.47000000e+01],\\n       [ 4.28000000e+02,  5.84995414e-01, -2.79150659e-01,\\n        -7.47966448e-01, -4.64506237e-01,  2.04973314e-01,\\n        -1.01255425e+00, -8.84874995e-01,  2.16000000e+01],\\n       [ 4.70000000e+02,  2.45711119e+00,  5.91182590e-01,\\n        -1.09513140e+00, -4.59907900e-01,  3.03433406e-01,\\n        -4.59521319e-01, -9.99381560e-01,  2.29000000e+01],\\n       [ 4.86000000e+02,  7.97413257e-01, -5.01155936e-02,\\n        -1.10381052e+00, -4.64463954e-01,  4.53263982e-01,\\n        -9.53088342e-01, -7.70368429e-01,  3.08000000e+01],\\n       [ 4.72000000e+02,  8.49324884e-02,  8.73054458e-02,\\n        -5.74383975e-01, -4.49547108e-01,  1.39333252e-01,\\n        -8.04423576e-01, -6.55861863e-01,  2.81000000e+01],\\n       [ 4.82000000e+02, -8.73150293e-01,  8.20217656e-01,\\n         1.60407607e+00,  9.42015313e-01,  2.59197713e-01,\\n         1.50880018e+00,  1.63426945e+00,  1.18000000e+01],\\n       [ 4.91000000e+02, -1.96692458e-01, -4.30858044e-03,\\n        -7.21929077e-01, -4.60875137e-01,  4.83230097e-01,\\n        -1.13148606e+00, -3.12342167e-01,  2.84000000e+01],\\n       [ 4.65000000e+02, -1.10294333e+00,  8.20217656e-01,\\n         1.25691112e+00,  2.51777812e+00, -1.82273381e+00,\\n         1.50880018e+00,  1.63426945e+00,  7.40000000e+00],\\n       [ 4.05000000e+02,  1.73121971e+00, -2.66111534e+00,\\n        -1.31210949e+00, -4.63135986e-01,  1.42216837e+00,\\n        -4.95200863e-01, -8.84874995e-01,  3.46000000e+01],\\n       [ 4.98000000e+02,  5.09180843e-01,  8.20217656e-01,\\n        -3.48726760e-01, -4.60851352e-01, -4.17180315e-01,\\n        -1.11959288e+00, -5.41355298e-01,  1.90000000e+01],\\n       [ 4.75000000e+02, -5.04551497e-01, -2.79150659e-01,\\n        -5.83063099e-01, -4.59409747e-01,  2.12280468e+00,\\n        -1.30393719e+00, -7.70368429e-01,  3.98000000e+01],\\n       [ 4.53000000e+02, -4.64074641e-01,  8.20217656e-01,\\n         2.15416279e-01,  1.25957804e+00, -8.05312854e-01,\\n         1.50880018e+00,  1.63426945e+00,  2.01000000e+01],\\n       [ 4.54000000e+02,  3.21626656e-01,  8.73054458e-02,\\n        -7.91362067e-01, -4.46694289e-01, -5.33060596e-02,\\n        -1.12553947e+00, -7.70368429e-01,  2.52000000e+01],\\n       [ 4.48000000e+02, -1.05654422e+00,  8.20217656e-01,\\n         1.41313535e+00,  1.33880086e-01, -3.87612618e+00,\\n         1.50880018e+00,  1.63426945e+00,  2.75000000e+01],\\n       [ 4.56000000e+02,  8.49324884e-02,  8.73054458e-02,\\n        -5.74383975e-01, -4.50088866e-01, -5.51314354e-01,\\n        -8.04423576e-01, -6.55861863e-01,  2.26000000e+01],\\n       [ 4.21000000e+02,  1.12098339e+00,  1.33112459e-01,\\n        -8.43436809e-01, -4.63837629e-01,  1.02832800e+00,\\n        -1.13148606e+00, -7.70368429e-01,  3.34000000e+01],\\n       [ 4.87000000e+02,  5.09180843e-01,  8.20217656e-01,\\n        -3.48726760e-01, -4.59987182e-01, -4.41438598e-01,\\n        -1.11959288e+00, -5.41355298e-01,  1.87000000e+01],\\n       [ 4.96000000e+02,  2.51320125e+00,  3.16340511e-01,\\n        -1.07777315e+00, -4.19364576e-01,  2.82772187e+00,\\n        -4.89254273e-01, -3.12342167e-01,  4.28000000e+01],\\n       [ 4.47000000e+02, -1.27390543e+00,  8.20217656e-01,\\n         6.58051587e-01,  7.51805376e-01, -8.75530483e-02,\\n         1.50880018e+00,  1.63426945e+00,  5.00000000e+01],\\n       [ 4.77000000e+02, -1.15281747e+00,  8.20217656e-01,\\n         1.00521653e+00,  1.12888545e+01,  9.85519265e-01,\\n         1.50880018e+00,  1.63426945e+00,  1.04000000e+01],\\n       [ 4.67000000e+02,  1.37204898e-01,  1.33112459e-01,\\n        -1.02569841e+00, -4.54699095e-01,  2.34529708e-03,\\n        -8.48861094e-02, -5.41355298e-01,  2.00000000e+01],\\n       [ 4.04000000e+02, -1.05718050e+00,  1.27828779e+00,\\n         5.97297721e-01, -4.29676479e-01, -1.47485279e-01,\\n         1.47030925e-01, -6.55861863e-01,  1.40000000e+01],\\n       [ 4.52000000e+02, -4.76359636e-01,  3.62147525e-01,\\n         2.58811898e-01, -4.29848256e-01, -1.26622024e+00,\\n        -1.26512244e-01, -4.26848732e-01,  1.97000000e+01],\\n       [ 4.08000000e+02, -1.18791458e-02,  4.14984327e-02,\\n        -9.21548922e-01, -4.58665821e-01, -2.23114045e-01,\\n        -9.82821295e-01, -7.70368429e-01,  2.22000000e+01],\\n       [ 4.24000000e+02,  1.22423748e-01, -4.30858044e-03,\\n        -7.21929077e-01, -4.60827568e-01,  1.36794397e+00,\\n        -1.13148606e+00, -3.12342167e-01,  3.61000000e+01],\\n       [ 4.31000000e+02, -9.31785448e-01,  7.74410643e-01,\\n         4.67110866e-01, -4.54142802e-01, -4.20034231e-01,\\n         1.77639676e+00, -6.55861863e-01,  1.36000000e+01],\\n       [ 4.22000000e+02,  1.22117217e+00, -1.14948391e+00,\\n        -3.22689388e-01, -4.64814114e-01,  3.74781299e-01,\\n         5.78320658e-02, -9.99381560e-01,  1.65000000e+01],\\n       [ 4.10000000e+02, -7.26024017e-01, -2.47788729e+00,\\n         7.96917565e-01, -3.99385596e-01,  3.02606901e+00,\\n        -8.81729254e-01, -5.41355298e-01,  4.88000000e+01],\\n       [ 4.71000000e+02, -6.33519473e-01, -2.79150659e-01,\\n        -7.09948020e-02, -4.50860541e-01, -5.78426553e-01,\\n         1.17297972e-01, -4.26848732e-01,  2.04000000e+01],\\n       [ 4.39000000e+02, -9.55033945e-01,  8.20217656e-01,\\n         1.60407607e+00,  1.33925611e+00, -4.88528208e-01,\\n         1.50880018e+00,  1.63426945e+00,  8.40000000e+00],\\n       [ 4.60000000e+02, -9.63843901e-01,  8.20217656e-01,\\n         1.07464952e+00,  9.24839539e+00, -4.57135135e-01,\\n         1.50880018e+00,  1.63426945e+00,  8.80000000e+00],\\n       [ 4.32000000e+02, -4.59033388e-01, -4.30858044e-03,\\n        -9.70321730e-02, -4.33536175e-01, -3.62955916e-01,\\n        -6.43865629e-01, -6.55861863e-01,  1.94000000e+01],\\n       [ 4.20000000e+02,  1.33428222e+00,  2.24726485e-01,\\n        -1.26871387e+00, -4.60465515e-01, -5.69864806e-01,\\n        -4.00055413e-01, -6.55861863e-01,  2.20000000e+01],\\n       [ 4.50000000e+02, -7.66402985e-01,  8.20217656e-01,\\n         2.50132774e-01,  3.76647162e-01, -1.64608773e-01,\\n         1.50880018e+00,  1.63426945e+00,  1.33000000e+01],\\n       [ 4.38000000e+02, -8.77065829e-01,  1.27828779e+00,\\n         5.97297721e-01, -3.51669924e-01, -9.13761651e-01,\\n         1.47030925e-01, -6.55861863e-01,  1.43000000e+01],\\n       [ 4.15000000e+02, -9.28604075e-01,  8.20217656e-01,\\n         1.41313535e+00,  4.59822882e-01, -3.87214200e-01,\\n         1.50880018e+00,  1.63426945e+00,  1.42000000e+01],\\n       [ 4.19000000e+02, -1.02938019e+00,  1.27828779e+00,\\n         5.97297721e-01, -3.96164117e-01, -1.80305309e-01,\\n         1.47030925e-01, -6.55861863e-01,  1.78000000e+01],\\n       [ 4.35000000e+02, -6.19961928e-01,  8.20217656e-01,\\n         1.86444978e+00,  4.05695256e-02,  1.67872409e-01,\\n         1.50880018e+00,  1.63426945e+00,  2.17000000e+01],\\n       [ 4.61000000e+02,  1.40412560e+00, -6.91413777e-01,\\n        -1.01788719e+00, -4.61477678e-01, -8.15301559e-01,\\n        -6.43865629e-01, -9.99381560e-01,  1.71000000e+01],\\n       [ 4.12000000e+02,  1.59735732e+00, -8.28834817e-01,\\n        -1.10381052e+00, -4.51258270e-01,  1.65018494e-01,\\n        -6.67651992e-01, -4.26848732e-01,  2.37000000e+01],\\n       [ 4.84000000e+02,  4.93127145e-01,  4.14984327e-02,\\n        -9.21548922e-01, -4.61430109e-01,  1.59310662e-01,\\n        -9.82821295e-01, -7.70368429e-01,  2.39000000e+01],\\n       [ 4.63000000e+02,  8.04656999e-01,  5.45375577e-01,\\n        -5.39667480e-01, -4.42763240e-01,  2.19242892e-01,\\n        -7.44957670e-01, -5.41355298e-01,  2.46000000e+01],\\n       [ 4.13000000e+02, -8.61991014e-01, -2.47788729e+00,\\n         7.96917565e-01, -3.81347695e-01,  8.05722574e-01,\\n        -8.81729254e-01, -5.41355298e-01,  3.01000000e+01],\\n       [ 4.92000000e+02,  1.33428222e+00,  2.24726485e-01,\\n        -1.26871387e+00, -4.50205146e-01, -9.75120839e-01,\\n        -4.00055413e-01, -6.55861863e-01,  1.74000000e+01],\\n       [ 4.51000000e+02, -9.86015625e-01, -1.69916807e+00,\\n         4.32394371e-01, -2.90677215e-01, -3.01596728e-01,\\n        -5.51531562e-02, -5.41355298e-01,  2.43000000e+01],\\n       [ 4.33000000e+02,  3.34156372e-01,  1.18667376e+00,\\n        -1.49106915e-01, -3.57049185e-01, -9.67986050e-01,\\n        -6.26025857e-01, -6.55861863e-01,  1.39000000e+01],\\n       [ 4.34000000e+02, -4.52670641e-01, -2.79150659e-01,\\n        -5.83063099e-01, -4.54890692e-01,  4.07601330e-01,\\n        -1.30393719e+00, -7.70368429e-01,  3.25000000e+01],\\n       [ 4.23000000e+02,  2.65068552e+00, -5.08185725e-01,\\n        -1.26003475e+00, -4.65399477e-01,  1.50748915e-01,\\n        -5.90346313e-01, -8.84874995e-01,  2.47000000e+01],\\n       [ 4.41000000e+02,  2.04735032e+00,  3.16340511e-01,\\n        -1.07777315e+00, -4.40884264e-01, -9.76547797e-01,\\n        -4.89254273e-01, -3.12342167e-01,  1.76000000e+01],\\n       [ 4.69000000e+02, -1.09848940e+00,  8.20217656e-01,\\n         3.62961382e-01,  1.38849003e+00,  5.41735369e-01,\\n         1.50880018e+00,  1.63426945e+00,  1.72000000e+01],\\n       [ 4.66000000e+02, -8.18283841e-01, -1.69916807e+00,\\n         4.32394371e-01, -1.64148957e-01,  5.94236116e-02,\\n        -5.51531562e-02, -5.41355298e-01,  2.38000000e+01],\\n       [ 4.74000000e+02, -5.13508286e-01,  8.20217656e-01,\\n         1.86444978e+00,  2.19226802e-01, -2.14552298e-01,\\n         1.50880018e+00,  1.63426945e+00,  2.27000000e+01],\\n       [ 4.26000000e+02, -1.27140928e+00,  8.20217656e-01,\\n         9.79179162e-01,  9.99666299e-01, -1.95686785e+00,\\n         1.50880018e+00,  1.63426945e+00,  1.38000000e+01],\\n       [ 4.11000000e+02, -2.44608833e-01, -4.62378712e-01,\\n        -4.18159749e-01, -3.85720079e-01,  8.58520015e-01,\\n        -6.26025857e-01, -1.97835601e-01,  2.75000000e+01]]), '$$$$$$', [1, 2, 3, 4, 5, 6, 7], '$$$$$$', array([[ 1.20545696e-02,  1.18667376e+00, -1.49106915e-01,\\n        -3.62047894e-01, -1.17204102e+00, -6.26025857e-01,\\n        -6.55861863e-01],\\n       [-9.89882218e-01, -1.69916807e+00,  2.74104127e+00,\\n        -2.81294229e-01, -2.11698382e-01, -5.51531562e-02,\\n        -5.41355298e-01],\\n       [ 4.64592674e-01,  5.45375577e-01, -5.39667480e-01,\\n        -4.21716599e-01, -3.37270674e-01, -7.44957670e-01,\\n        -5.41355298e-01],\\n       [-5.17423822e-01,  1.14086675e+00, -3.05331141e-01,\\n        -4.40153551e-01, -2.00282720e-01, -1.68138378e-01,\\n        -5.41355298e-01],\\n       [-1.35414315e-01, -1.87536633e-01, -9.56265417e-01,\\n        -4.52913936e-01, -1.63181815e-01, -8.10370167e-01,\\n        -8.84874995e-01],\\n       [ 1.48928852e+00, -7.37220790e-01, -1.00834016e+00,\\n        -4.62384131e-01, -2.31675793e-01, -1.00660766e+00,\\n        -6.55861863e-01],\\n       [-8.13046811e-01,  1.27828779e+00,  5.97297721e-01,\\n        -3.94411993e-01,  8.22549374e-02,  1.47030925e-01,\\n        -6.55861863e-01],\\n       [ 2.28730558e-01,  8.73054458e-02, -5.74383975e-01,\\n        -4.50161541e-01, -3.04450644e-01, -8.04423576e-01,\\n        -6.55861863e-01],\\n       [-1.35414315e-01, -1.87536633e-01, -9.56265417e-01,\\n        -4.59050337e-01,  1.62479639e+00, -8.10370167e-01,\\n        -8.84874995e-01],\\n       [-4.29471089e-01, -4.62378712e-01, -4.44197120e-01,\\n        -4.26448394e-01,  2.83771057e+00, -6.26025857e-01,\\n        -1.97835601e-01],\\n       [-8.73835511e-01, -2.47788729e+00,  7.96917565e-01,\\n        -3.67477367e-01, -1.02363741e+00, -8.81729254e-01,\\n        -5.41355298e-01],\\n       [ 7.41714753e-01,  3.62147525e-01, -1.23399737e+00,\\n        -4.42296799e-01, -4.61712703e-02, -6.37919038e-01,\\n        -6.55861863e-01],\\n       [ 2.66796282e+00,  8.73054458e-02, -1.20709209e+00,\\n        -4.65536899e-01,  1.17958553e+00, -1.16716560e+00,\\n        -7.70368429e-01],\\n       [-9.36288315e-01,  8.20217656e-01,  1.41313535e+00,\\n         9.96931082e-01,  1.90703735e-01,  1.50880018e+00,\\n         1.63426945e+00],\\n       [-6.80408020e-01,  3.62147525e-01,  2.58811898e-01,\\n        -4.45214365e-01, -8.13874601e-01, -1.26512244e-01,\\n        -4.26848732e-01],\\n       [-6.18053105e-01,  8.20217656e-01,  1.86444978e+00,\\n         9.49580717e-02, -2.35956666e-01,  1.50880018e+00,\\n         1.63426945e+00],\\n       [ 6.58215942e-01,  3.62147525e-01, -1.25135562e+00,\\n        -4.63487468e-01,  8.32834774e-01, -9.94714476e-01,\\n        -6.55861863e-01],\\n       [-9.73877463e-01,  8.20217656e-01,  1.19615725e+00,\\n         1.29719719e+00, -5.57022185e-01,  1.50880018e+00,\\n         1.63426945e+00],\\n       [ 3.21626656e-01,  8.73054458e-02, -7.91362067e-01,\\n        -4.28585035e-01, -6.01257879e-01, -1.12553947e+00,\\n        -7.70368429e-01],\\n       [-5.53838310e-01, -4.30858044e-03, -9.70321730e-02,\\n        -3.63673168e-01, -2.21687087e-01, -6.43865629e-01,\\n        -6.55861863e-01],\\n       [ 9.53936819e-01, -2.33343646e-01, -9.30228046e-01,\\n        -4.47057663e-01, -9.46878376e-02, -1.06607356e+00,\\n        -7.70368429e-01],\\n       [-1.10382432e+00, -1.69916807e+00,  2.74104127e+00,\\n        -1.83354941e-01, -9.26604272e-01, -5.51531562e-02,\\n        -5.41355298e-01],\\n       [-2.80289157e-01, -2.79150659e-01, -5.83063099e-01,\\n        -4.60712609e-01,  2.21698390e+00, -1.30393719e+00,\\n        -7.70368429e-01],\\n       [ 1.06761603e-01,  1.18667376e+00, -1.49106915e-01,\\n        -2.84711269e-01, -4.67123840e-01, -6.26025857e-01,\\n        -6.55861863e-01],\\n       [ 1.31490032e+00,  8.20217656e-01, -3.48726760e-01,\\n        -4.63175627e-01,  4.65809909e-02, -1.11959288e+00,\\n        -5.41355298e-01],\\n       [-4.40434591e-01, -2.47788729e+00,  1.72020661e-01,\\n        -3.96695305e-01,  1.70185211e+00, -8.81729254e-01,\\n        -5.41355298e-01],\\n       [ 1.80324741e-01, -3.70764685e-01, -9.38907169e-01,\\n        -4.57573055e-01,  2.92017743e-01, -9.41195161e-01,\\n        -6.55861863e-01],\\n       [ 3.33497442e+00,  1.64474389e+00, -1.23399737e+00,\\n        -4.62431700e-01, -8.76660747e-01, -4.65467910e-01,\\n        -6.55861863e-01],\\n       [-5.35631066e-01, -2.79150659e-01, -7.09948020e-02,\\n        -4.54790269e-01,  6.24498926e-01,  1.17297972e-01,\\n        -4.26848732e-01],\\n       [ 2.23779222e+00, -6.45606764e-01, -1.04305665e+00,\\n        -4.66131511e-01,  5.10342296e-01, -7.86583804e-01,\\n        -6.55861863e-01],\\n       [-5.87187485e-02, -4.62378712e-01, -4.18159749e-01,\\n        -4.24315717e-01,  2.81059837e+00, -6.26025857e-01,\\n        -1.97835601e-01],\\n       [-1.00148199e+00,  8.20217656e-01,  1.19615725e+00,\\n         6.83682602e-01,  2.76321207e-01,  1.50880018e+00,\\n         1.63426945e+00],\\n       [ 4.08910671e+00, -6.45606764e-01, -1.26003475e+00,\\n        -4.65856668e-01,  6.43049378e-01, -1.33961673e+00,\\n        -5.41355298e-01],\\n       [-1.06194626e-01, -8.28834817e-01, -3.92122378e-01,\\n        -4.58836277e-01, -3.67236790e-01, -6.91438354e-01,\\n        -5.41355298e-01],\\n       [-6.20059817e-01,  1.18667376e+00,  1.54662414e-01,\\n        -4.61850301e-01, -3.52967211e-01, -8.28209939e-01,\\n        -9.99381560e-01],\\n       [ 9.38519395e-01, -2.33343646e-01, -9.30228046e-01,\\n        -4.37820028e-01, -3.52967211e-01, -1.06607356e+00,\\n        -7.70368429e-01],\\n       [-1.18144983e+00,  8.20217656e-01,  1.00521653e+00,\\n         8.29922925e-01,  7.37228597e-01,  1.50880018e+00,\\n         1.63426945e+00],\\n       [-7.22597923e-01,  8.20217656e-01,  1.86444978e+00,\\n         3.88702551e-02, -3.76095231e-02,  1.50880018e+00,\\n         1.63426945e+00],\\n       [-8.41434449e-01,  8.20217656e-01,  2.50132774e-01,\\n         6.54002188e-01,  1.00805390e-01,  1.50880018e+00,\\n         1.63426945e+00],\\n       [-1.09937040e+00, -1.69916807e+00,  2.74104127e+00,\\n        -1.06858702e-01, -9.70839966e-01, -5.51531562e-02,\\n        -5.41355298e-01],\\n       [ 2.66669027e+00, -9.20448843e-01, -1.41625897e+00,\\n        -4.63426685e-01, -5.72718722e-01, -5.78453132e-01,\\n        -9.99381560e-01],\\n       [-8.29950733e-02, -4.30858044e-03, -9.70321730e-02,\\n        -4.19330221e-01,  4.13309162e-01, -6.43865629e-01,\\n        -6.55861863e-01],\\n       [-6.93378234e-01,  8.20217656e-01,  1.36973973e+00,\\n         2.50856224e-01,  5.38881454e-01,  1.50880018e+00,\\n         1.63426945e+00],\\n       [ 3.37729299e-01,  1.18667376e+00, -1.49106915e-01,\\n        -3.83817319e-01, -2.58787992e-01, -6.26025857e-01,\\n        -6.55861863e-01],\\n       [-1.12883481e+00,  8.20217656e-01,  3.62961382e-01,\\n         1.43970599e+00,  8.19992153e-01,  1.50880018e+00,\\n         1.63426945e+00],\\n       [ 7.41714753e-01,  3.62147525e-01, -1.23399737e+00,\\n        -4.56452541e-01,  1.99265482e-01, -6.37919038e-01,\\n        -6.55861863e-01],\\n       [-7.63955775e-01,  1.14086675e+00, -3.05331141e-01,\\n        -4.45493172e-01, -6.29797036e-01, -1.68138378e-01,\\n        -5.41355298e-01],\\n       [-9.03202033e-01,  8.20217656e-01,  1.25691112e+00,\\n         4.51836575e-01, -8.05312854e-01,  1.50880018e+00,\\n         1.63426945e+00],\\n       [ 5.84995414e-01, -2.79150659e-01, -7.47966448e-01,\\n        -4.64508880e-01,  1.29516912e+00, -1.01255425e+00,\\n        -8.84874995e-01],\\n       [ 5.84995414e-01, -2.79150659e-01, -7.47966448e-01,\\n        -4.64506237e-01,  2.04973314e-01, -1.01255425e+00,\\n        -8.84874995e-01],\\n       [ 2.45711119e+00,  5.91182590e-01, -1.09513140e+00,\\n        -4.59907900e-01,  3.03433406e-01, -4.59521319e-01,\\n        -9.99381560e-01],\\n       [ 7.97413257e-01, -5.01155936e-02, -1.10381052e+00,\\n        -4.64463954e-01,  4.53263982e-01, -9.53088342e-01,\\n        -7.70368429e-01],\\n       [ 8.49324884e-02,  8.73054458e-02, -5.74383975e-01,\\n        -4.49547108e-01,  1.39333252e-01, -8.04423576e-01,\\n        -6.55861863e-01],\\n       [-8.73150293e-01,  8.20217656e-01,  1.60407607e+00,\\n         9.42015313e-01,  2.59197713e-01,  1.50880018e+00,\\n         1.63426945e+00],\\n       [-1.96692458e-01, -4.30858044e-03, -7.21929077e-01,\\n        -4.60875137e-01,  4.83230097e-01, -1.13148606e+00,\\n        -3.12342167e-01],\\n       [-1.10294333e+00,  8.20217656e-01,  1.25691112e+00,\\n         2.51777812e+00, -1.82273381e+00,  1.50880018e+00,\\n         1.63426945e+00],\\n       [ 1.73121971e+00, -2.66111534e+00, -1.31210949e+00,\\n        -4.63135986e-01,  1.42216837e+00, -4.95200863e-01,\\n        -8.84874995e-01],\\n       [ 5.09180843e-01,  8.20217656e-01, -3.48726760e-01,\\n        -4.60851352e-01, -4.17180315e-01, -1.11959288e+00,\\n        -5.41355298e-01],\\n       [-5.04551497e-01, -2.79150659e-01, -5.83063099e-01,\\n        -4.59409747e-01,  2.12280468e+00, -1.30393719e+00,\\n        -7.70368429e-01],\\n       [-4.64074641e-01,  8.20217656e-01,  2.15416279e-01,\\n         1.25957804e+00, -8.05312854e-01,  1.50880018e+00,\\n         1.63426945e+00],\\n       [ 3.21626656e-01,  8.73054458e-02, -7.91362067e-01,\\n        -4.46694289e-01, -5.33060596e-02, -1.12553947e+00,\\n        -7.70368429e-01],\\n       [-1.05654422e+00,  8.20217656e-01,  1.41313535e+00,\\n         1.33880086e-01, -3.87612618e+00,  1.50880018e+00,\\n         1.63426945e+00],\\n       [ 8.49324884e-02,  8.73054458e-02, -5.74383975e-01,\\n        -4.50088866e-01, -5.51314354e-01, -8.04423576e-01,\\n        -6.55861863e-01],\\n       [ 1.12098339e+00,  1.33112459e-01, -8.43436809e-01,\\n        -4.63837629e-01,  1.02832800e+00, -1.13148606e+00,\\n        -7.70368429e-01],\\n       [ 5.09180843e-01,  8.20217656e-01, -3.48726760e-01,\\n        -4.59987182e-01, -4.41438598e-01, -1.11959288e+00,\\n        -5.41355298e-01],\\n       [ 2.51320125e+00,  3.16340511e-01, -1.07777315e+00,\\n        -4.19364576e-01,  2.82772187e+00, -4.89254273e-01,\\n        -3.12342167e-01],\\n       [-1.27390543e+00,  8.20217656e-01,  6.58051587e-01,\\n         7.51805376e-01, -8.75530483e-02,  1.50880018e+00,\\n         1.63426945e+00],\\n       [-1.15281747e+00,  8.20217656e-01,  1.00521653e+00,\\n         1.12888545e+01,  9.85519265e-01,  1.50880018e+00,\\n         1.63426945e+00],\\n       [ 1.37204898e-01,  1.33112459e-01, -1.02569841e+00,\\n        -4.54699095e-01,  2.34529708e-03, -8.48861094e-02,\\n        -5.41355298e-01],\\n       [-1.05718050e+00,  1.27828779e+00,  5.97297721e-01,\\n        -4.29676479e-01, -1.47485279e-01,  1.47030925e-01,\\n        -6.55861863e-01],\\n       [-4.76359636e-01,  3.62147525e-01,  2.58811898e-01,\\n        -4.29848256e-01, -1.26622024e+00, -1.26512244e-01,\\n        -4.26848732e-01],\\n       [-1.18791458e-02,  4.14984327e-02, -9.21548922e-01,\\n        -4.58665821e-01, -2.23114045e-01, -9.82821295e-01,\\n        -7.70368429e-01],\\n       [ 1.22423748e-01, -4.30858044e-03, -7.21929077e-01,\\n        -4.60827568e-01,  1.36794397e+00, -1.13148606e+00,\\n        -3.12342167e-01],\\n       [-9.31785448e-01,  7.74410643e-01,  4.67110866e-01,\\n        -4.54142802e-01, -4.20034231e-01,  1.77639676e+00,\\n        -6.55861863e-01],\\n       [ 1.22117217e+00, -1.14948391e+00, -3.22689388e-01,\\n        -4.64814114e-01,  3.74781299e-01,  5.78320658e-02,\\n        -9.99381560e-01],\\n       [-7.26024017e-01, -2.47788729e+00,  7.96917565e-01,\\n        -3.99385596e-01,  3.02606901e+00, -8.81729254e-01,\\n        -5.41355298e-01],\\n       [-6.33519473e-01, -2.79150659e-01, -7.09948020e-02,\\n        -4.50860541e-01, -5.78426553e-01,  1.17297972e-01,\\n        -4.26848732e-01],\\n       [-9.55033945e-01,  8.20217656e-01,  1.60407607e+00,\\n         1.33925611e+00, -4.88528208e-01,  1.50880018e+00,\\n         1.63426945e+00],\\n       [-9.63843901e-01,  8.20217656e-01,  1.07464952e+00,\\n         9.24839539e+00, -4.57135135e-01,  1.50880018e+00,\\n         1.63426945e+00],\\n       [-4.59033388e-01, -4.30858044e-03, -9.70321730e-02,\\n        -4.33536175e-01, -3.62955916e-01, -6.43865629e-01,\\n        -6.55861863e-01],\\n       [ 1.33428222e+00,  2.24726485e-01, -1.26871387e+00,\\n        -4.60465515e-01, -5.69864806e-01, -4.00055413e-01,\\n        -6.55861863e-01],\\n       [-7.66402985e-01,  8.20217656e-01,  2.50132774e-01,\\n         3.76647162e-01, -1.64608773e-01,  1.50880018e+00,\\n         1.63426945e+00],\\n       [-8.77065829e-01,  1.27828779e+00,  5.97297721e-01,\\n        -3.51669924e-01, -9.13761651e-01,  1.47030925e-01,\\n        -6.55861863e-01],\\n       [-9.28604075e-01,  8.20217656e-01,  1.41313535e+00,\\n         4.59822882e-01, -3.87214200e-01,  1.50880018e+00,\\n         1.63426945e+00],\\n       [-1.02938019e+00,  1.27828779e+00,  5.97297721e-01,\\n        -3.96164117e-01, -1.80305309e-01,  1.47030925e-01,\\n        -6.55861863e-01],\\n       [-6.19961928e-01,  8.20217656e-01,  1.86444978e+00,\\n         4.05695256e-02,  1.67872409e-01,  1.50880018e+00,\\n         1.63426945e+00],\\n       [ 1.40412560e+00, -6.91413777e-01, -1.01788719e+00,\\n        -4.61477678e-01, -8.15301559e-01, -6.43865629e-01,\\n        -9.99381560e-01],\\n       [ 1.59735732e+00, -8.28834817e-01, -1.10381052e+00,\\n        -4.51258270e-01,  1.65018494e-01, -6.67651992e-01,\\n        -4.26848732e-01],\\n       [ 4.93127145e-01,  4.14984327e-02, -9.21548922e-01,\\n        -4.61430109e-01,  1.59310662e-01, -9.82821295e-01,\\n        -7.70368429e-01],\\n       [ 8.04656999e-01,  5.45375577e-01, -5.39667480e-01,\\n        -4.42763240e-01,  2.19242892e-01, -7.44957670e-01,\\n        -5.41355298e-01],\\n       [-8.61991014e-01, -2.47788729e+00,  7.96917565e-01,\\n        -3.81347695e-01,  8.05722574e-01, -8.81729254e-01,\\n        -5.41355298e-01],\\n       [ 1.33428222e+00,  2.24726485e-01, -1.26871387e+00,\\n        -4.50205146e-01, -9.75120839e-01, -4.00055413e-01,\\n        -6.55861863e-01],\\n       [-9.86015625e-01, -1.69916807e+00,  4.32394371e-01,\\n        -2.90677215e-01, -3.01596728e-01, -5.51531562e-02,\\n        -5.41355298e-01],\\n       [ 3.34156372e-01,  1.18667376e+00, -1.49106915e-01,\\n        -3.57049185e-01, -9.67986050e-01, -6.26025857e-01,\\n        -6.55861863e-01],\\n       [-4.52670641e-01, -2.79150659e-01, -5.83063099e-01,\\n        -4.54890692e-01,  4.07601330e-01, -1.30393719e+00,\\n        -7.70368429e-01],\\n       [ 2.65068552e+00, -5.08185725e-01, -1.26003475e+00,\\n        -4.65399477e-01,  1.50748915e-01, -5.90346313e-01,\\n        -8.84874995e-01],\\n       [ 2.04735032e+00,  3.16340511e-01, -1.07777315e+00,\\n        -4.40884264e-01, -9.76547797e-01, -4.89254273e-01,\\n        -3.12342167e-01],\\n       [-1.09848940e+00,  8.20217656e-01,  3.62961382e-01,\\n         1.38849003e+00,  5.41735369e-01,  1.50880018e+00,\\n         1.63426945e+00],\\n       [-8.18283841e-01, -1.69916807e+00,  4.32394371e-01,\\n        -1.64148957e-01,  5.94236116e-02, -5.51531562e-02,\\n        -5.41355298e-01],\\n       [-5.13508286e-01,  8.20217656e-01,  1.86444978e+00,\\n         2.19226802e-01, -2.14552298e-01,  1.50880018e+00,\\n         1.63426945e+00],\\n       [-1.27140928e+00,  8.20217656e-01,  9.79179162e-01,\\n         9.99666299e-01, -1.95686785e+00,  1.50880018e+00,\\n         1.63426945e+00],\\n       [-2.44608833e-01, -4.62378712e-01, -4.18159749e-01,\\n        -3.85720079e-01,  8.58520015e-01, -6.26025857e-01,\\n        -1.97835601e-01]]), '$$$$$$']\"]\n",
      "Sponsor: Testing test_id:  f27f358d-a995-4df6-80ae-7089985fbc85  is running\n",
      "lihjai a \n"
     ]
    }
   ],
   "source": [
    "import synspot\n",
    "\n",
    "task_id = \"aa1dcc80-eda2-4433-a358-5703e941deff\"\n",
    "test_file_path = \"/Users/qile/Documents/synspot_Data/data/BostonHousing/BostonHousing_2_123_1.0/0/test/dataset.csv\"\n",
    "synspot.callForTest(task_id=task_id, test_file_path=test_file_path, \n",
    "                    test_id_column='1', test_data_column='2-8', test_target_column='9',  \n",
    "                    test_name='demo_testing', test_description='Synspot Demo Testing')\n"
   ]
  },
  {
   "cell_type": "markdown",
   "metadata": {},
   "source": [
    "Stop Collaboration\n",
    "-----------------\n",
    "\n",
    "You can call this function to not receiving any request from others.\n",
    "\n",
    "If it ends successfully, ``True`` will be returned."
   ]
  },
  {
   "cell_type": "code",
   "execution_count": 12,
   "metadata": {},
   "outputs": [
    {
     "name": "stdout",
     "output_type": "stream",
     "text": [
      "short_polling_res <Response [200]>\n",
      "True\n"
     ]
    }
   ],
   "source": [
    "end_Collaboration_res = synspot.end_Collaboration()\n",
    "print(end_Collaboration_res)"
   ]
  },
  {
   "cell_type": "markdown",
   "metadata": {},
   "source": [
    "User Logout\n",
    "-----------------\n",
    "\n",
    "You can call userLogout() to logout.\n",
    "\n",
    "* All the personal information and the database will be cleaned.\n",
    "* If you want to save the database to designated position, we offer the api in the following part."
   ]
  },
  {
   "cell_type": "code",
   "execution_count": null,
   "metadata": {
    "id": "EuWHRx7biWIU"
   },
   "outputs": [],
   "source": [
    "synspot.userLogout()"
   ]
  },
  {
   "cell_type": "markdown",
   "metadata": {
    "id": "h9GctVnQiWIU"
   },
   "source": [
    "--------------\n",
    "\n",
    "\n"
   ]
  },
  {
   "cell_type": "markdown",
   "metadata": {
    "id": "9k6f65DoiWIV"
   },
   "source": [
    "Some api to retrieve information stored in database\n",
    "---------------------------------------------------\n",
    "\n",
    "Get all task id of training as sponsor.\n",
    "``List`` will be returned."
   ]
  },
  {
   "cell_type": "code",
   "execution_count": null,
   "metadata": {},
   "outputs": [],
   "source": [
    "task_id_list = synspot.get_all_task_id_as_sponsor()\n",
    "print(task_id_list)"
   ]
  },
  {
   "cell_type": "markdown",
   "metadata": {},
   "source": [
    "Get all test id of testing as sponsor.\n",
    "``List`` will be returned."
   ]
  },
  {
   "cell_type": "code",
   "execution_count": null,
   "metadata": {},
   "outputs": [],
   "source": [
    "test_id_list = synspot.get_all_test_id_as_sponsor()\n",
    "print(test_id_list)"
   ]
  },
  {
   "cell_type": "markdown",
   "metadata": {},
   "source": [
    "Get all task id of training as assistor.\n",
    "``List`` will be returned."
   ]
  },
  {
   "cell_type": "code",
   "execution_count": null,
   "metadata": {},
   "outputs": [],
   "source": [
    "task_id_list = synspot.get_all_task_id_as_assistor()\n",
    "print(task_id_list)"
   ]
  },
  {
   "cell_type": "markdown",
   "metadata": {},
   "source": [
    "Get all task id of testing as assistor.\n",
    "``List`` will be returned."
   ]
  },
  {
   "cell_type": "code",
   "execution_count": null,
   "metadata": {},
   "outputs": [],
   "source": [
    "test_id_list = synspot.get_all_test_id_as_assistor()\n",
    "print(test_id_list)"
   ]
  },
  {
   "cell_type": "markdown",
   "metadata": {},
   "source": [
    "Get all task id of training.\n",
    "``List`` will be returned."
   ]
  },
  {
   "cell_type": "code",
   "execution_count": null,
   "metadata": {},
   "outputs": [],
   "source": [
    "task_id_list = synspot.get_all_task_id()\n",
    "print(task_id_list)"
   ]
  },
  {
   "cell_type": "markdown",
   "metadata": {},
   "source": [
    "Get all test id of testing.\n",
    "``List`` will be returned."
   ]
  },
  {
   "cell_type": "code",
   "execution_count": null,
   "metadata": {
    "id": "BpqB2WmMiWIV"
   },
   "outputs": [],
   "source": [
    "test_id_list = synspot.get_all_test_id()\n",
    "print(test_id_list)"
   ]
  },
  {
   "cell_type": "markdown",
   "metadata": {
    "id": "DqU9dn-kiWIV"
   },
   "source": [
    "To store the temporary database in the memory.\n",
    "\n",
    "If the temporary database has been stored successfully, ``True`` will be returned."
   ]
  },
  {
   "cell_type": "code",
   "execution_count": null,
   "metadata": {
    "id": "GL7nVUYQiWIV"
   },
   "outputs": [],
   "source": [
    "store_database_res = synspot.store_database(path=None, mode='pickle')\n",
    "print(store_database_res)"
   ]
  },
  {
   "cell_type": "markdown",
   "metadata": {
    "id": "hGhDiexNiWIW"
   },
   "source": [
    "--------------\n",
    "\n",
    "\n"
   ]
  }
 ],
 "metadata": {
  "colab": {
   "name": "data_tutorial.ipynb",
   "provenance": []
  },
  "kernelspec": {
   "display_name": "Python 3",
   "language": "python",
   "name": "python3"
  },
  "language_info": {
   "codemirror_mode": {
    "name": "ipython",
    "version": 3
   },
   "file_extension": ".py",
   "mimetype": "text/x-python",
   "name": "python",
   "nbconvert_exporter": "python",
   "pygments_lexer": "ipython3",
   "version": "3.8.8"
  }
 },
 "nbformat": 4,
 "nbformat_minor": 1
}
