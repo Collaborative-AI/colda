{
 "cells": [
  {
   "cell_type": "code",
   "execution_count": null,
   "metadata": {
    "id": "3zqIWJP7iWIQ"
   },
   "outputs": [],
   "source": [
    "%matplotlib inline"
   ]
  },
  {
   "cell_type": "markdown",
   "metadata": {
    "id": "x9tK4Q4SiWIR"
   },
   "source": [
    "\n",
    "\n",
    "Synspot Quickstart\n",
    "===================\n",
    "\n",
    "\n"
   ]
  },
  {
   "cell_type": "markdown",
   "metadata": {
    "id": "z1ckYv_6iWIS"
   },
   "source": [
    "The purpose of this document is to familiarize the user with the easy-to-use Python API for the synspot Project, as proposed by **Enmao Diao, Jie Ding, and Vahid Tarokh** \n",
    "\n",
    "Synspot provides ``6`` main modules. ``synspot.network`` for Network issue, ``synspot.algorithm`` to handle algorithms used in synspot, ``synspot.database`` to store the temporary information, ``synspot.personalinformation`` to store the personal information of current user, ``synspot.authorization`` to check the authorization/authentication of user, and the serveral main files in synspot to handle the collaboration process.\n",
    "\n",
    "There are two important roles in this package, ``sponsor`` and ``assistor``.\n",
    "\n",
    "* ``Sponsor`` initates the task and get help from others.\n",
    "* ``Assistor`` helps sponsor through the task."
   ]
  },
  {
   "cell_type": "markdown",
   "metadata": {},
   "source": [
    "Installing a Package\n",
    "-------------------\n",
    "\n"
   ]
  },
  {
   "cell_type": "code",
   "execution_count": null,
   "metadata": {},
   "outputs": [],
   "source": [
    "# python3 -m pip install synspot"
   ]
  },
  {
   "cell_type": "code",
   "execution_count": 1,
   "metadata": {},
   "outputs": [
    {
     "name": "stdout",
     "output_type": "stream",
     "text": [
      "Processing ./synspot-0.0.0-py3-none-any.whl\n",
      "Requirement already satisfied: pandas in /Users/qile/.local/share/virtualenvs/synspot-OGlsVrR-/lib/python3.7/site-packages (from synspot==0.0.0) (1.3.5)\n",
      "Requirement already satisfied: matplotlib in /Users/qile/.local/share/virtualenvs/synspot-OGlsVrR-/lib/python3.7/site-packages (from synspot==0.0.0) (3.5.1)\n",
      "Requirement already satisfied: scipy in /Users/qile/.local/share/virtualenvs/synspot-OGlsVrR-/lib/python3.7/site-packages (from synspot==0.0.0) (1.7.3)\n",
      "Requirement already satisfied: scikit-learn in /Users/qile/.local/share/virtualenvs/synspot-OGlsVrR-/lib/python3.7/site-packages (from synspot==0.0.0) (1.0.2)\n",
      "Requirement already satisfied: torch in /Users/qile/.local/share/virtualenvs/synspot-OGlsVrR-/lib/python3.7/site-packages (from synspot==0.0.0) (1.10.2)\n",
      "Requirement already satisfied: numpy in /Users/qile/.local/share/virtualenvs/synspot-OGlsVrR-/lib/python3.7/site-packages (from synspot==0.0.0) (1.21.5)\n",
      "Requirement already satisfied: requests in /Users/qile/.local/share/virtualenvs/synspot-OGlsVrR-/lib/python3.7/site-packages (from synspot==0.0.0) (2.27.1)\n",
      "Requirement already satisfied: python-dateutil>=2.7 in /Users/qile/.local/share/virtualenvs/synspot-OGlsVrR-/lib/python3.7/site-packages (from matplotlib->synspot==0.0.0) (2.8.2)\n",
      "Requirement already satisfied: pillow>=6.2.0 in /Users/qile/.local/share/virtualenvs/synspot-OGlsVrR-/lib/python3.7/site-packages (from matplotlib->synspot==0.0.0) (9.0.1)\n",
      "Requirement already satisfied: fonttools>=4.22.0 in /Users/qile/.local/share/virtualenvs/synspot-OGlsVrR-/lib/python3.7/site-packages (from matplotlib->synspot==0.0.0) (4.29.1)\n",
      "Requirement already satisfied: packaging>=20.0 in /Users/qile/.local/share/virtualenvs/synspot-OGlsVrR-/lib/python3.7/site-packages (from matplotlib->synspot==0.0.0) (21.3)\n",
      "Requirement already satisfied: cycler>=0.10 in /Users/qile/.local/share/virtualenvs/synspot-OGlsVrR-/lib/python3.7/site-packages (from matplotlib->synspot==0.0.0) (0.11.0)\n",
      "Requirement already satisfied: pyparsing>=2.2.1 in /Users/qile/.local/share/virtualenvs/synspot-OGlsVrR-/lib/python3.7/site-packages (from matplotlib->synspot==0.0.0) (3.0.7)\n",
      "Requirement already satisfied: kiwisolver>=1.0.1 in /Users/qile/.local/share/virtualenvs/synspot-OGlsVrR-/lib/python3.7/site-packages (from matplotlib->synspot==0.0.0) (1.3.2)\n",
      "Requirement already satisfied: pytz>=2017.3 in /Users/qile/.local/share/virtualenvs/synspot-OGlsVrR-/lib/python3.7/site-packages (from pandas->synspot==0.0.0) (2021.3)\n",
      "Requirement already satisfied: charset-normalizer~=2.0.0 in /Users/qile/.local/share/virtualenvs/synspot-OGlsVrR-/lib/python3.7/site-packages (from requests->synspot==0.0.0) (2.0.12)\n",
      "Requirement already satisfied: urllib3<1.27,>=1.21.1 in /Users/qile/.local/share/virtualenvs/synspot-OGlsVrR-/lib/python3.7/site-packages (from requests->synspot==0.0.0) (1.26.8)\n",
      "Requirement already satisfied: idna<4,>=2.5 in /Users/qile/.local/share/virtualenvs/synspot-OGlsVrR-/lib/python3.7/site-packages (from requests->synspot==0.0.0) (3.3)\n",
      "Requirement already satisfied: certifi>=2017.4.17 in /Users/qile/.local/share/virtualenvs/synspot-OGlsVrR-/lib/python3.7/site-packages (from requests->synspot==0.0.0) (2021.10.8)\n",
      "Requirement already satisfied: threadpoolctl>=2.0.0 in /Users/qile/.local/share/virtualenvs/synspot-OGlsVrR-/lib/python3.7/site-packages (from scikit-learn->synspot==0.0.0) (3.1.0)\n",
      "Requirement already satisfied: joblib>=0.11 in /Users/qile/.local/share/virtualenvs/synspot-OGlsVrR-/lib/python3.7/site-packages (from scikit-learn->synspot==0.0.0) (1.1.0)\n",
      "Requirement already satisfied: typing-extensions in /Users/qile/.local/share/virtualenvs/synspot-OGlsVrR-/lib/python3.7/site-packages (from torch->synspot==0.0.0) (4.1.1)\n",
      "Requirement already satisfied: six>=1.5 in /Users/qile/.local/share/virtualenvs/synspot-OGlsVrR-/lib/python3.7/site-packages (from python-dateutil>=2.7->matplotlib->synspot==0.0.0) (1.16.0)\n",
      "synspot is already installed with the same version as the provided wheel. Use --force-reinstall to force an installation of the wheel.\n"
     ]
    }
   ],
   "source": [
    "import os\n",
    "path=\"/Users/qile/Documents/Apollo_Package/synspot/dist\"\n",
    "os.chdir(path)\n",
    "os.listdir(path)\n",
    "!pip install synspot-0.0.0-py3-none-any.whl"
   ]
  },
  {
   "cell_type": "markdown",
   "metadata": {},
   "source": [
    "Importing classes\n",
    "-------------------\n",
    "\n",
    "Run the following command to import synspot. \n",
    "\n",
    "If you import successfully, ``test_fucntion_res`` should be 'test successfully'.\n"
   ]
  },
  {
   "cell_type": "code",
   "execution_count": 2,
   "metadata": {},
   "outputs": [
    {
     "name": "stdout",
     "output_type": "stream",
     "text": [
      "test successfully\n"
     ]
    }
   ],
   "source": [
    "import synspot\n",
    "\n",
    "test_function_res = synspot.test_function()\n",
    "print(test_function_res)"
   ]
  },
  {
   "cell_type": "markdown",
   "metadata": {
    "id": "r6nqLPiyiWIS"
   },
   "source": [
    "Loading a Dataset\n",
    "-------------------\n",
    "\n",
    "BostonHousing contains information collected by the U.S Census Service concerning housing in the area of Boston Mass. It was obtained from the StatLib archive (http://lib.stat.cmu.edu/datasets/boston), and has been used extensively throughout the literature to benchmark algorithms. \n",
    "\n",
    "BostonHousing will be used in this tutorial. The dataset is small in size with only 506 cases. There are 14 attributes in each case of the dataset. "
   ]
  },
  {
   "cell_type": "code",
   "execution_count": null,
   "metadata": {
    "id": "bgdaWZjpiWIT"
   },
   "outputs": [],
   "source": [
    "import torch\n",
    "from torch.utils.data import Dataset\n",
    "from torchvision import datasets\n",
    "from torchvision.transforms import ToTensor\n",
    "import matplotlib.pyplot as plt\n"
   ]
  },
  {
   "cell_type": "markdown",
   "metadata": {
    "id": "ITUrW8P-iWIT"
   },
   "source": [
    "User Registeration\n",
    "-----------------\n",
    "\n",
    "First step is registering your own account. \n",
    "\n",
    "1. If username, email and the password meet the requirements, ``True`` will be returned.\n",
    "2. If the any one of the username, email and the password does not meet the requirement, ``False`` will be returned and the instruction information will be printed in the terminal."
   ]
  },
  {
   "cell_type": "code",
   "execution_count": null,
   "metadata": {
    "id": "fWbZcEuoiWIT"
   },
   "outputs": [],
   "source": [
    "import synspot\n",
    "synspot.userRegister(username: str, email: str, password: str)"
   ]
  },
  {
   "cell_type": "markdown",
   "metadata": {},
   "source": [
    "User Login\n",
    "-----------------\n",
    "\n",
    "Login your account with userLogin function. ``True`` will be returned if you login successfully, otherwise ``False``. \n",
    "\n",
    "Here we offer a pre-registered account for the simple demo."
   ]
  },
  {
   "cell_type": "code",
   "execution_count": 3,
   "metadata": {},
   "outputs": [
    {
     "name": "stdout",
     "output_type": "stream",
     "text": [
      "url http://3.145.140.55/tokens xie2 Xie2@123\n",
      "token_response <Response [200]>\n",
      "length 114\n",
      "length_after 116\n",
      "login user_id 2\n",
      "ressss True\n",
      "True\n"
     ]
    }
   ],
   "source": [
    "import synspot\n",
    "res = synspot.userLogin(username='xie2', password='Xie2@123')\n",
    "print(res)"
   ]
  },
  {
   "cell_type": "markdown",
   "metadata": {},
   "source": [
    "Set default information\n",
    "-----------------\n",
    "\n",
    "Set the default information for later usage as assistor.\n",
    "\n",
    "* This function must be set if you want to be assistor.\n",
    "* Please fill in the ``default_file_path`` with the your own local data path.\n",
    "* ``True`` will be returned if you set default information successfully, otherwise ``False``. "
   ]
  },
  {
   "cell_type": "code",
   "execution_count": 4,
   "metadata": {},
   "outputs": [
    {
     "name": "stdout",
     "output_type": "stream",
     "text": [
      "True\n"
     ]
    }
   ],
   "source": [
    "default_file_path = '/Users/qile/Documents/synspot_Data/data/BostonHousing/BostonHousing_2_123_1.0/1/all/dataset.csv'\n",
    "set_default_data_path_res = synspot.set_default_data_path(default_mode='auto', default_task_mode='regression', \n",
    "                                    default_model_name='linear', default_file_path=default_file_path,\n",
    "                                    default_id_column='1', default_data_column='2-7')\n",
    "print(set_default_data_path_res)"
   ]
  },
  {
   "cell_type": "markdown",
   "metadata": {},
   "source": [
    "Start Collaboration\n",
    "-----------------\n",
    "\n",
    "You can call this function to collaborate with others."
   ]
  },
  {
   "cell_type": "code",
   "execution_count": 5,
   "metadata": {},
   "outputs": [
    {
     "name": "stdout",
     "output_type": "stream",
     "text": [
      "ggg http://3.145.140.55 2\n",
      "get notification url http://3.145.140.55/users/2/notifications/\n",
      "short_polling_res <Response [200]>\n",
      "lihjai a \n",
      "ggg http://3.145.140.55 2\n",
      "get notification url http://3.145.140.55/users/2/notifications/\n",
      "short_polling_res <Response [200]>\n",
      "lihjai a \n",
      "ggg http://3.145.140.55 2\n",
      "get notification url http://3.145.140.55/users/2/notifications/\n",
      "short_polling_res <Response [200]>\n",
      "lihjai a \n",
      "ggg http://3.145.140.55 2\n",
      "get notification url http://3.145.140.55/users/2/notifications/\n",
      "short_polling_res <Response [200]>\n",
      "unread_request_notification {'check_dict': {'a23fdba8-951f-40d6-811d-8be07841b09c': 1}, 'info_dict': {'a23fdba8-951f-40d6-811d-8be07841b09c': {'metric_name': 'MAD_RMSE_R2', 'model_name': 'linear', 'task_mode': 'regression'}}}\n",
      "unread_match_identifier_notification {}\n",
      "unread_situation_notification {}\n",
      "unread_output_notification {}\n",
      "unread_test_request_notification {}\n",
      "unread_test_match_identifier_notification {}\n",
      "unread_test_output_notification {}\n",
      "default_mode auto\n",
      "sdfasdfsdfsf\n",
      "hash_id_file_address ['200', 'make_hash', '/Users/qile/Documents/Apollo_Package/synspot/synspot/personalinformation/2/task/a23fdba8-951f-40d6-811d-8be07841b09c/train/id/2.csv']\n",
      "hash_id_file_address ['200', 'make_hash', '/Users/qile/Documents/Apollo_Package/synspot/synspot/personalinformation/2/task/a23fdba8-951f-40d6-811d-8be07841b09c/train/id/2.csv']\n",
      "load_json_data match_assistor_id_res\n",
      "sss\n",
      "sss1\n",
      "json_data dict_keys(['stored', 'task_id'])\n",
      "key_value stored assistor match id stored\n",
      "Assistor: Training task_id:  a23fdba8-951f-40d6-811d-8be07841b09c  is running\n",
      "lihjai a \n",
      "ggg http://3.145.140.55 2\n",
      "get notification url http://3.145.140.55/users/2/notifications/\n",
      "short_polling_res <Response [200]>\n",
      "unread_request_notification {}\n",
      "unread_match_identifier_notification {'check_dict': {'a23fdba8-951f-40d6-811d-8be07841b09c': 0}}\n",
      "unread_situation_notification {'check_dict': {'a23fdba8-951f-40d6-811d-8be07841b09c': 0}, 'rounds_dict': {'a23fdba8-951f-40d6-811d-8be07841b09c': 1}}\n",
      "unread_output_notification {}\n",
      "unread_test_request_notification {}\n",
      "unread_test_match_identifier_notification {}\n",
      "unread_test_output_notification {}\n",
      "load_json_data assistor_get_match_id_file_res\n",
      "sss\n",
      "sss1\n",
      "json_data dict_keys(['match_id_file', 'sponsor_random_id'])\n",
      "key_value match_id_file None\n",
      "key_value sponsor_random_id None\n",
      "load_json_data assistor_get_match_id_file_res[\"match_id_file\"][0]\n",
      "sss\n",
      "sss1\n",
      "load_json_data assistor_get_match_id_file_res[\"sponsor_random_id\"][0]\n",
      "sss\n",
      "save_match_id_file_pos ['200', 'save_match_id', '/Users/qile/Documents/Apollo_Package/synspot/synspot/personalinformation/2/task/a23fdba8-951f-40d6-811d-8be07841b09c/train/id/a7669052-30f9-40bd-b425-05b0597a6c0d.csv']\n",
      "55555\n",
      "66662\n",
      "make_match_idx_done ['200', 'make_match_idx', 'complete']\n",
      "Assistor: Training task_id:  a23fdba8-951f-40d6-811d-8be07841b09c  is running\n",
      "load_json_data assistor_get_situation_res\n",
      "sss\n",
      "sss1\n",
      "json_data dict_keys(['sender_random_id', 'situation'])\n",
      "key_value situation None\n",
      "key_value sender_random_id None\n",
      "load_json_data assistor_get_situation_res[\"situation\"]\n",
      "sss\n",
      "sss1\n",
      "load_json_data assistor_get_situation_res[\"sender_random_id\"]\n",
      "sss\n",
      "save_residual_pos ['200', 'save_residual', '/Users/qile/Documents/Apollo_Package/synspot/synspot/personalinformation/2/task/a23fdba8-951f-40d6-811d-8be07841b09c/train/round/1/residual/2.csv']\n",
      "55555\n",
      "key ('2', 'a23fdba8-951f-40d6-811d-8be07841b09c', 'train')\n",
      "defaultdict(<class 'dict'>, {'User_Assistor_Table': {'user_id': '2', 'task_id': 'a23fdba8-951f-40d6-811d-8be07841b09c', 'test_id': None, 'task_name': None, 'task_description': None, 'test_name': None, 'test_description': None, 'test_indicator': 'train', 'train_file_path': '/Users/qile/Documents/synspot_Data/data/BostonHousing/BostonHousing_2_123_1.0/1/all/dataset.csv', 'train_id_column': '1', 'train_data_column': '2-7', 'test_file_path': None, 'test_id_column': None, 'test_data_column': None, 'mode': 'auto', 'task_mode': 'regression', 'model_name': 'linear'}})\n",
      "get assistor table auto regression linear None None /Users/qile/Documents/synspot_Data/data/BostonHousing/BostonHousing_2_123_1.0/1/all/dataset.csv 1 2-7\n",
      "train_output ['200', 'make_train', '/Users/qile/Documents/Apollo_Package/synspot/synspot/personalinformation/2/task/a23fdba8-951f-40d6-811d-8be07841b09c/train/round/1/output/2.csv']\n",
      "ssssss\n",
      "load_json_data assistor_send_output_res\n",
      "sss\n",
      "sss1\n",
      "json_data dict_keys(['send_output'])\n",
      "key_value send_output send output successfully\n",
      "Assistor: Training task_id:  a23fdba8-951f-40d6-811d-8be07841b09c  is running\n",
      "lihjai a \n",
      "ggg http://3.145.140.55 2\n",
      "get notification url http://3.145.140.55/users/2/notifications/\n",
      "short_polling_res <Response [200]>\n",
      "lihjai a \n",
      "ggg http://3.145.140.55 2\n",
      "get notification url http://3.145.140.55/users/2/notifications/\n",
      "short_polling_res <Response [200]>\n",
      "lihjai a \n",
      "ggg http://3.145.140.55 2\n",
      "get notification url http://3.145.140.55/users/2/notifications/\n",
      "short_polling_res <Response [200]>\n",
      "lihjai a \n",
      "ggg http://3.145.140.55 2\n",
      "get notification url http://3.145.140.55/users/2/notifications/\n",
      "short_polling_res <Response [200]>\n",
      "lihjai a \n",
      "ggg http://3.145.140.55 2\n",
      "get notification url http://3.145.140.55/users/2/notifications/\n",
      "short_polling_res <Response [200]>\n",
      "lihjai a \n",
      "ggg http://3.145.140.55 2\n",
      "get notification url http://3.145.140.55/users/2/notifications/\n",
      "short_polling_res <Response [200]>\n",
      "lihjai a \n",
      "ggg http://3.145.140.55 2\n",
      "get notification url http://3.145.140.55/users/2/notifications/\n",
      "short_polling_res <Response [200]>\n",
      "lihjai a \n",
      "ggg http://3.145.140.55 2\n",
      "get notification url http://3.145.140.55/users/2/notifications/\n",
      "short_polling_res <Response [200]>\n",
      "lihjai a \n",
      "ggg http://3.145.140.55 2\n",
      "get notification url http://3.145.140.55/users/2/notifications/\n",
      "short_polling_res <Response [200]>\n",
      "lihjai a \n",
      "ggg http://3.145.140.55 2\n",
      "get notification url http://3.145.140.55/users/2/notifications/\n",
      "short_polling_res <Response [200]>\n",
      "lihjai a \n",
      "ggg http://3.145.140.55 2\n",
      "get notification url http://3.145.140.55/users/2/notifications/\n",
      "short_polling_res <Response [200]>\n",
      "lihjai a \n",
      "ggg http://3.145.140.55 2\n",
      "get notification url http://3.145.140.55/users/2/notifications/\n",
      "short_polling_res <Response [200]>\n",
      "lihjai a \n",
      "ggg http://3.145.140.55 2\n",
      "get notification url http://3.145.140.55/users/2/notifications/\n",
      "short_polling_res <Response [200]>\n",
      "lihjai a \n",
      "ggg http://3.145.140.55 2\n",
      "get notification url http://3.145.140.55/users/2/notifications/\n",
      "short_polling_res <Response [200]>\n",
      "lihjai a \n",
      "ggg http://3.145.140.55 2\n",
      "get notification url http://3.145.140.55/users/2/notifications/\n",
      "short_polling_res <Response [200]>\n",
      "lihjai a \n",
      "ggg http://3.145.140.55 2\n",
      "get notification url http://3.145.140.55/users/2/notifications/\n",
      "short_polling_res <Response [200]>\n",
      "lihjai a \n",
      "ggg http://3.145.140.55 2\n",
      "get notification url http://3.145.140.55/users/2/notifications/\n",
      "short_polling_res <Response [200]>\n",
      "lihjai a \n",
      "ggg http://3.145.140.55 2\n",
      "get notification url http://3.145.140.55/users/2/notifications/\n",
      "short_polling_res <Response [200]>\n",
      "lihjai a \n",
      "ggg http://3.145.140.55 2\n",
      "get notification url http://3.145.140.55/users/2/notifications/\n",
      "short_polling_res <Response [200]>\n",
      "lihjai a \n",
      "ggg http://3.145.140.55 2\n",
      "get notification url http://3.145.140.55/users/2/notifications/\n",
      "short_polling_res <Response [200]>\n",
      "lihjai a \n",
      "ggg http://3.145.140.55 2\n",
      "get notification url http://3.145.140.55/users/2/notifications/\n",
      "short_polling_res <Response [200]>\n",
      "lihjai a \n",
      "ggg http://3.145.140.55 2\n",
      "get notification url http://3.145.140.55/users/2/notifications/\n",
      "short_polling_res <Response [200]>\n",
      "lihjai a \n",
      "ggg http://3.145.140.55 2\n",
      "get notification url http://3.145.140.55/users/2/notifications/\n",
      "short_polling_res <Response [200]>\n",
      "lihjai a \n",
      "ggg http://3.145.140.55 2\n",
      "get notification url http://3.145.140.55/users/2/notifications/\n",
      "short_polling_res <Response [200]>\n",
      "lihjai a \n",
      "ggg http://3.145.140.55 2\n",
      "get notification url http://3.145.140.55/users/2/notifications/\n",
      "short_polling_res <Response [200]>\n",
      "lihjai a \n",
      "ggg http://3.145.140.55 2\n",
      "get notification url http://3.145.140.55/users/2/notifications/\n",
      "short_polling_res <Response [200]>\n",
      "lihjai a \n",
      "ggg http://3.145.140.55 2\n",
      "get notification url http://3.145.140.55/users/2/notifications/\n",
      "short_polling_res <Response [200]>\n",
      "lihjai a \n",
      "ggg http://3.145.140.55 2\n",
      "get notification url http://3.145.140.55/users/2/notifications/\n",
      "short_polling_res <Response [200]>\n",
      "lihjai a \n"
     ]
    },
    {
     "name": "stdout",
     "output_type": "stream",
     "text": [
      "ggg http://3.145.140.55 2\n",
      "get notification url http://3.145.140.55/users/2/notifications/\n",
      "short_polling_res <Response [200]>\n",
      "lihjai a \n",
      "ggg http://3.145.140.55 2\n",
      "get notification url http://3.145.140.55/users/2/notifications/\n",
      "short_polling_res <Response [200]>\n",
      "lihjai a \n",
      "ggg http://3.145.140.55 2\n",
      "get notification url http://3.145.140.55/users/2/notifications/\n",
      "short_polling_res <Response [200]>\n",
      "lihjai a \n",
      "ggg http://3.145.140.55 2\n",
      "get notification url http://3.145.140.55/users/2/notifications/\n",
      "short_polling_res <Response [200]>\n",
      "lihjai a \n",
      "ggg http://3.145.140.55 2\n",
      "get notification url http://3.145.140.55/users/2/notifications/\n",
      "short_polling_res <Response [200]>\n",
      "lihjai a \n",
      "ggg http://3.145.140.55 2\n",
      "get notification url http://3.145.140.55/users/2/notifications/\n",
      "short_polling_res <Response [200]>\n",
      "lihjai a \n",
      "ggg http://3.145.140.55 2\n",
      "get notification url http://3.145.140.55/users/2/notifications/\n",
      "short_polling_res <Response [200]>\n",
      "lihjai a \n",
      "ggg http://3.145.140.55 2\n",
      "get notification url http://3.145.140.55/users/2/notifications/\n",
      "short_polling_res <Response [200]>\n",
      "lihjai a \n",
      "ggg http://3.145.140.55 2\n",
      "get notification url http://3.145.140.55/users/2/notifications/\n",
      "short_polling_res <Response [200]>\n",
      "lihjai a \n",
      "ggg http://3.145.140.55 2\n",
      "get notification url http://3.145.140.55/users/2/notifications/\n",
      "short_polling_res <Response [200]>\n",
      "lihjai a \n",
      "ggg http://3.145.140.55 2\n",
      "get notification url http://3.145.140.55/users/2/notifications/\n",
      "short_polling_res <Response [200]>\n",
      "unread_request_notification {'check_dict': {'aa1dcc80-eda2-4433-a358-5703e941deff': 1}, 'info_dict': {'aa1dcc80-eda2-4433-a358-5703e941deff': {'metric_name': 'MAD_RMSE_R2', 'model_name': 'linear', 'task_mode': 'regression'}}}\n",
      "unread_match_identifier_notification {}\n",
      "unread_situation_notification {}\n",
      "unread_output_notification {}\n",
      "unread_test_request_notification {}\n",
      "unread_test_match_identifier_notification {}\n",
      "unread_test_output_notification {}\n",
      "default_mode auto\n",
      "sdfasdfsdfsf\n",
      "hash_id_file_address ['200', 'make_hash', '/Users/qile/Documents/Apollo_Package/synspot/synspot/personalinformation/2/task/aa1dcc80-eda2-4433-a358-5703e941deff/train/id/2.csv']\n",
      "hash_id_file_address ['200', 'make_hash', '/Users/qile/Documents/Apollo_Package/synspot/synspot/personalinformation/2/task/aa1dcc80-eda2-4433-a358-5703e941deff/train/id/2.csv']\n",
      "load_json_data match_assistor_id_res\n",
      "sss\n",
      "sss1\n",
      "json_data dict_keys(['stored', 'task_id'])\n",
      "key_value stored assistor match id stored\n",
      "Assistor: Training task_id:  aa1dcc80-eda2-4433-a358-5703e941deff  is running\n",
      "lihjai a \n",
      "ggg http://3.145.140.55 2\n",
      "get notification url http://3.145.140.55/users/2/notifications/\n",
      "short_polling_res <Response [200]>\n",
      "unread_request_notification {}\n",
      "unread_match_identifier_notification {'check_dict': {'aa1dcc80-eda2-4433-a358-5703e941deff': 0}}\n",
      "unread_situation_notification {'check_dict': {'aa1dcc80-eda2-4433-a358-5703e941deff': 0}, 'rounds_dict': {'aa1dcc80-eda2-4433-a358-5703e941deff': 1}}\n",
      "unread_output_notification {}\n",
      "unread_test_request_notification {}\n",
      "unread_test_match_identifier_notification {}\n",
      "unread_test_output_notification {}\n",
      "load_json_data assistor_get_match_id_file_res\n",
      "sss\n",
      "sss1\n",
      "json_data dict_keys(['match_id_file', 'sponsor_random_id'])\n",
      "key_value match_id_file None\n",
      "key_value sponsor_random_id None\n",
      "load_json_data assistor_get_match_id_file_res[\"match_id_file\"][0]\n",
      "sss\n",
      "sss1\n",
      "load_json_data assistor_get_match_id_file_res[\"sponsor_random_id\"][0]\n",
      "sss\n",
      "save_match_id_file_pos ['200', 'save_match_id', '/Users/qile/Documents/Apollo_Package/synspot/synspot/personalinformation/2/task/aa1dcc80-eda2-4433-a358-5703e941deff/train/id/89f8d31c-84a3-4385-a179-6b70c4ad0c6e.csv']\n",
      "55555\n",
      "66662\n",
      "make_match_idx_done ['200', 'make_match_idx', 'complete']\n",
      "Assistor: Training task_id:  aa1dcc80-eda2-4433-a358-5703e941deff  is running\n",
      "load_json_data assistor_get_situation_res\n",
      "sss\n",
      "sss1\n",
      "json_data dict_keys(['sender_random_id', 'situation'])\n",
      "key_value situation None\n",
      "key_value sender_random_id None\n",
      "load_json_data assistor_get_situation_res[\"situation\"]\n",
      "sss\n",
      "sss1\n",
      "load_json_data assistor_get_situation_res[\"sender_random_id\"]\n",
      "sss\n",
      "save_residual_pos ['200', 'save_residual', '/Users/qile/Documents/Apollo_Package/synspot/synspot/personalinformation/2/task/aa1dcc80-eda2-4433-a358-5703e941deff/train/round/1/residual/2.csv']\n",
      "55555\n",
      "key ('2', 'aa1dcc80-eda2-4433-a358-5703e941deff', 'train')\n",
      "defaultdict(<class 'dict'>, {'User_Assistor_Table': {'user_id': '2', 'task_id': 'aa1dcc80-eda2-4433-a358-5703e941deff', 'test_id': None, 'task_name': None, 'task_description': None, 'test_name': None, 'test_description': None, 'test_indicator': 'train', 'train_file_path': '/Users/qile/Documents/synspot_Data/data/BostonHousing/BostonHousing_2_123_1.0/1/all/dataset.csv', 'train_id_column': '1', 'train_data_column': '2-7', 'test_file_path': None, 'test_id_column': None, 'test_data_column': None, 'mode': 'auto', 'task_mode': 'regression', 'model_name': 'linear'}})\n",
      "get assistor table auto regression linear None None /Users/qile/Documents/synspot_Data/data/BostonHousing/BostonHousing_2_123_1.0/1/all/dataset.csv 1 2-7\n",
      "train_output ['200', 'make_train', '/Users/qile/Documents/Apollo_Package/synspot/synspot/personalinformation/2/task/aa1dcc80-eda2-4433-a358-5703e941deff/train/round/1/output/2.csv']\n",
      "ssssss\n",
      "load_json_data assistor_send_output_res\n",
      "sss\n",
      "sss1\n",
      "json_data dict_keys(['send_output'])\n",
      "key_value send_output send output successfully\n",
      "Assistor: Training task_id:  aa1dcc80-eda2-4433-a358-5703e941deff  is running\n",
      "lihjai a \n",
      "ggg http://3.145.140.55 2\n",
      "get notification url http://3.145.140.55/users/2/notifications/\n",
      "short_polling_res <Response [200]>\n",
      "unread_request_notification {}\n",
      "unread_match_identifier_notification {}\n",
      "unread_situation_notification {'check_dict': {'aa1dcc80-eda2-4433-a358-5703e941deff': 0}, 'rounds_dict': {'aa1dcc80-eda2-4433-a358-5703e941deff': 2}}\n",
      "unread_output_notification {}\n",
      "unread_test_request_notification {}\n",
      "unread_test_match_identifier_notification {}\n",
      "unread_test_output_notification {}\n",
      "load_json_data assistor_get_situation_res\n",
      "sss\n",
      "sss1\n",
      "json_data dict_keys(['sender_random_id', 'situation'])\n",
      "key_value situation None\n",
      "key_value sender_random_id None\n",
      "load_json_data assistor_get_situation_res[\"situation\"]\n",
      "sss\n",
      "sss1\n",
      "load_json_data assistor_get_situation_res[\"sender_random_id\"]\n",
      "sss\n",
      "save_residual_pos ['200', 'save_residual', '/Users/qile/Documents/Apollo_Package/synspot/synspot/personalinformation/2/task/aa1dcc80-eda2-4433-a358-5703e941deff/train/round/2/residual/2.csv']\n",
      "55555\n",
      "key ('2', 'aa1dcc80-eda2-4433-a358-5703e941deff', 'train')\n",
      "defaultdict(<class 'dict'>, {'User_Assistor_Table': {'user_id': '2', 'task_id': 'aa1dcc80-eda2-4433-a358-5703e941deff', 'test_id': None, 'task_name': None, 'task_description': None, 'test_name': None, 'test_description': None, 'test_indicator': 'train', 'train_file_path': '/Users/qile/Documents/synspot_Data/data/BostonHousing/BostonHousing_2_123_1.0/1/all/dataset.csv', 'train_id_column': '1', 'train_data_column': '2-7', 'test_file_path': None, 'test_id_column': None, 'test_data_column': None, 'mode': 'auto', 'task_mode': 'regression', 'model_name': 'linear'}})\n",
      "get assistor table auto regression linear None None /Users/qile/Documents/synspot_Data/data/BostonHousing/BostonHousing_2_123_1.0/1/all/dataset.csv 1 2-7\n",
      "train_output ['200', 'make_train', '/Users/qile/Documents/Apollo_Package/synspot/synspot/personalinformation/2/task/aa1dcc80-eda2-4433-a358-5703e941deff/train/round/2/output/2.csv']\n",
      "ssssss\n",
      "load_json_data assistor_send_output_res\n",
      "sss\n",
      "sss1\n",
      "json_data dict_keys(['send_output'])\n",
      "key_value send_output send output successfully\n",
      "Assistor: Training task_id:  aa1dcc80-eda2-4433-a358-5703e941deff  is running\n",
      "lihjai a \n",
      "ggg http://3.145.140.55 2\n",
      "get notification url http://3.145.140.55/users/2/notifications/\n",
      "short_polling_res <Response [200]>\n",
      "lihjai a \n",
      "ggg http://3.145.140.55 2\n",
      "get notification url http://3.145.140.55/users/2/notifications/\n",
      "short_polling_res <Response [200]>\n",
      "lihjai a \n",
      "ggg http://3.145.140.55 2\n",
      "get notification url http://3.145.140.55/users/2/notifications/\n",
      "short_polling_res <Response [200]>\n",
      "lihjai a \n",
      "ggg http://3.145.140.55 2\n",
      "get notification url http://3.145.140.55/users/2/notifications/\n",
      "short_polling_res <Response [200]>\n",
      "lihjai a \n",
      "ggg http://3.145.140.55 2\n",
      "get notification url http://3.145.140.55/users/2/notifications/\n",
      "short_polling_res <Response [200]>\n",
      "lihjai a \n"
     ]
    },
    {
     "name": "stdout",
     "output_type": "stream",
     "text": [
      "ggg http://3.145.140.55 2\n",
      "get notification url http://3.145.140.55/users/2/notifications/\n",
      "short_polling_res <Response [200]>\n",
      "lihjai a \n",
      "ggg http://3.145.140.55 2\n",
      "get notification url http://3.145.140.55/users/2/notifications/\n",
      "short_polling_res <Response [200]>\n",
      "lihjai a \n",
      "ggg http://3.145.140.55 2\n",
      "get notification url http://3.145.140.55/users/2/notifications/\n",
      "short_polling_res <Response [200]>\n",
      "lihjai a \n",
      "ggg http://3.145.140.55 2\n",
      "get notification url http://3.145.140.55/users/2/notifications/\n",
      "short_polling_res <Response [200]>\n",
      "lihjai a \n",
      "ggg http://3.145.140.55 2\n",
      "get notification url http://3.145.140.55/users/2/notifications/\n",
      "short_polling_res <Response [200]>\n",
      "unread_request_notification {}\n",
      "unread_match_identifier_notification {}\n",
      "unread_situation_notification {}\n",
      "unread_output_notification {}\n",
      "unread_test_request_notification {'check_dict': {'f27f358d-a995-4df6-80ae-7089985fbc85': 1}, 'info_dict': {'f27f358d-a995-4df6-80ae-7089985fbc85': {'metric_name': 'MAD_RMSE_R2', 'model_name': 'linear', 'task_mode': 'regression'}}, 'test_id_to_task_id': {'f27f358d-a995-4df6-80ae-7089985fbc85': 'aa1dcc80-eda2-4433-a358-5703e941deff'}}\n",
      "unread_test_match_identifier_notification {}\n",
      "unread_test_output_notification {}\n",
      "zhei 2 auto regression /Users/qile/Documents/synspot_Data/data/BostonHousing/BostonHousing_2_123_1.0/1/all/dataset.csv 1 2-7 linear\n",
      "sdfasdfsdfsf\n",
      "sssss\n",
      "test_hash_id_file_address ['200', 'make_hash', '/Users/qile/Documents/Apollo_Package/synspot/synspot/personalinformation/2/task/aa1dcc80-eda2-4433-a358-5703e941deff/test/f27f358d-a995-4df6-80ae-7089985fbc85/id/2.csv']\n",
      "load_json_data match_test_assistor_id_res\n",
      "sss\n",
      "sss1\n",
      "json_data dict_keys(['stored', 'test_id'])\n",
      "key_value test_id None\n",
      "key_value stored assistor test match id stored\n",
      "Assistor: Testing test_id:  f27f358d-a995-4df6-80ae-7089985fbc85  is running\n",
      "lihjai a \n",
      "ggg http://3.145.140.55 2\n",
      "get notification url http://3.145.140.55/users/2/notifications/\n",
      "short_polling_res <Response [200]>\n",
      "unread_request_notification {}\n",
      "unread_match_identifier_notification {}\n",
      "unread_situation_notification {}\n",
      "unread_output_notification {}\n",
      "unread_test_request_notification {}\n",
      "unread_test_match_identifier_notification {'check_dict': {'f27f358d-a995-4df6-80ae-7089985fbc85': 0}, 'max_rounds': {'f27f358d-a995-4df6-80ae-7089985fbc85': 2}, 'test_id_to_task_id': {'f27f358d-a995-4df6-80ae-7089985fbc85': 'aa1dcc80-eda2-4433-a358-5703e941deff'}}\n",
      "unread_test_output_notification {}\n",
      "load_json_data assistor_get_test_match_id_file_res\n",
      "sss\n",
      "sss1\n",
      "json_data dict_keys(['match_id_file', 'sponsor_random_id'])\n",
      "key_value match_id_file None\n",
      "key_value sponsor_random_id None\n",
      "load_json_data assistor_get_test_match_id_file_res[\"sponsor_random_id\"][0]\n",
      "sss\n",
      "load_json_data assistor_get_test_match_id_file_res[\"match_id_file\"][0]\n",
      "sss\n",
      "sss1\n",
      "test_save_match_id_file_pos ['200', 'save_match_id', '/Users/qile/Documents/Apollo_Package/synspot/synspot/personalinformation/2/task/aa1dcc80-eda2-4433-a358-5703e941deff/test/f27f358d-a995-4df6-80ae-7089985fbc85/id/12765903-b47d-4bbe-b683-3aff99ceaed0.csv']\n",
      "55555\n",
      "66662\n",
      "test_make_match_idx_done ['200', 'make_match_idx', 'complete']\n",
      "key ('2', 'f27f358d-a995-4df6-80ae-7089985fbc85', 'test')\n",
      "defaultdict(<class 'dict'>, {'User_Assistor_Table': {'user_id': '2', 'task_id': 'aa1dcc80-eda2-4433-a358-5703e941deff', 'test_id': 'f27f358d-a995-4df6-80ae-7089985fbc85', 'task_name': None, 'task_description': None, 'test_name': None, 'test_description': None, 'test_indicator': 'test', 'train_file_path': None, 'train_id_column': None, 'train_data_column': None, 'test_file_path': '/Users/qile/Documents/synspot_Data/data/BostonHousing/BostonHousing_2_123_1.0/1/all/dataset.csv', 'test_id_column': '1', 'test_data_column': '2-7', 'mode': 'auto', 'task_mode': 'regression', 'model_name': 'linear'}})\n",
      "model 1 <synspot.algorithm.models.Model object at 0x7ff4692f3850>\n",
      "output_path_i /Users/qile/Documents/Apollo_Package/synspot/synspot/personalinformation/2/task/aa1dcc80-eda2-4433-a358-5703e941deff/test/f27f358d-a995-4df6-80ae-7089985fbc85/round/1/output\n",
      "model 2 <synspot.algorithm.models.Model object at 0x7ff46058ca60>\n",
      "output_path_i /Users/qile/Documents/Apollo_Package/synspot/synspot/personalinformation/2/task/aa1dcc80-eda2-4433-a358-5703e941deff/test/f27f358d-a995-4df6-80ae-7089985fbc85/round/2/output\n",
      "test_done ['200', 'make_test', '{\"1\": [3.9349173891412064, -1.9659795709672605, -19.512879921042146, 6.836153602686472], \"2\": [-0.5250419324210818, -0.7583353815272863, -1.2374809016378545, -0.11017483453940065]}', '/Users/qile/Documents/Apollo_Package/synspot/synspot/personalinformation/2/task/aa1dcc80-eda2-4433-a358-5703e941deff/test/f27f358d-a995-4df6-80ae-7089985fbc85/round/1/output/2.csv', '/Users/qile/Documents/Apollo_Package/synspot/synspot/personalinformation/2/task/aa1dcc80-eda2-4433-a358-5703e941deff/test/f27f358d-a995-4df6-80ae-7089985fbc85/round/2/output/2.csv', \"[array([[ 3.92000000e+02,  3.54668060e-01, -2.83220592e-01, ...,\\n         3.09538660e-01,  1.53665180e+00,  1.84000000e+01],\\n       [ 1.80000000e+01,  4.24753663e-01,  3.53081671e+00, ...,\\n         1.19887646e+00, -7.47987192e-01,  2.17000000e+01],\\n       [ 2.54000000e+02,  4.42515815e-01, -2.83220592e-01, ...,\\n         1.39527765e+00,  9.84785528e-01,  1.28000000e+01],\\n       ...,\\n       [ 4.07000000e+02,  2.61898261e-01, -2.83220592e-01, ...,\\n        -3.50203375e-01, -4.65501556e-01,  1.82000000e+01],\\n       [ 4.11000000e+02,  3.72858216e-01,  3.53081671e+00, ...,\\n        -3.95845906e-01, -7.47987192e-01,  2.75000000e+01],\\n       [ 4.80000000e+02,  4.18654610e-01, -2.83220592e-01, ...,\\n         5.76478310e-01,  1.53665180e+00,  1.81000000e+01]]), '$$$$$$', [1, 2, 3, 4, 5, 6], '$$$$$$', array([[ 0.35466806, -0.28322059, -0.49292781,  0.94487952,  0.30953866,\\n         1.5366518 ],\\n       [ 0.42475366,  3.53081671, -0.49292781,  0.79802533,  1.19887646,\\n        -0.74798719],\\n       [ 0.44251582, -0.28322059, -0.49292781,  0.89115238,  1.39527765,\\n         0.98478553],\\n       ...,\\n       [ 0.26189826, -0.28322059, -0.49292781,  0.5544623 , -0.35020338,\\n        -0.46550156],\\n       [ 0.37285822,  3.53081671, -0.49292781,  0.31089927, -0.39584591,\\n        -0.74798719],\\n       [ 0.41865461, -0.28322059, -0.49292781,  1.04517018,  0.57647831,\\n         1.5366518 ]]), '$$$$$$', array([[ 4.35132752e-01, -2.83220592e-01,  4.10817233e-02,\\n        -1.70565935e+00, -6.48954486e-01, -7.66916642e-01],\\n       [ 3.54240056e-01, -2.83220592e-01,  3.61487442e-01,\\n        -9.64224832e-01,  2.87679408e-02, -6.37322716e-01],\\n       [-3.62833422e+00, -2.83220592e-01, -4.92927807e-01,\\n         1.10964274e+00,  1.08269547e+00,  9.84785528e-01],\\n       [ 4.42515815e-01, -2.83220592e-01,  3.61487442e-01,\\n        -1.88833163e+00, -8.57803642e-01, -6.37322716e-01],\\n       [-3.69407172e-01,  3.53081671e+00, -4.92927807e-01,\\n         9.66370371e-01,  3.21986623e-01,  1.20029003e+00],\\n       [ 3.23851794e-01, -2.83220592e-01, -4.92927807e-01,\\n        -1.31524214e+00, -4.71916791e-01, -1.08754231e-01],\\n       [-3.95233327e-02, -2.83220592e-01, -4.92927807e-01,\\n         9.26970469e-01,  1.19749335e+00,  1.20029003e+00],\\n       [ 3.62265125e-01, -2.83220592e-01, -4.92927807e-01,\\n        -1.09316997e+00, -8.35673930e-01, -8.95054457e-01],\\n       [ 4.42515815e-01, -2.83220592e-01, -4.92927807e-01,\\n         1.10964274e+00,  3.03979187e+00,  9.84785528e-01],\\n       [ 4.36095760e-01, -2.83220592e-01, -4.92927807e-01,\\n         7.65789051e-01, -1.48269754e-01, -2.09225926e-01],\\n       [ 3.88266349e-01, -2.83220592e-01, -4.92927807e-01,\\n         2.07727207e-02, -2.00827820e-01, -1.22996011e+00],\\n       [ 4.42515815e-01, -2.83220592e-01, -4.92927807e-01,\\n         3.53880984e-01, -5.05111359e-01, -6.21305489e-01],\\n       [ 3.35086891e-01, -2.83220592e-01,  3.61487442e-01,\\n         8.05188953e-01, -9.51854918e-01, -1.07270006e+00],\\n       [ 3.98003432e-01, -2.83220592e-01, -4.92927807e-01,\\n         5.90280397e-01,  8.30969997e-01, -6.44603274e-01],\\n       [ 4.11699550e-01, -2.83220592e-01,  1.00229888e+00,\\n        -1.45493270e+00, -5.00691579e-02, -7.68372754e-01],\\n       [-1.31550931e+00, -2.83220592e-01, -4.92927807e-01,\\n         4.64917072e-01,  2.06331833e+00, -4.65501556e-01],\\n       [ 4.42515815e-01, -2.83220592e-01, -4.92927807e-01,\\n        -6.84843708e-01, -7.04278766e-01, -5.76166032e-01],\\n       [ 3.78743267e-01, -2.83220592e-01,  2.92473319e+00,\\n        -1.40836918e+00, -9.40790062e-01, -1.35809792e+00],\\n       [ 3.92225383e-01, -2.83220592e-01,  2.92473319e+00,\\n        -1.10033358e+00, -8.53654321e-01, -1.42944739e+00],\\n       [ 4.42515815e-01, -2.83220592e-01, -4.92927807e-01,\\n        -4.41280677e-01,  2.72194772e-01,  9.84785528e-01],\\n       [ 4.16407591e-01, -2.83220592e-01, -4.92927807e-01,\\n        -2.23934894e+00, -7.40239548e-01, -6.44603274e-01],\\n       [ 4.42515815e-01, -2.83220592e-01, -4.92927807e-01,\\n        -7.52898084e-01, -4.38722223e-01, -9.96982264e-01],\\n       [ 4.23790654e-01, -2.83220592e-01, -4.92927807e-01,\\n        -4.37698867e-01, -6.01928848e-01, -9.96982264e-01],\\n       [ 3.01595603e-01, -2.83220592e-01, -4.92927807e-01,\\n        -2.23576713e+00, -8.39823251e-01, -7.67197773e-02],\\n       [ 4.29568704e-01, -2.83220592e-01, -4.92927807e-01,\\n         6.54752964e-01, -4.85747861e-01, -2.09225926e-01],\\n       [ 3.72858216e-01,  3.53081671e+00, -4.92927807e-01,\\n         3.10899273e-01, -3.95845906e-01, -7.47987192e-01],\\n       [-3.42931250e+00, -2.83220592e-01, -4.92927807e-01,\\n         1.10964274e+00,  1.16568189e+00,  9.84785528e-01],\\n       [ 2.31402999e-01, -2.83220592e-01, -4.92927807e-01,\\n        -2.25009436e+00, -7.26408478e-01, -7.67197773e-02],\\n       [-5.23634432e-02, -2.83220592e-01, -4.92927807e-01,\\n         7.90861716e-01,  1.93357673e-01,  9.84785528e-01],\\n       [ 4.42515815e-01, -2.83220592e-01, -4.92927807e-01,\\n         1.38972427e-01,  1.15461703e+00, -2.39804269e-01],\\n       [-1.80978550e-01, -2.83220592e-01, -4.92927807e-01,\\n         1.46136046e-01,  3.56564298e-01, -1.93208700e-01],\\n       [ 3.76603248e-01, -2.83220592e-01, -4.92927807e-01,\\n         4.39844407e-01, -1.68745900e-02,  9.84785528e-01],\\n       [-6.25460375e-01, -2.83220592e-01, -4.92927807e-01,\\n         9.69952180e-01, -2.34022388e-01,  1.20029003e+00],\\n       [ 4.42515815e-01, -2.83220592e-01, -4.92927807e-01,\\n         9.52043134e-01, -9.83666378e-01, -1.29257290e+00],\\n       [ 4.42515815e-01, -2.83220592e-01, -4.92927807e-01,\\n         7.33552768e-01,  2.65528812e+00,  9.84785528e-01],\\n       [ 3.68257176e-01, -2.83220592e-01, -4.92927807e-01,\\n        -3.33826398e-01, -5.72883601e-01, -1.37557126e+00],\\n       [-3.93696381e-01, -2.83220592e-01, -4.92927807e-01,\\n         1.10964274e+00,  3.08155553e-01,  9.84785528e-01],\\n       [ 4.28177692e-01, -2.83220592e-01, -4.92927807e-01,\\n         5.11480592e-01, -7.23642264e-01, -1.29257290e+00],\\n       [ 4.28926699e-01, -2.83220592e-01,  2.71112938e+00,\\n        -1.69133212e+00, -1.17176893e+00, -1.22122344e+00],\\n       [-5.57728792e-01, -2.83220592e-01, -4.92927807e-01,\\n         5.97444015e-01,  5.14238495e-01, -4.65501556e-01],\\n       [ 2.75808381e-01,  3.53081671e+00, -4.92927807e-01,\\n        -3.55317254e-01,  2.58363702e-01, -1.08754231e-01],\\n       [ 4.18654610e-01, -2.83220592e-01, -4.92927807e-01,\\n         1.04517018e+00,  5.76478310e-01,  1.53665180e+00],\\n       [ 4.18226606e-01, -2.83220592e-01, -4.92927807e-01,\\n        -8.31697888e-01, -1.36263769e+00, -1.33334403e+00],\\n       [ 1.13487984e-01, -2.83220592e-01, -4.92927807e-01,\\n         1.10964274e+00, -4.51170186e-01,  9.84785528e-01],\\n       [-2.91142805e+00, -2.83220592e-01, -4.92927807e-01,\\n         6.11771252e-01,  6.70529586e-01,  9.84785528e-01],\\n       [ 3.94365401e-01, -2.83220592e-01,  3.61487442e-01,\\n        -2.22790311e-01, -3.23924343e-01, -1.07270006e+00],\\n       [ 3.15719724e-01, -2.83220592e-01, -4.92927807e-01,\\n         3.32390128e-01, -1.19666486e+00, -7.47987192e-01],\\n       [ 4.42515815e-01, -2.83220592e-01,  2.92473319e+00,\\n        -1.47284175e+00, -1.30869652e+00, -9.30001133e-01],\\n       [ 4.24111657e-01, -2.83220592e-01,  2.92473319e+00,\\n        -1.78804097e+00, -4.89897182e-01, -1.12075174e+00],\\n       [ 4.42515815e-01, -2.83220592e-01, -4.92927807e-01,\\n        -5.80971239e-01, -9.42173169e-01, -2.09225926e-01],\\n       [ 4.28498695e-01, -2.83220592e-01, -4.92927807e-01,\\n         4.50589835e-01, -3.64034445e-01, -1.93208700e-01],\\n       [ 3.96826422e-01, -2.83220592e-01, -4.92927807e-01,\\n        -5.52316764e-01, -1.15378854e+00, -1.29257290e+00],\\n       [ 4.42515815e-01, -2.83220592e-01,  1.21590269e+00,\\n        -8.81843218e-01, -9.42173169e-01, -1.46876240e+00],\\n       [ 2.50449163e-01, -2.83220592e-01, -4.92927807e-01,\\n         4.94271949e-02, -1.22294389e+00, -7.47987192e-01],\\n       [ 4.03246478e-01, -2.83220592e-01, -4.92927807e-01,\\n        -7.81552559e-01, -3.70949980e-01, -1.06105117e+00],\\n       [-9.02807027e-03, -2.83220592e-01, -4.92927807e-01,\\n         6.76243819e-01, -7.84498971e-01,  9.84785528e-01],\\n       [ 4.16514592e-01, -2.83220592e-01, -4.92927807e-01,\\n         6.58334773e-01,  8.96246485e-02, -4.04344871e-01],\\n       [ 4.42515815e-01, -2.83220592e-01, -4.92927807e-01,\\n         1.06666103e+00,  1.16844810e+00,  9.84785528e-01],\\n       [ 4.42515815e-01, -2.83220592e-01, -4.92927807e-01,\\n         8.19516191e-01,  6.11055985e-01,  9.84785528e-01],\\n       [ 4.42515815e-01, -2.83220592e-01, -4.92927807e-01,\\n         4.21935360e-01, -6.79382840e-01,  8.63647140e-02],\\n       [ 4.42515815e-01, -2.83220592e-01,  4.10817233e-02,\\n        -1.15406072e+00,  4.12159037e-02, -7.66916642e-01],\\n       [ 2.61898261e-01, -2.83220592e-01, -4.92927807e-01,\\n         5.54462304e-01, -3.50203375e-01, -4.65501556e-01],\\n       [ 3.71895208e-01, -2.83220592e-01,  3.61487442e-01,\\n        -5.88134857e-01, -1.33220934e+00, -1.07270006e+00],\\n       [ 3.89336358e-01, -2.83220592e-01,  3.61487442e-01,\\n         1.10964274e+00, -8.14927325e-01, -1.07270006e+00],\\n       [ 4.42515815e-01, -2.83220592e-01, -4.92927807e-01,\\n        -2.33535738e-01, -9.13127922e-01, -1.22996011e+00],\\n       [ 4.42515815e-01, -2.83220592e-01, -4.92927807e-01,\\n         9.19806850e-01,  4.92108784e-01,  9.84785528e-01],\\n       [-1.88518222e+00, -2.83220592e-01, -4.92927807e-01,\\n         1.10964274e+00,  9.66514482e-01,  9.84785528e-01],\\n       [-2.71501594e-03, -2.83220592e-01, -4.92927807e-01,\\n         1.04517018e+00,  6.82977549e-01,  9.84785528e-01],\\n       [-3.34360477e+00, -2.83220592e-01, -4.92927807e-01,\\n         9.23388660e-01,  1.54741942e+00,  9.84785528e-01],\\n       [ 3.69862190e-01, -2.83220592e-01, -4.92927807e-01,\\n         1.06666103e+00,  7.30003186e-01,  2.38847704e+00],\\n       [ 2.91644517e-01, -2.83220592e-01,  2.92473319e+00,\\n        -1.68775031e+00, -6.55870021e-01, -1.37265904e+00],\\n       [ 3.83023304e-01,  3.53081671e+00, -4.92927807e-01,\\n         7.87279907e-01,  6.61118296e-02,  9.84785528e-01],\\n       [ 4.04637490e-01, -2.83220592e-01,  9.16857354e-01,\\n        -3.91135347e-01, -5.34156606e-01, -1.33334403e+00],\\n       [-5.64790853e-01, -2.83220592e-01, -4.92927807e-01,\\n         1.01651570e+00,  1.56401670e+00,  9.84785528e-01],\\n       [ 4.42515815e-01, -2.83220592e-01, -4.92927807e-01,\\n         9.19806850e-01,  7.67347075e-01,  1.53665180e+00],\\n       [ 4.26786680e-01,  3.53081671e+00, -4.92927807e-01,\\n         5.15062402e-01, -1.81464322e-01,  9.84785528e-01],\\n       [ 1.93845676e-01, -2.83220592e-01, -4.92927807e-01,\\n         1.96281375e-01, -1.13692080e-01,  2.17414752e-01],\\n       [ 3.09406670e-01, -2.83220592e-01,  3.35194081e+00,\\n        -1.17913339e+00, -1.14687300e+00, -1.35664181e+00],\\n       [-1.99314614e+00, -2.83220592e-01, -4.92927807e-01,\\n         1.10964274e+00,  5.33601993e-01,  1.20029003e+00],\\n       [ 4.29354702e-01, -2.83220592e-01, -4.92927807e-01,\\n         8.19516191e-01,  8.11606499e-01, -4.04344871e-01],\\n       [ 4.42515815e-01, -2.83220592e-01,  3.13833700e+00,\\n        -1.19346063e+00, -9.71218415e-01, -1.54302409e+00],\\n       [ 4.11164546e-01, -2.83220592e-01,  4.04208204e-01,\\n        -2.15626692e-01, -4.65001256e-01, -8.29529438e-01],\\n       [ 4.08061519e-01, -2.83220592e-01, -4.92927807e-01,\\n        -1.94564058e+00, -1.06665280e+00, -5.76166032e-01],\\n       [ 4.42515815e-01, -2.83220592e-01,  1.21590269e+00,\\n        -1.32240576e+00, -7.74817222e-01, -7.17408850e-01],\\n       [ 4.42515815e-01, -2.83220592e-01,  4.46928967e-01,\\n        -2.17129456e+00, -1.27965128e+00, -7.97494984e-01],\\n       [ 2.05080772e-01, -2.83220592e-01,  7.88695066e-01,\\n        -2.19278542e+00, -1.05143862e+00, -9.32913356e-01],\\n       [ 1.81326568e-01, -2.83220592e-01,  4.46928967e-01,\\n         2.67917561e-01, -4.03874089e-02, -7.97494984e-01],\\n       [ 4.42515815e-01, -2.83220592e-01, -4.92927807e-01,\\n        -3.76808110e-01, -4.84364754e-01, -8.95054457e-01],\\n       [ 4.42515815e-01, -2.83220592e-01, -4.92927807e-01,\\n        -5.37989527e-01, -1.08159652e-01, -2.39804269e-01],\\n       [-3.80535267e-01, -2.83220592e-01, -4.92927807e-01,\\n         9.41297706e-01,  4.02206829e-01,  9.84785528e-01],\\n       [ 4.42515815e-01, -2.83220592e-01, -4.92927807e-01,\\n         1.03442475e+00,  7.83944359e-01,  1.53665180e+00],\\n       [ 4.42515815e-01, -2.83220592e-01, -4.92927807e-01,\\n        -8.46025126e-01, -4.22124939e-01, -8.95054457e-01],\\n       [ 3.89871362e-01, -2.83220592e-01, -4.92927807e-01,\\n         1.06666103e+00,  5.98608022e-01,  9.84785528e-01],\\n       [ 4.42515815e-01, -2.83220592e-01, -4.92927807e-01,\\n        -1.67342307e+00, -2.65833849e-01, -1.08754231e-01],\\n       [ 4.16086588e-01, -2.83220592e-01, -4.92927807e-01,\\n         1.00218846e+00,  5.97224915e-01,  9.84785528e-01],\\n       [ 4.03353478e-01, -2.83220592e-01,  2.54685536e-01,\\n        -3.40990017e-01, -6.55870021e-01, -1.44983295e+00],\\n       [-7.12131121e-01, -2.83220592e-01, -4.92927807e-01,\\n        -1.16122434e+00, -1.52419075e-01, -4.65501556e-01],\\n       [-1.76951448e-02, -2.83220592e-01, -4.92927807e-01,\\n         1.10964274e+00, -8.79933354e-01,  1.20029003e+00],\\n       [-3.06657938e+00, -2.83220592e-01, -4.92927807e-01,\\n         6.76243819e-01,  2.93605884e+00,  9.84785528e-01],\\n       [ 4.08061519e-01, -2.83220592e-01,  9.16857354e-01,\\n        -1.00004292e+00, -8.10778004e-01, -1.33334403e+00],\\n       [ 3.48141003e-01, -2.83220592e-01, -4.92927807e-01,\\n         8.80406948e-01,  1.57231535e+00,  1.53665180e+00],\\n       [ 3.98966441e-01, -2.83220592e-01, -4.92927807e-01,\\n        -2.83681068e-01, -1.21187903e+00, -6.21305489e-01]]), '$$$$$$']\"]\n"
     ]
    },
    {
     "name": "stdout",
     "output_type": "stream",
     "text": [
      "load_json_data assistor_send_test_output_res\n",
      "sss\n",
      "sss1\n",
      "json_data dict_keys(['send_test_output'])\n",
      "key_value send_test_output send test output successfully\n",
      "Assistor: Testing test_id:  f27f358d-a995-4df6-80ae-7089985fbc85  is running\n",
      "lihjai a \n",
      "ggg http://3.145.140.55 2\n",
      "get notification url http://3.145.140.55/users/2/notifications/\n",
      "short_polling_res <Response [200]>\n",
      "lihjai a \n",
      "ggg http://3.145.140.55 2\n",
      "get notification url http://3.145.140.55/users/2/notifications/\n",
      "short_polling_res <Response [200]>\n",
      "lihjai a \n"
     ]
    }
   ],
   "source": [
    "synspot.start_Collaboration()"
   ]
  },
  {
   "cell_type": "markdown",
   "metadata": {},
   "source": [
    "Stop Collaboration\n",
    "-----------------\n",
    "\n",
    "You can call this function to not receiving any request from others.\n",
    "\n",
    "If it ends successfully, ``True`` will be returned."
   ]
  },
  {
   "cell_type": "code",
   "execution_count": 7,
   "metadata": {},
   "outputs": [
    {
     "name": "stdout",
     "output_type": "stream",
     "text": [
      "ggg http://127.0.0.1:5000 2\n",
      "get notification url http://127.0.0.1:5000/users/2/notifications/\n",
      "short_polling_res <Response [200]>\n",
      "True\n"
     ]
    }
   ],
   "source": [
    "end_Collaboration_res = synspot.end_Collaboration()\n",
    "print(end_Collaboration_res)"
   ]
  },
  {
   "cell_type": "markdown",
   "metadata": {},
   "source": [
    "User Logout\n",
    "-----------------\n",
    "\n",
    "You can call userLogout() to logout.\n",
    "\n",
    "* All the personal information and the database will be cleaned.\n",
    "* If you want to save the database to designated position, we offer the api in the following part."
   ]
  },
  {
   "cell_type": "code",
   "execution_count": null,
   "metadata": {
    "id": "EuWHRx7biWIU"
   },
   "outputs": [],
   "source": [
    "synspot.userLogout()"
   ]
  },
  {
   "cell_type": "markdown",
   "metadata": {
    "id": "h9GctVnQiWIU"
   },
   "source": [
    "--------------\n",
    "\n",
    "\n"
   ]
  },
  {
   "cell_type": "markdown",
   "metadata": {
    "id": "9k6f65DoiWIV"
   },
   "source": [
    "Some api to retrieve information stored in database\n",
    "---------------------------------------------------\n",
    "\n",
    "Get all task id of training as sponsor.\n",
    "``List`` will be returned."
   ]
  },
  {
   "cell_type": "code",
   "execution_count": null,
   "metadata": {},
   "outputs": [],
   "source": [
    "task_id_list = synspot.get_all_task_id_as_sponsor()\n",
    "print(task_id_list)"
   ]
  },
  {
   "cell_type": "markdown",
   "metadata": {},
   "source": [
    "Get all test id of testing as sponsor.\n",
    "``List`` will be returned."
   ]
  },
  {
   "cell_type": "code",
   "execution_count": null,
   "metadata": {},
   "outputs": [],
   "source": [
    "test_id_list = synspot.get_all_test_id_as_sponsor()\n",
    "print(test_id_list)"
   ]
  },
  {
   "cell_type": "markdown",
   "metadata": {},
   "source": [
    "Get all task id of training as assistor.\n",
    "``List`` will be returned."
   ]
  },
  {
   "cell_type": "code",
   "execution_count": null,
   "metadata": {},
   "outputs": [],
   "source": [
    "task_id_list = synspot.get_all_task_id_as_assistor()\n",
    "print(task_id_list)"
   ]
  },
  {
   "cell_type": "markdown",
   "metadata": {},
   "source": [
    "Get all task id of testing as assistor.\n",
    "``List`` will be returned."
   ]
  },
  {
   "cell_type": "code",
   "execution_count": null,
   "metadata": {},
   "outputs": [],
   "source": [
    "test_id_list = synspot.get_all_test_id_as_assistor()\n",
    "print(test_id_list)"
   ]
  },
  {
   "cell_type": "markdown",
   "metadata": {},
   "source": [
    "Get all task id of training.\n",
    "``List`` will be returned."
   ]
  },
  {
   "cell_type": "code",
   "execution_count": null,
   "metadata": {},
   "outputs": [],
   "source": [
    "task_id_list = synspot.get_all_task_id()\n",
    "print(task_id_list)"
   ]
  },
  {
   "cell_type": "markdown",
   "metadata": {},
   "source": [
    "Get all test id of testing.\n",
    "``List`` will be returned."
   ]
  },
  {
   "cell_type": "code",
   "execution_count": null,
   "metadata": {
    "id": "BpqB2WmMiWIV"
   },
   "outputs": [],
   "source": [
    "test_id_list = synspot.get_all_test_id()\n",
    "print(test_id_list)"
   ]
  },
  {
   "cell_type": "markdown",
   "metadata": {
    "id": "DqU9dn-kiWIV"
   },
   "source": [
    "To store the temporary database in the memory.\n",
    "\n",
    "If the temporary database has been stored successfully, ``True`` will be returned."
   ]
  },
  {
   "cell_type": "code",
   "execution_count": null,
   "metadata": {
    "id": "GL7nVUYQiWIV"
   },
   "outputs": [],
   "source": [
    "store_database_res = synspot.store_database(path=None, mode='pickle')\n",
    "print(store_database_res)"
   ]
  },
  {
   "cell_type": "markdown",
   "metadata": {
    "id": "hGhDiexNiWIW"
   },
   "source": [
    "--------------\n",
    "\n",
    "\n"
   ]
  }
 ],
 "metadata": {
  "colab": {
   "name": "data_tutorial.ipynb",
   "provenance": []
  },
  "kernelspec": {
   "display_name": "Python 3",
   "language": "python",
   "name": "python3"
  },
  "language_info": {
   "codemirror_mode": {
    "name": "ipython",
    "version": 3
   },
   "file_extension": ".py",
   "mimetype": "text/x-python",
   "name": "python",
   "nbconvert_exporter": "python",
   "pygments_lexer": "ipython3",
   "version": "3.8.8"
  }
 },
 "nbformat": 4,
 "nbformat_minor": 1
}
