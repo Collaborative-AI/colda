{
 "cells": [
  {
   "cell_type": "markdown",
   "metadata": {},
   "source": [
    "# Boston housing"
   ]
  },
  {
   "cell_type": "code",
   "execution_count": 1,
   "metadata": {},
   "outputs": [
    {
     "name": "stdout",
     "output_type": "stream",
     "text": [
      "test successfully\n",
      "test successfully\n"
     ]
    }
   ],
   "source": [
    "import colda\n",
    "\n",
    "\n",
    "test_function_res = colda.test_function()\n",
    "print(test_function_res)\n",
    "print(colda.test_network())"
   ]
  },
  {
   "cell_type": "code",
   "execution_count": 2,
   "metadata": {},
   "outputs": [
    {
     "name": "stdout",
     "output_type": "stream",
     "text": [
      "login successfully, current username is: testKaiwangke\n",
      "notification_category: {}\n",
      "cooperation starts\n",
      "Training train_id:  66b352e0-0d39-11ed-b3b3-06122533e29a\n",
      "Sponsor: Training train_id:  66b352e0-0d39-11ed-b3b3-06122533e29a  is running\n",
      "Sponsor stage 1: find assistor done\n"
     ]
    }
   ],
   "source": [
    "username = \"testKaiwangke\"\n",
    "email = \"wangkedaily@gmail.com\"\n",
    "password = \"1testWangke!\"\n",
    "colda.login(username, password)\n",
    "\n",
    "train_file_path = \"/home/ke/Package-main/package_Introduction/synspot_data/data/BostonHousing/BostonHousing_2_123_1.0/0/train/dataset.csv\"\n",
    "colda.start_cooperation()\n",
    "colda.call_for_train(\n",
    "    max_round=2, \n",
    "    assistors=['testKaiwangkeass'], \n",
    "    train_file_path=train_file_path,\n",
    "    train_id_column='1', \n",
    "    train_data_column='2-8', \n",
    "    train_target_column='9', \n",
    "    task_mode='regression', \n",
    "    model_name='linear', \n",
    "    metric_name='MAD_RMSE_R2', \n",
    "    task_name='demo_training', \n",
    "    task_description='colda Demo Training'  \n",
    ")"
   ]
  },
  {
   "cell_type": "code",
   "execution_count": 3,
   "metadata": {},
   "outputs": [
    {
     "name": "stdout",
     "output_type": "stream",
     "text": [
      "Testing test_id:  936acca0-0d39-11ed-b3b3-06122533e29a\n",
      "Sponsor: Testing test_id:  936acca0-0d39-11ed-b3b3-06122533e29a  is running\n",
      "Sponsor test stage 1: find assistor done\n"
     ]
    }
   ],
   "source": [
    "\n",
    "train_id = \"66b352e0-0d39-11ed-b3b3-06122533e29a\"\n",
    "test_file_path = \"/home/ke/Package-main/package_Introduction/synspot_data/data/BostonHousing/BostonHousing_2_123_1.0/0/test/dataset.csv\"\n",
    "colda.call_for_test(\n",
    "    train_id=train_id, \n",
    "    test_file_path=test_file_path, \n",
    "    test_id_column='1', \n",
    "    test_data_column='2-8', \n",
    "    test_target_column='9',  \n",
    "    test_name='demo_testing', \n",
    "    test_description='colda Demo Testing'\n",
    ")"
   ]
  },
  {
   "cell_type": "code",
   "execution_count": 4,
   "metadata": {},
   "outputs": [
    {
     "name": "stdout",
     "output_type": "stream",
     "text": [
      "algooo1 139675282998080\n",
      "defaultdict(<class 'list'>, {('62d08edcd5b94417700b4e9c', '66b352e0-0d39-11ed-b3b3-06122533e29a'): {'sponsor_trained_cooperative_model_output': {'rounds_1': array([[-8.290072653073505],\n",
      "       [-1.6707385612116754],\n",
      "       [-13.951309641905038],\n",
      "       [12.425088104698965]], dtype=object), 'rounds_2': array([[0.017023766668033583],\n",
      "       [0.016493815503842622],\n",
      "       [0.01554718330621087],\n",
      "       [0.034019484297626953]], dtype=object)}, 'assistor_trained_cooperative_model_output': {'rounds_1': array([[3.42302740892022],\n",
      "       [2.0224864621071394],\n",
      "       [0.7779993857169388],\n",
      "       [1.8808507911468149]], dtype=object), 'rounds_2': array([[-0.7890622744660751],\n",
      "       [-0.5957746819569383],\n",
      "       [0.18602403794745648],\n",
      "       [-0.48074134758695847]], dtype=object)}, 'make_result_alpha': {'rounds_1': array([0.98369408]), 'rounds_2': array([0.99659487])}, 'make_result_cooperative_model_output': {'rounds_1': array([[-5.232529320216069],\n",
      "       [-0.25738987346639575],\n",
      "       [-8.684619401225985],\n",
      "       [7.440810998994045]], dtype=object), 'rounds_2': array([[0.5245210627017347],\n",
      "       [0.0948050760283399],\n",
      "       [0.06985846246417586],\n",
      "       [-0.4592482415980722]], dtype=object)}, 'make_result': {'rounds_1': array([[17.30031661323914],\n",
      "       [22.194331856537783],\n",
      "       [13.904516021410496],\n",
      "       [29.767006516020942]], dtype=object), 'rounds_2': array([[17.823051614535913],\n",
      "       [22.288814109138563],\n",
      "       [13.974136606861736],\n",
      "       [29.309322073511108]], dtype=object)}}, ('62d08edcd5b94417700b4e9c', '936acca0-0d39-11ed-b3b3-06122533e29a'): {'make_test': defaultdict(<class 'list'>, {'rounds_1': [-15.621456914132308, -7.639779830838914, -3.1797518200402277, -3.7762602445518185], 'rounds_2': [-0.05970359450301494, -0.2929835510114861, -0.02522001447862033, 0.21355426378041006]}), 'make_eval': defaultdict(<class 'dict'>, {'rounds_1': {'MAD': 3.8507184602675566, 'RMSE': 5.793542113498159, 'R2': 0.3918214097488567}, 'rounds_2': {'MAD': 3.8665485160334425, 'RMSE': 5.770804961485366, 'R2': 0.39901390834379924}})}})\n"
     ]
    }
   ],
   "source": [
    "# task_id_list = colda.get_all_task_id_as_sponsor()\n",
    "# print(task_id_list)\n",
    "print(colda.get_all_algo_logs())\n",
    "# print(\"\\n\\n\\n\")"
   ]
  },
  {
   "cell_type": "code",
   "execution_count": 5,
   "metadata": {},
   "outputs": [
    {
     "name": "stdout",
     "output_type": "stream",
     "text": [
      "cooperation ends\n",
      "logout done\n"
     ]
    }
   ],
   "source": [
    "colda.end_cooperation()\n",
    "colda.logout()"
   ]
  },
  {
   "cell_type": "markdown",
   "metadata": {},
   "source": [
    "# KCHousing\n"
   ]
  },
  {
   "cell_type": "code",
   "execution_count": 4,
   "metadata": {},
   "outputs": [
    {
     "name": "stdout",
     "output_type": "stream",
     "text": [
      "test successfully\n",
      "test successfully\n",
      "login successfully, current username is: testKaiwangke\n",
      "try start training\n",
      "\n",
      "\n",
      "short polling has already started\n",
      "Training train_id:  5c602152-0d47-11ed-b3b3-06122533e29a\n",
      "Sponsor: Training train_id:  5c602152-0d47-11ed-b3b3-06122533e29a  is running\n",
      "Sponsor stage 1: find assistor done\n"
     ]
    }
   ],
   "source": [
    "import colda\n",
    "# colda.end_cooperation()\n",
    "# colda.logout()\n",
    "\n",
    "test_function_res = colda.test_function()\n",
    "print(test_function_res)\n",
    "print(colda.test_network())\n",
    "\n",
    "\n",
    "username = \"testKaiwangke\"\n",
    "email = \"wangkedaily@gmail.com\"\n",
    "password = \"1testWangke!\"\n",
    "colda.login(username, password)\n",
    "\n",
    "train_file_path = \"/home/ke/Package-main/package_Introduction/synspot_data/data/KCHousing/KCHousing_2_123_1.0/0/train/dataset.csv\"\n",
    "\n",
    "print(\"try start training\\n\\n\")    \n",
    "colda.start_cooperation()\n",
    "colda.call_for_train(\n",
    "    max_round=2, \n",
    "    assistors=['testKaiwangkeass'], \n",
    "    train_file_path=train_file_path,\n",
    "    train_id_column='1', \n",
    "    train_data_column='2-10', \n",
    "    train_target_column='11', \n",
    "    task_mode='regression', \n",
    "    model_name='linear', \n",
    "    metric_name='MAD_RMSE_R2', \n",
    "    task_name='kchousing_training', \n",
    "    task_description='kchousing_training demo'  \n",
    ")"
   ]
  },
  {
   "cell_type": "code",
   "execution_count": 2,
   "metadata": {},
   "outputs": [
    {
     "name": "stdout",
     "output_type": "stream",
     "text": [
      "Testing test_id:  3eb10b2a-0d39-11ed-bc59-06122533e29a\n",
      "Sponsor: Testing test_id:  3eb10b2a-0d39-11ed-bc59-06122533e29a  is running\n",
      "Sponsor test stage 1: find assistor done\n"
     ]
    }
   ],
   "source": [
    "train_id = \"5c602152-0d47-11ed-b3b3-06122533e29a\"\n",
    "test_file_path = \"/home/ke/Package-main/package_Introduction/synspot_data/data/BostonHousing/BostonHousing_2_123_1.0/0/test/dataset.csv\"\n",
    "colda.call_for_test(\n",
    "    train_id=train_id, \n",
    "    test_file_path=test_file_path, \n",
    "    test_id_column='1', \n",
    "    test_data_column='2-10', \n",
    "    test_target_column='11',  \n",
    "    test_name='demo_testing', \n",
    "    test_description='colda Demo Testing'\n",
    ")"
   ]
  },
  {
   "cell_type": "code",
   "execution_count": 3,
   "metadata": {},
   "outputs": [
    {
     "name": "stdout",
     "output_type": "stream",
     "text": [
      "algooo1 139911495429232\n",
      "defaultdict(<class 'list'>, {('62d08edcd5b94417700b4e9c', '0d706308-0d39-11ed-b3b3-06122533e29a'): {'sponsor_trained_cooperative_model_output': {'rounds_1': array([[80486.01703390571],\n",
      "       [-534309.591766527],\n",
      "       [-677690.4687664509],\n",
      "       [-64024.06957130612]], dtype=object), 'rounds_2': array([[-72799.16394302744],\n",
      "       [137654.2402232489],\n",
      "       [3260.6733836516155],\n",
      "       [-43770.87222847367]], dtype=object)}, 'assistor_trained_cooperative_model_output': {'rounds_1': array([[-6647.6539071612115],\n",
      "       [586818.9533879375],\n",
      "       [966856.5826685512],\n",
      "       [-516082.90849903296]], dtype=object), 'rounds_2': array([[-52602.666929873594],\n",
      "       [-20096.12810557023],\n",
      "       [20587.177122997447],\n",
      "       [-31119.589324221102]], dtype=object)}, 'make_result_alpha': {'rounds_1': array([0.57278281]), 'rounds_2': array([0.96860967])}, 'make_result_cooperative_model_output': {'rounds_1': array([[125761.49749385857],\n",
      "       [-487427.48469181755],\n",
      "       [-501347.31058640045],\n",
      "       [-152623.6732256308]], dtype=object), 'rounds_2': array([[-39257.527105758854],\n",
      "       [75584.65276751846],\n",
      "       [-18886.62748215565],\n",
      "       [14689.15357226201]], dtype=object)}, 'make_result': {'rounds_1': array([[611626.8521787598],\n",
      "       [260402.74544708373],\n",
      "       [252429.7084915617],\n",
      "       [452172.61253345094]], dtype=object), 'rounds_2': array([[573601.6316234235],\n",
      "       [333614.77136864956],\n",
      "       [234135.93839186302],\n",
      "       [466400.66879516415]], dtype=object)}}})\n"
     ]
    }
   ],
   "source": [
    "print(colda.get_all_algo_logs())"
   ]
  },
  {
   "cell_type": "markdown",
   "metadata": {},
   "source": [
    "# CreditCard"
   ]
  },
  {
   "cell_type": "code",
   "execution_count": 1,
   "metadata": {},
   "outputs": [
    {
     "name": "stdout",
     "output_type": "stream",
     "text": [
      "test successfully\n",
      "test successfully\n",
      "login successfully, current username is: testKaiwangke\n",
      "try start training\n",
      "\n",
      "\n",
      "notification_category: {}\n",
      "cooperation starts\n",
      "Training train_id:  109353de-0d47-11ed-b3b3-06122533e29a\n",
      "Sponsor: Training train_id:  109353de-0d47-11ed-b3b3-06122533e29a  is running\n",
      "Sponsor stage 1: find assistor done\n"
     ]
    }
   ],
   "source": [
    "import colda\n",
    "# colda.end_cooperation()\n",
    "# colda.logout()\n",
    "\n",
    "test_function_res = colda.test_function()\n",
    "print(test_function_res)\n",
    "print(colda.test_network())\n",
    "\n",
    "\n",
    "username = \"testKaiwangke\"\n",
    "email = \"wangkedaily@gmail.com\"\n",
    "password = \"1testWangke!\"\n",
    "colda.login(username, password)\n",
    "\n",
    "train_file_path = \"/home/ke/Package-main/package_Introduction/synspot_data/data/CreditCard/CreditCard_2_123_1.0/0/train/dataset.csv\"\n",
    "\n",
    "print(\"try start training\\n\\n\")    \n",
    "colda.start_cooperation()\n",
    "colda.call_for_train(\n",
    "    max_round=2, \n",
    "    assistors=['testKaiwangkeass'], \n",
    "    train_file_path=train_file_path,\n",
    "    train_id_column='1', \n",
    "    train_data_column='2-15', \n",
    "    train_target_column='16', \n",
    "    task_mode='regression', \n",
    "    model_name='linear', \n",
    "    metric_name='MAD_RMSE_R2', \n",
    "    task_name='CreditCard_training', \n",
    "    task_description='CreditCard_training demo'  \n",
    ")"
   ]
  },
  {
   "cell_type": "code",
   "execution_count": 2,
   "metadata": {},
   "outputs": [
    {
     "name": "stdout",
     "output_type": "stream",
     "text": [
      "Testing test_id:  34319a1c-0d47-11ed-b3b3-06122533e29a\n",
      "Sponsor: Testing test_id:  34319a1c-0d47-11ed-b3b3-06122533e29a  is running\n",
      "Sponsor test stage 1: find assistor done\n"
     ]
    }
   ],
   "source": [
    "train_id = \"109353de-0d47-11ed-b3b3-06122533e29a\"\n",
    "test_file_path = \"/home/ke/Package-main/package_Introduction/synspot_data/data/CreditCard/CreditCard_2_123_1.0/0/test/dataset.csv\"\n",
    "colda.call_for_test(\n",
    "    train_id=train_id, \n",
    "    test_file_path=test_file_path, \n",
    "    test_id_column='1', \n",
    "    test_data_column='2-15', \n",
    "    test_target_column='16',  \n",
    "    test_name='demo_testing', \n",
    "    test_description='colda Demo Testing'\n",
    ")"
   ]
  },
  {
   "cell_type": "code",
   "execution_count": 3,
   "metadata": {},
   "outputs": [
    {
     "name": "stdout",
     "output_type": "stream",
     "text": [
      "algooo1 140068087127536\n",
      "defaultdict(<class 'list'>, {('62d08edcd5b94417700b4e9c', '109353de-0d47-11ed-b3b3-06122533e29a'): {'sponsor_trained_cooperative_model_output': {'rounds_1': array([[1.3732971821379518],\n",
      "       [1.4962826367067499],\n",
      "       [-0.4124814877969877],\n",
      "       [1.2023876044190551]], dtype=object), 'rounds_2': array([[-0.0011320726236541407],\n",
      "       [-0.03375528112241879],\n",
      "       [-0.09395289898882445],\n",
      "       [-0.049366480204754204]], dtype=object)}, 'assistor_trained_cooperative_model_output': {'rounds_1': array([[1.7979853487839124],\n",
      "       [-1.3704281559623823],\n",
      "       [0.37018438144959176],\n",
      "       [-1.1485003526559476]], dtype=object), 'rounds_2': array([[0.1776425461794852],\n",
      "       [-0.13109210485726133],\n",
      "       [0.1041438301313459],\n",
      "       [-0.14708164260581258]], dtype=object)}, 'make_result_alpha': {'rounds_1': array([0.51396892]), 'rounds_2': array([0.91944529])}, 'make_result_cooperative_model_output': {'rounds_1': array([[1.1988562659515214],\n",
      "       [1.071382874281638],\n",
      "       [0.35562483886911017],\n",
      "       [1.0936126402648283]], dtype=object), 'rounds_2': array([[-0.03754152797038226],\n",
      "       [-0.10548541681626968],\n",
      "       [-0.1170459785029548],\n",
      "       [-0.03342903212687301]], dtype=object)}, 'make_result': {'rounds_1': array([[0.6161748588237652],\n",
      "       [0.5506574975297192],\n",
      "       [0.18278011393674376],\n",
      "       [0.5620829063175742]], dtype=object), 'rounds_2': array([[0.5816574777877714],\n",
      "       [0.453669427974842],\n",
      "       [0.07516274040030685],\n",
      "       [0.5313467402111204]], dtype=object)}}, ('62d08edcd5b94417700b4e9c', '34319a1c-0d47-11ed-b3b3-06122533e29a'): {'make_test': defaultdict(<class 'list'>, {'rounds_1': [1.327416030439378, 1.2226741639790588, -0.7427172693015283, -4.9113842416192846], 'rounds_2': [-0.057104300035375845, -0.02709418429565422, 0.14375653780462377, 0.03815661725259494]}), 'make_eval': defaultdict(<class 'dict'>, {'rounds_1': {'MAD': 0.1934727054621252, 'RMSE': 0.2498074618113345, 'R2': 0.9377995022242727}, 'rounds_2': {'MAD': 0.17568989653834471, 'RMSE': 0.22563589943480555, 'R2': 0.9483254049429486}})}})\n"
     ]
    }
   ],
   "source": [
    "print(colda.get_all_algo_logs())"
   ]
  },
  {
   "cell_type": "code",
   "execution_count": null,
   "metadata": {},
   "outputs": [],
   "source": []
  }
 ],
 "metadata": {
  "kernelspec": {
   "display_name": "Python 3.9.7 ('Package-main-iNXdNEYd')",
   "language": "python",
   "name": "python3"
  },
  "language_info": {
   "codemirror_mode": {
    "name": "ipython",
    "version": 3
   },
   "file_extension": ".py",
   "mimetype": "text/x-python",
   "name": "python",
   "nbconvert_exporter": "python",
   "pygments_lexer": "ipython3",
   "version": "3.9.7"
  },
  "orig_nbformat": 4,
  "vscode": {
   "interpreter": {
    "hash": "51d9b9bd6d4aea1fd215f2916c4f67b043d31d5d6075f7b2a982bc1174ab69dc"
   }
  }
 },
 "nbformat": 4,
 "nbformat_minor": 2
}
