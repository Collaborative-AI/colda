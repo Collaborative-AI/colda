{
 "cells": [
  {
   "cell_type": "code",
   "execution_count": null,
   "metadata": {
    "id": "3zqIWJP7iWIQ"
   },
   "outputs": [],
   "source": [
    "%matplotlib inline"
   ]
  },
  {
   "cell_type": "markdown",
   "metadata": {
    "id": "x9tK4Q4SiWIR"
   },
   "source": [
    "\n",
    "\n",
    "colda Quickstart\n",
    "===================\n",
    "\n",
    "\n"
   ]
  },
  {
   "cell_type": "markdown",
   "metadata": {
    "id": "z1ckYv_6iWIS"
   },
   "source": [
    "The purpose of this document is to familiarize the user with the easy-to-use Python API for the colda Project, as proposed by **Enmao Diao, Jie Ding, and Vahid Tarokh** \n",
    "\n",
    "colda provides ``6`` main modules. ``colda.network`` for Network issue, ``colda.algorithm`` to handle algorithms used in colda, ``colda.database`` to store the temporary information, ``colda.PI`` to store the personal information of current user, ``colda.authorization`` to check the authorization/authentication of user, and the serveral main files in colda to handle the collaboration process.\n",
    "\n",
    "There are two important roles in this package, ``sponsor`` and ``assistor``.\n",
    "\n",
    "* ``Sponsor`` initates the task and get help from others.\n",
    "* ``Assistor`` helps sponsor through the task."
   ]
  },
  {
   "cell_type": "markdown",
   "metadata": {},
   "source": [
    "Installing a Package\n",
    "-------------------\n",
    "\n"
   ]
  },
  {
   "cell_type": "code",
   "execution_count": null,
   "metadata": {},
   "outputs": [],
   "source": [
    "# python3 -m pip install colda"
   ]
  },
  {
   "cell_type": "code",
   "execution_count": 1,
   "metadata": {},
   "outputs": [
    {
     "name": "stdout",
     "output_type": "stream",
     "text": [
      "Processing ./colda-0.0.0-py3-none-any.whl\n",
      "Requirement already satisfied: typeguard in /opt/anaconda3/lib/python3.8/site-packages (from colda==0.0.0) (2.13.3)\n",
      "Requirement already satisfied: scikit-learn in /opt/anaconda3/lib/python3.8/site-packages (from colda==0.0.0) (1.0.2)\n",
      "Requirement already satisfied: pandas in /opt/anaconda3/lib/python3.8/site-packages (from colda==0.0.0) (1.2.4)\n",
      "Requirement already satisfied: matplotlib in /opt/anaconda3/lib/python3.8/site-packages (from colda==0.0.0) (3.3.4)\n",
      "Requirement already satisfied: torch in /opt/anaconda3/lib/python3.8/site-packages (from colda==0.0.0) (1.10.1)\n",
      "Requirement already satisfied: requests in /opt/anaconda3/lib/python3.8/site-packages (from colda==0.0.0) (2.25.1)\n",
      "Requirement already satisfied: numpy in /opt/anaconda3/lib/python3.8/site-packages (from colda==0.0.0) (1.20.1)\n",
      "Requirement already satisfied: scipy in /opt/anaconda3/lib/python3.8/site-packages (from colda==0.0.0) (1.6.2)\n",
      "Requirement already satisfied: pyparsing!=2.0.4,!=2.1.2,!=2.1.6,>=2.0.3 in /opt/anaconda3/lib/python3.8/site-packages (from matplotlib->colda==0.0.0) (2.4.7)\n",
      "Requirement already satisfied: python-dateutil>=2.1 in /opt/anaconda3/lib/python3.8/site-packages (from matplotlib->colda==0.0.0) (2.8.1)\n",
      "Requirement already satisfied: cycler>=0.10 in /opt/anaconda3/lib/python3.8/site-packages (from matplotlib->colda==0.0.0) (0.10.0)\n",
      "Requirement already satisfied: kiwisolver>=1.0.1 in /opt/anaconda3/lib/python3.8/site-packages (from matplotlib->colda==0.0.0) (1.3.1)\n",
      "Requirement already satisfied: pillow>=6.2.0 in /opt/anaconda3/lib/python3.8/site-packages (from matplotlib->colda==0.0.0) (8.2.0)\n",
      "Requirement already satisfied: six in /opt/anaconda3/lib/python3.8/site-packages (from cycler>=0.10->matplotlib->colda==0.0.0) (1.15.0)\n",
      "Requirement already satisfied: pytz>=2017.3 in /opt/anaconda3/lib/python3.8/site-packages (from pandas->colda==0.0.0) (2021.1)\n",
      "Requirement already satisfied: idna<3,>=2.5 in /opt/anaconda3/lib/python3.8/site-packages (from requests->colda==0.0.0) (2.10)\n",
      "Requirement already satisfied: certifi>=2017.4.17 in /opt/anaconda3/lib/python3.8/site-packages (from requests->colda==0.0.0) (2020.12.5)\n",
      "Requirement already satisfied: chardet<5,>=3.0.2 in /opt/anaconda3/lib/python3.8/site-packages (from requests->colda==0.0.0) (4.0.0)\n",
      "Requirement already satisfied: urllib3<1.27,>=1.21.1 in /opt/anaconda3/lib/python3.8/site-packages (from requests->colda==0.0.0) (1.26.4)\n",
      "Requirement already satisfied: threadpoolctl>=2.0.0 in /opt/anaconda3/lib/python3.8/site-packages (from scikit-learn->colda==0.0.0) (2.1.0)\n",
      "Requirement already satisfied: joblib>=0.11 in /opt/anaconda3/lib/python3.8/site-packages (from scikit-learn->colda==0.0.0) (1.0.1)\n",
      "Requirement already satisfied: typing-extensions in /opt/anaconda3/lib/python3.8/site-packages (from torch->colda==0.0.0) (3.7.4.3)\n",
      "colda is already installed with the same version as the provided wheel. Use --force-reinstall to force an installation of the wheel.\n"
     ]
    }
   ],
   "source": [
    "import os\n",
    "path=\"/Users/qile/Documents/synspot_all/colda/colda/dist\"\n",
    "os.chdir(path)\n",
    "os.listdir(path)\n",
    "!pip install colda-0.0.0-py3-none-any.whl"
   ]
  },
  {
   "cell_type": "markdown",
   "metadata": {},
   "source": [
    "Importing classes\n",
    "-------------------\n",
    "\n",
    "Run the following command to import colda. \n",
    "\n",
    "If you import successfully, ``test_fucntion_res`` should be 'test successfully'.\n"
   ]
  },
  {
   "cell_type": "code",
   "execution_count": 2,
   "metadata": {},
   "outputs": [
    {
     "name": "stdout",
     "output_type": "stream",
     "text": [
      "test successfully\n"
     ]
    }
   ],
   "source": [
    "import colda\n",
    "\n",
    "test_function_res = colda.test_function()\n",
    "print(test_function_res)"
   ]
  },
  {
   "cell_type": "markdown",
   "metadata": {
    "id": "r6nqLPiyiWIS"
   },
   "source": [
    "Loading a Dataset\n",
    "-------------------\n",
    "\n",
    "BostonHousing contains information collected by the U.S Census Service concerning housing in the area of Boston Mass. It was obtained from the StatLib archive (http://lib.stat.cmu.edu/datasets/boston), and has been used extensively throughout the literature to benchmark algorithms. \n",
    "\n",
    "BostonHousing will be used in this tutorial. The dataset is small in size with only 506 cases. There are 14 attributes in each case of the dataset. "
   ]
  },
  {
   "cell_type": "code",
   "execution_count": null,
   "metadata": {
    "id": "bgdaWZjpiWIT"
   },
   "outputs": [],
   "source": [
    "# not needed now\n"
   ]
  },
  {
   "cell_type": "markdown",
   "metadata": {
    "id": "ITUrW8P-iWIT"
   },
   "source": [
    "User Registeration\n",
    "-----------------\n",
    "\n",
    "First step is registering your own account. \n",
    "\n",
    "1. If username, email and the password meet the requirements, ``True`` will be returned.\n",
    "2. If the any one of the username, email and the password does not meet the requirement, ``False`` will be returned and the instruction information will be printed in the terminal."
   ]
  },
  {
   "cell_type": "code",
   "execution_count": null,
   "metadata": {
    "id": "fWbZcEuoiWIT"
   },
   "outputs": [],
   "source": [
    "import colda\n",
    "colda.register(username: str, email: str, password: str)"
   ]
  },
  {
   "cell_type": "markdown",
   "metadata": {},
   "source": [
    "User Login\n",
    "-----------------\n",
    "\n",
    "Login your account with userLogin function. ``True`` will be returned if you login successfully, otherwise ``False``. \n",
    "\n",
    "Here we offer a pre-registered account for the simple demo."
   ]
  },
  {
   "cell_type": "code",
   "execution_count": 3,
   "metadata": {},
   "outputs": [
    {
     "name": "stdout",
     "output_type": "stream",
     "text": [
      "login successfully, current username is: xie2\n"
     ]
    }
   ],
   "source": [
    "import colda\n",
    "colda.login(username='xie2', password='Xie2@123')"
   ]
  },
  {
   "cell_type": "markdown",
   "metadata": {},
   "source": [
    "Set default information\n",
    "-----------------\n",
    "\n",
    "Set the default information for later usage as assistor.\n",
    "\n",
    "* This function must be set if you want to be assistor.\n",
    "* Please fill in the ``default_file_path`` with the your own local data path.\n",
    "* ``store default info done`` will be printed out if you set default information successfully. "
   ]
  },
  {
   "cell_type": "code",
   "execution_count": 4,
   "metadata": {},
   "outputs": [
    {
     "name": "stdout",
     "output_type": "stream",
     "text": [
      "store default info done\n"
     ]
    }
   ],
   "source": [
    "default_file_path = '/Users/qile/Documents/synspot_all/synspot_Data/data/BostonHousing/BostonHousing_2_123_1.0/1/all/dataset.csv'\n",
    "colda.set_default_info(\n",
    "    default_mode='auto', \n",
    "    default_task_mode='regression', \n",
    "    default_model_name='linear', \n",
    "    default_file_path=default_file_path,\n",
    "    default_id_column='1', \n",
    "    default_data_column='2-7'\n",
    ")"
   ]
  },
  {
   "cell_type": "markdown",
   "metadata": {},
   "source": [
    "Start Cooperation\n",
    "-----------------\n",
    "\n",
    "You can call this function to cooperate with others."
   ]
  },
  {
   "cell_type": "code",
   "execution_count": 5,
   "metadata": {},
   "outputs": [
    {
     "name": "stdout",
     "output_type": "stream",
     "text": [
      "notification_category: {}\n",
      "cooperation starts\n",
      "notification_category: {'unread_request': {'train_id_dicts': {'817349ca-0256-11ed-844f-06122533e29a': {'cur_rounds_num': 1, 'role': 'assistor', 'sender_random_id': '81917710-0256-11ed-844f-06122533e29a'}}}}\n",
      "Assistor: Training train_id:  817349ca-0256-11ed-844f-06122533e29a  is running\n",
      "Assistor stage 1: request done\n",
      "notification_category: {'unread_match_identifier': {'train_id_dicts': {'817349ca-0256-11ed-844f-06122533e29a': {'cur_rounds_num': 1, 'role': 'assistor', 'sender_random_id': '81917710-0256-11ed-844f-06122533e29a'}}}, 'unread_situation': {'train_id_dicts': {'817349ca-0256-11ed-844f-06122533e29a': {'cur_rounds_num': 1, 'role': 'assistor', 'sender_random_id': '81917710-0256-11ed-844f-06122533e29a'}}}}\n",
      "Assistor: Training train_id: 817349ca-0256-11ed-844f-06122533e29a is running\n",
      "Assistor stage 2: match identifier done\n",
      "async: assistor_matched_identifer\n",
      "Assistor: Training train_id: 817349ca-0256-11ed-844f-06122533e29a is running\n",
      "Assistor stage 3: situation done\n",
      "notification_category: {'unread_situation': {'train_id_dicts': {'817349ca-0256-11ed-844f-06122533e29a': {'cur_rounds_num': 2, 'role': 'assistor', 'sender_random_id': '81917710-0256-11ed-844f-06122533e29a'}}}}\n",
      "async: assistor_matched_identifer\n",
      "Assistor: Training train_id: 817349ca-0256-11ed-844f-06122533e29a is running\n",
      "Assistor stage 3: situation done\n",
      "notification_category: {}\n",
      "notification_category: {'unread_test_request': {'test_id_dicts': {'990db070-0256-11ed-844f-06122533e29a': {'cur_rounds_num': 1, 'role': 'assistor', 'sender_random_id': '9926c9ac-0256-11ed-844f-06122533e29a', 'train_id': '817349ca-0256-11ed-844f-06122533e29a'}}}}\n",
      "Assistor: Testing test_id: 990db070-0256-11ed-844f-06122533e29a is running\n",
      "Sponsor test stage 1: request done\n",
      "notification_category: {'unread_test_match_identifier': {'test_id_dicts': {'990db070-0256-11ed-844f-06122533e29a': {'cur_rounds_num': 1, 'role': 'assistor', 'sender_random_id': '9926c9ac-0256-11ed-844f-06122533e29a', 'train_id': '817349ca-0256-11ed-844f-06122533e29a'}}}}\n",
      "Assistor: Testing test_id: 990db070-0256-11ed-844f-06122533e29a is running\n",
      "Sponsor test stage 2: match identifier done\n",
      "notification_category: {}\n"
     ]
    }
   ],
   "source": [
    "colda.start_cooperation()"
   ]
  },
  {
   "cell_type": "markdown",
   "metadata": {},
   "source": [
    "Check algorithm results\n",
    "-----------------\n",
    "\n",
    "You can call this function to print out all results\n",
    "produced by algorithm part."
   ]
  },
  {
   "cell_type": "code",
   "execution_count": null,
   "metadata": {},
   "outputs": [],
   "source": [
    "import colda\n",
    "print(colda.get_all_algo_logs())"
   ]
  },
  {
   "cell_type": "markdown",
   "metadata": {},
   "source": [
    "Stop Cooperation\n",
    "-----------------\n",
    "\n",
    "You can call this function to not receiving any request from others.\n",
    "\n",
    "If it ends successfully, ``cooperation ends`` will be printed."
   ]
  },
  {
   "cell_type": "code",
   "execution_count": 6,
   "metadata": {},
   "outputs": [
    {
     "name": "stdout",
     "output_type": "stream",
     "text": [
      "cooperation ends\n",
      "short polling has already stoped\n"
     ]
    }
   ],
   "source": [
    "colda.end_cooperation()"
   ]
  },
  {
   "cell_type": "markdown",
   "metadata": {},
   "source": [
    "User Logout\n",
    "-----------------\n",
    "\n",
    "You can call userLogout() to logout.\n",
    "\n",
    "* All the personal information and the database will be cleaned.\n",
    "* If you want to save the database to designated position, we offer the api in the following part.\n",
    "* If logout successfully, ``logout done`` will be printed."
   ]
  },
  {
   "cell_type": "code",
   "execution_count": null,
   "metadata": {
    "id": "EuWHRx7biWIU"
   },
   "outputs": [],
   "source": [
    "colda.logout()"
   ]
  },
  {
   "cell_type": "markdown",
   "metadata": {
    "id": "h9GctVnQiWIU"
   },
   "source": [
    "--------------\n",
    "\n",
    "\n"
   ]
  },
  {
   "cell_type": "markdown",
   "metadata": {
    "id": "9k6f65DoiWIV"
   },
   "source": [
    "Some api to retrieve information stored in database\n",
    "---------------------------------------------------\n",
    "\n",
    "Get all task id of training as sponsor.\n",
    "``List`` will be returned."
   ]
  },
  {
   "cell_type": "code",
   "execution_count": null,
   "metadata": {},
   "outputs": [],
   "source": [
    "train_id_list = colda.get_all_train_id_as_sponsor()\n",
    "print(train_id_list)"
   ]
  },
  {
   "cell_type": "markdown",
   "metadata": {},
   "source": [
    "Get all test id of testing as sponsor.\n",
    "``List`` will be returned."
   ]
  },
  {
   "cell_type": "code",
   "execution_count": null,
   "metadata": {},
   "outputs": [],
   "source": [
    "test_id_list = colda.get_all_test_id_as_sponsor()\n",
    "print(test_id_list)"
   ]
  },
  {
   "cell_type": "markdown",
   "metadata": {},
   "source": [
    "Get all task id of training as assistor.\n",
    "``List`` will be returned."
   ]
  },
  {
   "cell_type": "code",
   "execution_count": null,
   "metadata": {},
   "outputs": [],
   "source": [
    "train_id_list = colda.get_all_train_id_as_assistor()\n",
    "print(train_id_list)"
   ]
  },
  {
   "cell_type": "markdown",
   "metadata": {},
   "source": [
    "Get all task id of testing as assistor.\n",
    "``List`` will be returned."
   ]
  },
  {
   "cell_type": "code",
   "execution_count": null,
   "metadata": {},
   "outputs": [],
   "source": [
    "test_id_list = colda.get_all_test_id_as_assistor()\n",
    "print(test_id_list)"
   ]
  },
  {
   "cell_type": "markdown",
   "metadata": {},
   "source": [
    "Get all task id of training.\n",
    "``List`` will be returned."
   ]
  },
  {
   "cell_type": "code",
   "execution_count": null,
   "metadata": {},
   "outputs": [],
   "source": [
    "train_id_list = colda.get_all_train_id()\n",
    "print(train_id_list)"
   ]
  },
  {
   "cell_type": "markdown",
   "metadata": {},
   "source": [
    "Get all test id of testing.\n",
    "``List`` will be returned."
   ]
  },
  {
   "cell_type": "code",
   "execution_count": null,
   "metadata": {
    "id": "BpqB2WmMiWIV"
   },
   "outputs": [],
   "source": [
    "test_id_list = colda.get_all_test_id()\n",
    "print(test_id_list)"
   ]
  },
  {
   "cell_type": "markdown",
   "metadata": {
    "id": "DqU9dn-kiWIV"
   },
   "source": [
    "To store the temporary database in the memory.\n",
    "\n",
    "If the temporary database has been stored successfully, ``True`` will be returned."
   ]
  },
  {
   "cell_type": "code",
   "execution_count": null,
   "metadata": {
    "id": "GL7nVUYQiWIV"
   },
   "outputs": [],
   "source": [
    "store_database_res = colda.store_database(path=None, mode='pickle')\n",
    "print(store_database_res)"
   ]
  },
  {
   "cell_type": "markdown",
   "metadata": {
    "id": "hGhDiexNiWIW"
   },
   "source": [
    "--------------\n",
    "\n",
    "\n"
   ]
  }
 ],
 "metadata": {
  "colab": {
   "name": "data_tutorial.ipynb",
   "provenance": []
  },
  "kernelspec": {
   "display_name": "Python 3",
   "language": "python",
   "name": "python3"
  },
  "language_info": {
   "codemirror_mode": {
    "name": "ipython",
    "version": 3
   },
   "file_extension": ".py",
   "mimetype": "text/x-python",
   "name": "python",
   "nbconvert_exporter": "python",
   "pygments_lexer": "ipython3",
   "version": "3.8.8"
  }
 },
 "nbformat": 4,
 "nbformat_minor": 1
}
